{
 "cells": [
  {
   "cell_type": "markdown",
   "metadata": {},
   "source": [
    "# Question 10:\n",
    "Write a program to count the number of verbs, nouns, pronouns, and adjectives in a given particular phrase or paragraph, and return their respective count as a dictionary.\n",
    "\n",
    "Note:\n",
    "* Write code comments wherever required for code\n",
    "* You have to write at least 2 additional test cases in which your program will run successfully and provide an explanation for the same."
   ]
  },
  {
   "cell_type": "markdown",
   "metadata": {},
   "source": [
    "### Code:"
   ]
  },
  {
   "cell_type": "code",
   "execution_count": 15,
   "metadata": {},
   "outputs": [
    {
     "name": "stdout",
     "output_type": "stream",
     "text": [
      "Enter a sentence:\tThe cat is sitting on the mat. It is very cute.\n",
      "{'Nouns': 2, 'Pronouns': 1, 'Verbs': 3, 'Adjectives': 1}\n"
     ]
    }
   ],
   "source": [
    "from textblob import TextBlob\n",
    "\n",
    "def count_parts_of_speech(text:str)-> dict:\n",
    "    '''\n",
    "    Takes a string and returns frequency of Verbs, Nouns, Pronouns and Adjectives in the form of a dictionary\n",
    "    params:\n",
    "        text: (str) input string\n",
    "    returns:\n",
    "        dictionary of pos counts\n",
    "    '''\n",
    "    blob = TextBlob(text)             # fitting textblob object to given text\n",
    "\n",
    "    verb_count = 0\n",
    "    noun_count = 0\n",
    "    pronoun_count = 0\n",
    "    adjective_count = 0\n",
    "\n",
    "    pos_tags = blob.tags              # tagging different parts of speech\n",
    "\n",
    "    for word, pos in pos_tags:\n",
    "        if pos.startswith('VB'):\n",
    "            verb_count += 1\n",
    "        elif pos.startswith('NN'):\n",
    "            noun_count += 1\n",
    "        elif pos.startswith('PRP'):\n",
    "            pronoun_count += 1\n",
    "        elif pos.startswith('JJ'):\n",
    "            adjective_count += 1\n",
    "\n",
    "    pos_counts = {\n",
    "        'Nouns': noun_count,\n",
    "        'Pronouns': pronoun_count,\n",
    "        'Verbs': verb_count,\n",
    "        'Adjectives': adjective_count\n",
    "    }\n",
    "\n",
    "    return pos_counts\n",
    "\n",
    "if __name__ == \"__main__\":\n",
    "    text = input ('Enter a sentence:\\t')\n",
    "    print(count_parts_of_speech(text))"
   ]
  },
  {
   "cell_type": "markdown",
   "metadata": {},
   "source": [
    "#### Explanation\n",
    "* **Nouns**: 'cat', 'mat'\n",
    "* **Pronouns**: 'It'\n",
    "* **Verbs**: 'is', 'sitting', 'is'\n",
    "* **Adjectives**: 'cute'"
   ]
  },
  {
   "cell_type": "markdown",
   "metadata": {},
   "source": [
    "### Test Case 1:"
   ]
  },
  {
   "cell_type": "code",
   "execution_count": 16,
   "metadata": {},
   "outputs": [
    {
     "name": "stdout",
     "output_type": "stream",
     "text": [
      "Enter a sentence:\tMy name is Viresh\n",
      "{'Nouns': 2, 'Pronouns': 1, 'Verbs': 1, 'Adjectives': 0}\n"
     ]
    }
   ],
   "source": [
    "text = input ('Enter a sentence:\\t')\n",
    "print(count_parts_of_speech(text))"
   ]
  },
  {
   "cell_type": "markdown",
   "metadata": {},
   "source": [
    "#### Explanation\n",
    "* **Nouns**: 'name', 'Viresh'\n",
    "* **Pronouns**: 'My'\n",
    "* **Verbs**: 'is'\n",
    "* **Adjectives**: --"
   ]
  },
  {
   "cell_type": "markdown",
   "metadata": {},
   "source": [
    "### Test Case 2:"
   ]
  },
  {
   "cell_type": "code",
   "execution_count": 17,
   "metadata": {},
   "outputs": [
    {
     "name": "stdout",
     "output_type": "stream",
     "text": [
      "Enter a sentence:\tLearning Python is easy\n",
      "{'Nouns': 1, 'Pronouns': 0, 'Verbs': 2, 'Adjectives': 1}\n"
     ]
    }
   ],
   "source": [
    "text = input ('Enter a sentence:\\t')\n",
    "print(count_parts_of_speech(text))"
   ]
  },
  {
   "cell_type": "markdown",
   "metadata": {},
   "source": [
    "#### Explanation\n",
    "* **Nouns**: 'Python'\n",
    "* **Pronouns**: --\n",
    "* **Verbs**: 'Learning', 'is'\n",
    "* **Adjectives**: 'easy'"
   ]
  }
 ],
 "metadata": {
  "kernelspec": {
   "display_name": "Python 3",
   "language": "python",
   "name": "python3"
  },
  "language_info": {
   "codemirror_mode": {
    "name": "ipython",
    "version": 3
   },
   "file_extension": ".py",
   "mimetype": "text/x-python",
   "name": "python",
   "nbconvert_exporter": "python",
   "pygments_lexer": "ipython3",
   "version": "3.8.5"
  }
 },
 "nbformat": 4,
 "nbformat_minor": 4
}
