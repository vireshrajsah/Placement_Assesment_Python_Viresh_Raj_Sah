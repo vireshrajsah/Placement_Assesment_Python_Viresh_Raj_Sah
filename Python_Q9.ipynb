{
 "cells": [
  {
   "cell_type": "markdown",
   "metadata": {},
   "source": [
    "# Question 9:\n",
    "Write a program to read the data from the following link, perform data analysis and answer the following questions:\n",
    "\n",
    "Link - https://data.wa.gov/api/views/f6w7-q2d2/rows.csv?accessType=DOWNLOAD\n",
    "\n",
    "Insights to be drawn:\n",
    "* Get all the cars and their types that do not qualify for clean alternative fuel vehicle\n",
    "* Get all TESLA cars with the model year, and model type made in Bothell City.\n",
    "* Get all the cars that have an electric range of more than 100, and were made after 2015\n",
    "* Draw plots to show the distribution between city and electric vehicle type\n"
   ]
  },
  {
   "cell_type": "code",
   "execution_count": 23,
   "metadata": {},
   "outputs": [
    {
     "data": {
      "text/html": [
       "        <script type=\"text/javascript\">\n",
       "        window.PlotlyConfig = {MathJaxConfig: 'local'};\n",
       "        if (window.MathJax && window.MathJax.Hub && window.MathJax.Hub.Config) {window.MathJax.Hub.Config({SVG: {font: \"STIX-Web\"}});}\n",
       "        if (typeof require !== 'undefined') {\n",
       "        require.undef(\"plotly\");\n",
       "        requirejs.config({\n",
       "            paths: {\n",
       "                'plotly': ['https://cdn.plot.ly/plotly-2.18.0.min']\n",
       "            }\n",
       "        });\n",
       "        require(['plotly'], function(Plotly) {\n",
       "            window._Plotly = Plotly;\n",
       "        });\n",
       "        }\n",
       "        </script>\n",
       "        "
      ]
     },
     "metadata": {},
     "output_type": "display_data"
    },
    {
     "data": {
      "text/html": [
       "        <script type=\"text/javascript\">\n",
       "        window.PlotlyConfig = {MathJaxConfig: 'local'};\n",
       "        if (window.MathJax && window.MathJax.Hub && window.MathJax.Hub.Config) {window.MathJax.Hub.Config({SVG: {font: \"STIX-Web\"}});}\n",
       "        if (typeof require !== 'undefined') {\n",
       "        require.undef(\"plotly\");\n",
       "        requirejs.config({\n",
       "            paths: {\n",
       "                'plotly': ['https://cdn.plot.ly/plotly-2.18.0.min']\n",
       "            }\n",
       "        });\n",
       "        require(['plotly'], function(Plotly) {\n",
       "            window._Plotly = Plotly;\n",
       "        });\n",
       "        }\n",
       "        </script>\n",
       "        "
      ]
     },
     "metadata": {},
     "output_type": "display_data"
    }
   ],
   "source": [
    "import pandas as pd\n",
    "import seaborn as sns\n",
    "import matplotlib.pyplot as plt\n",
    "import cufflinks as cf\n",
    "import plotly.offline as pyo\n",
    "pyo.init_notebook_mode(connected=True)\n",
    "cf.go_offline()\n",
    "\n",
    "from warnings import filterwarnings\n",
    "filterwarnings('ignore')"
   ]
  },
  {
   "cell_type": "markdown",
   "metadata": {},
   "source": [
    "# Reading Data"
   ]
  },
  {
   "cell_type": "code",
   "execution_count": 10,
   "metadata": {},
   "outputs": [
    {
     "data": {
      "text/html": [
       "<div>\n",
       "<style scoped>\n",
       "    .dataframe tbody tr th:only-of-type {\n",
       "        vertical-align: middle;\n",
       "    }\n",
       "\n",
       "    .dataframe tbody tr th {\n",
       "        vertical-align: top;\n",
       "    }\n",
       "\n",
       "    .dataframe thead th {\n",
       "        text-align: right;\n",
       "    }\n",
       "</style>\n",
       "<table border=\"1\" class=\"dataframe\">\n",
       "  <thead>\n",
       "    <tr style=\"text-align: right;\">\n",
       "      <th></th>\n",
       "      <th>VIN (1-10)</th>\n",
       "      <th>County</th>\n",
       "      <th>City</th>\n",
       "      <th>State</th>\n",
       "      <th>Postal Code</th>\n",
       "      <th>Model Year</th>\n",
       "      <th>Make</th>\n",
       "      <th>Model</th>\n",
       "      <th>Electric Vehicle Type</th>\n",
       "      <th>Clean Alternative Fuel Vehicle (CAFV) Eligibility</th>\n",
       "      <th>Electric Range</th>\n",
       "      <th>Base MSRP</th>\n",
       "      <th>Legislative District</th>\n",
       "      <th>DOL Vehicle ID</th>\n",
       "      <th>Vehicle Location</th>\n",
       "      <th>Electric Utility</th>\n",
       "      <th>2020 Census Tract</th>\n",
       "    </tr>\n",
       "  </thead>\n",
       "  <tbody>\n",
       "    <tr>\n",
       "      <th>0</th>\n",
       "      <td>5YJXCAE26J</td>\n",
       "      <td>Yakima</td>\n",
       "      <td>Yakima</td>\n",
       "      <td>WA</td>\n",
       "      <td>98908.0</td>\n",
       "      <td>2018</td>\n",
       "      <td>TESLA</td>\n",
       "      <td>MODEL X</td>\n",
       "      <td>Battery Electric Vehicle (BEV)</td>\n",
       "      <td>Clean Alternative Fuel Vehicle Eligible</td>\n",
       "      <td>238</td>\n",
       "      <td>0</td>\n",
       "      <td>14.0</td>\n",
       "      <td>141151601</td>\n",
       "      <td>POINT (-120.56916 46.58514)</td>\n",
       "      <td>PACIFICORP</td>\n",
       "      <td>5.307700e+10</td>\n",
       "    </tr>\n",
       "    <tr>\n",
       "      <th>1</th>\n",
       "      <td>JHMZC5F37M</td>\n",
       "      <td>Kitsap</td>\n",
       "      <td>Poulsbo</td>\n",
       "      <td>WA</td>\n",
       "      <td>98370.0</td>\n",
       "      <td>2021</td>\n",
       "      <td>HONDA</td>\n",
       "      <td>CLARITY</td>\n",
       "      <td>Plug-in Hybrid Electric Vehicle (PHEV)</td>\n",
       "      <td>Clean Alternative Fuel Vehicle Eligible</td>\n",
       "      <td>47</td>\n",
       "      <td>0</td>\n",
       "      <td>23.0</td>\n",
       "      <td>171566447</td>\n",
       "      <td>POINT (-122.64681 47.73689)</td>\n",
       "      <td>PUGET SOUND ENERGY INC</td>\n",
       "      <td>5.303509e+10</td>\n",
       "    </tr>\n",
       "    <tr>\n",
       "      <th>2</th>\n",
       "      <td>5YJ3E1EB0K</td>\n",
       "      <td>King</td>\n",
       "      <td>Seattle</td>\n",
       "      <td>WA</td>\n",
       "      <td>98199.0</td>\n",
       "      <td>2019</td>\n",
       "      <td>TESLA</td>\n",
       "      <td>MODEL 3</td>\n",
       "      <td>Battery Electric Vehicle (BEV)</td>\n",
       "      <td>Clean Alternative Fuel Vehicle Eligible</td>\n",
       "      <td>220</td>\n",
       "      <td>0</td>\n",
       "      <td>36.0</td>\n",
       "      <td>9426525</td>\n",
       "      <td>POINT (-122.40092 47.65908)</td>\n",
       "      <td>CITY OF SEATTLE - (WA)|CITY OF TACOMA - (WA)</td>\n",
       "      <td>5.303301e+10</td>\n",
       "    </tr>\n",
       "    <tr>\n",
       "      <th>3</th>\n",
       "      <td>1N4AZ0CP5D</td>\n",
       "      <td>King</td>\n",
       "      <td>Seattle</td>\n",
       "      <td>WA</td>\n",
       "      <td>98119.0</td>\n",
       "      <td>2013</td>\n",
       "      <td>NISSAN</td>\n",
       "      <td>LEAF</td>\n",
       "      <td>Battery Electric Vehicle (BEV)</td>\n",
       "      <td>Clean Alternative Fuel Vehicle Eligible</td>\n",
       "      <td>75</td>\n",
       "      <td>0</td>\n",
       "      <td>36.0</td>\n",
       "      <td>211807760</td>\n",
       "      <td>POINT (-122.3684 47.64586)</td>\n",
       "      <td>CITY OF SEATTLE - (WA)|CITY OF TACOMA - (WA)</td>\n",
       "      <td>5.303301e+10</td>\n",
       "    </tr>\n",
       "    <tr>\n",
       "      <th>4</th>\n",
       "      <td>5YJSA1E21H</td>\n",
       "      <td>Thurston</td>\n",
       "      <td>Lacey</td>\n",
       "      <td>WA</td>\n",
       "      <td>98516.0</td>\n",
       "      <td>2017</td>\n",
       "      <td>TESLA</td>\n",
       "      <td>MODEL S</td>\n",
       "      <td>Battery Electric Vehicle (BEV)</td>\n",
       "      <td>Clean Alternative Fuel Vehicle Eligible</td>\n",
       "      <td>210</td>\n",
       "      <td>0</td>\n",
       "      <td>22.0</td>\n",
       "      <td>185810306</td>\n",
       "      <td>POINT (-122.75379 47.06316)</td>\n",
       "      <td>PUGET SOUND ENERGY INC</td>\n",
       "      <td>5.306701e+10</td>\n",
       "    </tr>\n",
       "  </tbody>\n",
       "</table>\n",
       "</div>"
      ],
      "text/plain": [
       "   VIN (1-10)    County     City State  Postal Code  Model Year    Make  \\\n",
       "0  5YJXCAE26J    Yakima   Yakima    WA      98908.0        2018   TESLA   \n",
       "1  JHMZC5F37M    Kitsap  Poulsbo    WA      98370.0        2021   HONDA   \n",
       "2  5YJ3E1EB0K      King  Seattle    WA      98199.0        2019   TESLA   \n",
       "3  1N4AZ0CP5D      King  Seattle    WA      98119.0        2013  NISSAN   \n",
       "4  5YJSA1E21H  Thurston    Lacey    WA      98516.0        2017   TESLA   \n",
       "\n",
       "     Model                   Electric Vehicle Type  \\\n",
       "0  MODEL X          Battery Electric Vehicle (BEV)   \n",
       "1  CLARITY  Plug-in Hybrid Electric Vehicle (PHEV)   \n",
       "2  MODEL 3          Battery Electric Vehicle (BEV)   \n",
       "3     LEAF          Battery Electric Vehicle (BEV)   \n",
       "4  MODEL S          Battery Electric Vehicle (BEV)   \n",
       "\n",
       "  Clean Alternative Fuel Vehicle (CAFV) Eligibility  Electric Range  \\\n",
       "0           Clean Alternative Fuel Vehicle Eligible             238   \n",
       "1           Clean Alternative Fuel Vehicle Eligible              47   \n",
       "2           Clean Alternative Fuel Vehicle Eligible             220   \n",
       "3           Clean Alternative Fuel Vehicle Eligible              75   \n",
       "4           Clean Alternative Fuel Vehicle Eligible             210   \n",
       "\n",
       "   Base MSRP  Legislative District  DOL Vehicle ID  \\\n",
       "0          0                  14.0       141151601   \n",
       "1          0                  23.0       171566447   \n",
       "2          0                  36.0         9426525   \n",
       "3          0                  36.0       211807760   \n",
       "4          0                  22.0       185810306   \n",
       "\n",
       "              Vehicle Location                              Electric Utility  \\\n",
       "0  POINT (-120.56916 46.58514)                                    PACIFICORP   \n",
       "1  POINT (-122.64681 47.73689)                        PUGET SOUND ENERGY INC   \n",
       "2  POINT (-122.40092 47.65908)  CITY OF SEATTLE - (WA)|CITY OF TACOMA - (WA)   \n",
       "3   POINT (-122.3684 47.64586)  CITY OF SEATTLE - (WA)|CITY OF TACOMA - (WA)   \n",
       "4  POINT (-122.75379 47.06316)                        PUGET SOUND ENERGY INC   \n",
       "\n",
       "   2020 Census Tract  \n",
       "0       5.307700e+10  \n",
       "1       5.303509e+10  \n",
       "2       5.303301e+10  \n",
       "3       5.303301e+10  \n",
       "4       5.306701e+10  "
      ]
     },
     "execution_count": 10,
     "metadata": {},
     "output_type": "execute_result"
    }
   ],
   "source": [
    "url = 'https://data.wa.gov/api/views/f6w7-q2d2/rows.csv?accessType=DOWNLOAD'\n",
    "df = pd.read_csv(url, encoding = 'utf-8')\n",
    "df.head()"
   ]
  },
  {
   "cell_type": "code",
   "execution_count": 11,
   "metadata": {},
   "outputs": [
    {
     "data": {
      "text/plain": [
       "VIN (1-10)                                            object\n",
       "County                                                object\n",
       "City                                                  object\n",
       "State                                                 object\n",
       "Postal Code                                          float64\n",
       "Model Year                                             int64\n",
       "Make                                                  object\n",
       "Model                                                 object\n",
       "Electric Vehicle Type                                 object\n",
       "Clean Alternative Fuel Vehicle (CAFV) Eligibility     object\n",
       "Electric Range                                         int64\n",
       "Base MSRP                                              int64\n",
       "Legislative District                                 float64\n",
       "DOL Vehicle ID                                         int64\n",
       "Vehicle Location                                      object\n",
       "Electric Utility                                      object\n",
       "2020 Census Tract                                    float64\n",
       "dtype: object"
      ]
     },
     "execution_count": 11,
     "metadata": {},
     "output_type": "execute_result"
    }
   ],
   "source": [
    "df.dtypes"
   ]
  },
  {
   "cell_type": "code",
   "execution_count": 12,
   "metadata": {},
   "outputs": [
    {
     "data": {
      "text/plain": [
       "VIN (1-10)                                             0\n",
       "County                                                 3\n",
       "City                                                   3\n",
       "State                                                  0\n",
       "Postal Code                                            3\n",
       "Model Year                                             0\n",
       "Make                                                   0\n",
       "Model                                                222\n",
       "Electric Vehicle Type                                  0\n",
       "Clean Alternative Fuel Vehicle (CAFV) Eligibility      0\n",
       "Electric Range                                         0\n",
       "Base MSRP                                              0\n",
       "Legislative District                                 305\n",
       "DOL Vehicle ID                                         0\n",
       "Vehicle Location                                      33\n",
       "Electric Utility                                       3\n",
       "2020 Census Tract                                      3\n",
       "dtype: int64"
      ]
     },
     "execution_count": 12,
     "metadata": {},
     "output_type": "execute_result"
    }
   ],
   "source": [
    "df.isna().sum()"
   ]
  },
  {
   "cell_type": "code",
   "execution_count": 13,
   "metadata": {},
   "outputs": [
    {
     "data": {
      "text/plain": [
       "Index(['VIN (1-10)', 'County', 'City', 'State', 'Postal Code', 'Model Year',\n",
       "       'Make', 'Model', 'Electric Vehicle Type',\n",
       "       'Clean Alternative Fuel Vehicle (CAFV) Eligibility', 'Electric Range',\n",
       "       'Base MSRP', 'Legislative District', 'DOL Vehicle ID',\n",
       "       'Vehicle Location', 'Electric Utility', '2020 Census Tract'],\n",
       "      dtype='object')"
      ]
     },
     "execution_count": 13,
     "metadata": {},
     "output_type": "execute_result"
    }
   ],
   "source": [
    "df.columns"
   ]
  },
  {
   "cell_type": "markdown",
   "metadata": {},
   "source": [
    "# Data Analysis"
   ]
  },
  {
   "cell_type": "markdown",
   "metadata": {},
   "source": [
    "## Insight 1:\n",
    "Get all the cars and their types that do not qualify for clean alternative fuel vehicle"
   ]
  },
  {
   "cell_type": "markdown",
   "metadata": {},
   "source": [
    "**Getting all the unique values in CAFV Eligibility**"
   ]
  },
  {
   "cell_type": "code",
   "execution_count": 14,
   "metadata": {},
   "outputs": [
    {
     "data": {
      "text/plain": [
       "array(['Clean Alternative Fuel Vehicle Eligible',\n",
       "       'Not eligible due to low battery range',\n",
       "       'Eligibility unknown as battery range has not been researched'],\n",
       "      dtype=object)"
      ]
     },
     "execution_count": 14,
     "metadata": {},
     "output_type": "execute_result"
    }
   ],
   "source": [
    "df['Clean Alternative Fuel Vehicle (CAFV) Eligibility'].unique()"
   ]
  },
  {
   "cell_type": "markdown",
   "metadata": {},
   "source": [
    "### Data"
   ]
  },
  {
   "cell_type": "code",
   "execution_count": 18,
   "metadata": {
    "scrolled": false
   },
   "outputs": [
    {
     "data": {
      "text/html": [
       "<div>\n",
       "<style scoped>\n",
       "    .dataframe tbody tr th:only-of-type {\n",
       "        vertical-align: middle;\n",
       "    }\n",
       "\n",
       "    .dataframe tbody tr th {\n",
       "        vertical-align: top;\n",
       "    }\n",
       "\n",
       "    .dataframe thead th {\n",
       "        text-align: right;\n",
       "    }\n",
       "</style>\n",
       "<table border=\"1\" class=\"dataframe\">\n",
       "  <thead>\n",
       "    <tr style=\"text-align: right;\">\n",
       "      <th></th>\n",
       "      <th>VIN (1-10)</th>\n",
       "      <th>County</th>\n",
       "      <th>City</th>\n",
       "      <th>State</th>\n",
       "      <th>Postal Code</th>\n",
       "      <th>Model Year</th>\n",
       "      <th>Make</th>\n",
       "      <th>Model</th>\n",
       "      <th>Electric Vehicle Type</th>\n",
       "      <th>Clean Alternative Fuel Vehicle (CAFV) Eligibility</th>\n",
       "      <th>Electric Range</th>\n",
       "      <th>Base MSRP</th>\n",
       "      <th>Legislative District</th>\n",
       "      <th>DOL Vehicle ID</th>\n",
       "      <th>Vehicle Location</th>\n",
       "      <th>Electric Utility</th>\n",
       "      <th>2020 Census Tract</th>\n",
       "    </tr>\n",
       "  </thead>\n",
       "  <tbody>\n",
       "    <tr>\n",
       "      <th>6</th>\n",
       "      <td>3FA6P0PU1G</td>\n",
       "      <td>Thurston</td>\n",
       "      <td>Tumwater</td>\n",
       "      <td>WA</td>\n",
       "      <td>98501.0</td>\n",
       "      <td>2016</td>\n",
       "      <td>FORD</td>\n",
       "      <td>FUSION</td>\n",
       "      <td>Plug-in Hybrid Electric Vehicle (PHEV)</td>\n",
       "      <td>Not eligible due to low battery range</td>\n",
       "      <td>19</td>\n",
       "      <td>0</td>\n",
       "      <td>22.0</td>\n",
       "      <td>347508836</td>\n",
       "      <td>POINT (-122.89166 47.03956)</td>\n",
       "      <td>PUGET SOUND ENERGY INC</td>\n",
       "      <td>5.306701e+10</td>\n",
       "    </tr>\n",
       "    <tr>\n",
       "      <th>7</th>\n",
       "      <td>WA1F2AFY8P</td>\n",
       "      <td>Thurston</td>\n",
       "      <td>Lacey</td>\n",
       "      <td>WA</td>\n",
       "      <td>98516.0</td>\n",
       "      <td>2023</td>\n",
       "      <td>AUDI</td>\n",
       "      <td>Q5 E</td>\n",
       "      <td>Plug-in Hybrid Electric Vehicle (PHEV)</td>\n",
       "      <td>Not eligible due to low battery range</td>\n",
       "      <td>23</td>\n",
       "      <td>0</td>\n",
       "      <td>22.0</td>\n",
       "      <td>227213871</td>\n",
       "      <td>POINT (-122.75379 47.06316)</td>\n",
       "      <td>PUGET SOUND ENERGY INC</td>\n",
       "      <td>5.306701e+10</td>\n",
       "    </tr>\n",
       "    <tr>\n",
       "      <th>8</th>\n",
       "      <td>1FADP5CU0E</td>\n",
       "      <td>Thurston</td>\n",
       "      <td>Rochester</td>\n",
       "      <td>WA</td>\n",
       "      <td>98579.0</td>\n",
       "      <td>2014</td>\n",
       "      <td>FORD</td>\n",
       "      <td>C-MAX</td>\n",
       "      <td>Plug-in Hybrid Electric Vehicle (PHEV)</td>\n",
       "      <td>Not eligible due to low battery range</td>\n",
       "      <td>19</td>\n",
       "      <td>0</td>\n",
       "      <td>20.0</td>\n",
       "      <td>229811151</td>\n",
       "      <td>POINT (-123.08743 46.82175)</td>\n",
       "      <td>PUGET SOUND ENERGY INC</td>\n",
       "      <td>5.306701e+10</td>\n",
       "    </tr>\n",
       "  </tbody>\n",
       "</table>\n",
       "</div>"
      ],
      "text/plain": [
       "   VIN (1-10)    County       City State  Postal Code  Model Year  Make  \\\n",
       "6  3FA6P0PU1G  Thurston   Tumwater    WA      98501.0        2016  FORD   \n",
       "7  WA1F2AFY8P  Thurston      Lacey    WA      98516.0        2023  AUDI   \n",
       "8  1FADP5CU0E  Thurston  Rochester    WA      98579.0        2014  FORD   \n",
       "\n",
       "    Model                   Electric Vehicle Type  \\\n",
       "6  FUSION  Plug-in Hybrid Electric Vehicle (PHEV)   \n",
       "7    Q5 E  Plug-in Hybrid Electric Vehicle (PHEV)   \n",
       "8   C-MAX  Plug-in Hybrid Electric Vehicle (PHEV)   \n",
       "\n",
       "  Clean Alternative Fuel Vehicle (CAFV) Eligibility  Electric Range  \\\n",
       "6             Not eligible due to low battery range              19   \n",
       "7             Not eligible due to low battery range              23   \n",
       "8             Not eligible due to low battery range              19   \n",
       "\n",
       "   Base MSRP  Legislative District  DOL Vehicle ID  \\\n",
       "6          0                  22.0       347508836   \n",
       "7          0                  22.0       227213871   \n",
       "8          0                  20.0       229811151   \n",
       "\n",
       "              Vehicle Location        Electric Utility  2020 Census Tract  \n",
       "6  POINT (-122.89166 47.03956)  PUGET SOUND ENERGY INC       5.306701e+10  \n",
       "7  POINT (-122.75379 47.06316)  PUGET SOUND ENERGY INC       5.306701e+10  \n",
       "8  POINT (-123.08743 46.82175)  PUGET SOUND ENERGY INC       5.306701e+10  "
      ]
     },
     "execution_count": 18,
     "metadata": {},
     "output_type": "execute_result"
    }
   ],
   "source": [
    "df_not_eligible_for_CAFV = df[df['Clean Alternative Fuel Vehicle (CAFV) Eligibility'] != 'Clean Alternative Fuel Vehicle Eligible']\n",
    "df_not_eligible_for_CAFV.head(3)"
   ]
  },
  {
   "cell_type": "markdown",
   "metadata": {},
   "source": [
    "### Count"
   ]
  },
  {
   "cell_type": "code",
   "execution_count": 17,
   "metadata": {},
   "outputs": [
    {
     "data": {
      "text/plain": [
       "(69892, 17)"
      ]
     },
     "execution_count": 17,
     "metadata": {},
     "output_type": "execute_result"
    }
   ],
   "source": [
    "df_not_eligible_for_CAFV.shape"
   ]
  },
  {
   "cell_type": "markdown",
   "metadata": {},
   "source": [
    "Total **69892 Vehicles** out of the given data are inelligible for CAFV"
   ]
  },
  {
   "cell_type": "markdown",
   "metadata": {},
   "source": [
    "### Type of Vehicles that are not eligible for CAFV"
   ]
  },
  {
   "cell_type": "code",
   "execution_count": 28,
   "metadata": {},
   "outputs": [
    {
     "data": {
      "application/vnd.plotly.v1+json": {
       "config": {
        "linkText": "Export to plot.ly",
        "plotlyServerURL": "https://plot.ly",
        "showLink": true
       },
       "data": [
        {
         "marker": {
          "color": "rgba(255, 153, 51, 0.6)",
          "line": {
           "color": "rgba(255, 153, 51, 1.0)",
           "width": 1
          }
         },
         "name": "Electric Vehicle Type",
         "orientation": "v",
         "text": "",
         "type": "bar",
         "x": [
          "Battery Electric Vehicle (BEV)",
          "Plug-in Hybrid Electric Vehicle (PHEV)"
         ],
         "y": [
          53455,
          16437
         ]
        }
       ],
       "layout": {
        "legend": {
         "bgcolor": "#F5F6F9",
         "font": {
          "color": "#4D5663"
         }
        },
        "paper_bgcolor": "#F5F6F9",
        "plot_bgcolor": "#F5F6F9",
        "template": {
         "data": {
          "bar": [
           {
            "error_x": {
             "color": "#2a3f5f"
            },
            "error_y": {
             "color": "#2a3f5f"
            },
            "marker": {
             "line": {
              "color": "#E5ECF6",
              "width": 0.5
             },
             "pattern": {
              "fillmode": "overlay",
              "size": 10,
              "solidity": 0.2
             }
            },
            "type": "bar"
           }
          ],
          "barpolar": [
           {
            "marker": {
             "line": {
              "color": "#E5ECF6",
              "width": 0.5
             },
             "pattern": {
              "fillmode": "overlay",
              "size": 10,
              "solidity": 0.2
             }
            },
            "type": "barpolar"
           }
          ],
          "carpet": [
           {
            "aaxis": {
             "endlinecolor": "#2a3f5f",
             "gridcolor": "white",
             "linecolor": "white",
             "minorgridcolor": "white",
             "startlinecolor": "#2a3f5f"
            },
            "baxis": {
             "endlinecolor": "#2a3f5f",
             "gridcolor": "white",
             "linecolor": "white",
             "minorgridcolor": "white",
             "startlinecolor": "#2a3f5f"
            },
            "type": "carpet"
           }
          ],
          "choropleth": [
           {
            "colorbar": {
             "outlinewidth": 0,
             "ticks": ""
            },
            "type": "choropleth"
           }
          ],
          "contour": [
           {
            "colorbar": {
             "outlinewidth": 0,
             "ticks": ""
            },
            "colorscale": [
             [
              0,
              "#0d0887"
             ],
             [
              0.1111111111111111,
              "#46039f"
             ],
             [
              0.2222222222222222,
              "#7201a8"
             ],
             [
              0.3333333333333333,
              "#9c179e"
             ],
             [
              0.4444444444444444,
              "#bd3786"
             ],
             [
              0.5555555555555556,
              "#d8576b"
             ],
             [
              0.6666666666666666,
              "#ed7953"
             ],
             [
              0.7777777777777778,
              "#fb9f3a"
             ],
             [
              0.8888888888888888,
              "#fdca26"
             ],
             [
              1,
              "#f0f921"
             ]
            ],
            "type": "contour"
           }
          ],
          "contourcarpet": [
           {
            "colorbar": {
             "outlinewidth": 0,
             "ticks": ""
            },
            "type": "contourcarpet"
           }
          ],
          "heatmap": [
           {
            "colorbar": {
             "outlinewidth": 0,
             "ticks": ""
            },
            "colorscale": [
             [
              0,
              "#0d0887"
             ],
             [
              0.1111111111111111,
              "#46039f"
             ],
             [
              0.2222222222222222,
              "#7201a8"
             ],
             [
              0.3333333333333333,
              "#9c179e"
             ],
             [
              0.4444444444444444,
              "#bd3786"
             ],
             [
              0.5555555555555556,
              "#d8576b"
             ],
             [
              0.6666666666666666,
              "#ed7953"
             ],
             [
              0.7777777777777778,
              "#fb9f3a"
             ],
             [
              0.8888888888888888,
              "#fdca26"
             ],
             [
              1,
              "#f0f921"
             ]
            ],
            "type": "heatmap"
           }
          ],
          "heatmapgl": [
           {
            "colorbar": {
             "outlinewidth": 0,
             "ticks": ""
            },
            "colorscale": [
             [
              0,
              "#0d0887"
             ],
             [
              0.1111111111111111,
              "#46039f"
             ],
             [
              0.2222222222222222,
              "#7201a8"
             ],
             [
              0.3333333333333333,
              "#9c179e"
             ],
             [
              0.4444444444444444,
              "#bd3786"
             ],
             [
              0.5555555555555556,
              "#d8576b"
             ],
             [
              0.6666666666666666,
              "#ed7953"
             ],
             [
              0.7777777777777778,
              "#fb9f3a"
             ],
             [
              0.8888888888888888,
              "#fdca26"
             ],
             [
              1,
              "#f0f921"
             ]
            ],
            "type": "heatmapgl"
           }
          ],
          "histogram": [
           {
            "marker": {
             "pattern": {
              "fillmode": "overlay",
              "size": 10,
              "solidity": 0.2
             }
            },
            "type": "histogram"
           }
          ],
          "histogram2d": [
           {
            "colorbar": {
             "outlinewidth": 0,
             "ticks": ""
            },
            "colorscale": [
             [
              0,
              "#0d0887"
             ],
             [
              0.1111111111111111,
              "#46039f"
             ],
             [
              0.2222222222222222,
              "#7201a8"
             ],
             [
              0.3333333333333333,
              "#9c179e"
             ],
             [
              0.4444444444444444,
              "#bd3786"
             ],
             [
              0.5555555555555556,
              "#d8576b"
             ],
             [
              0.6666666666666666,
              "#ed7953"
             ],
             [
              0.7777777777777778,
              "#fb9f3a"
             ],
             [
              0.8888888888888888,
              "#fdca26"
             ],
             [
              1,
              "#f0f921"
             ]
            ],
            "type": "histogram2d"
           }
          ],
          "histogram2dcontour": [
           {
            "colorbar": {
             "outlinewidth": 0,
             "ticks": ""
            },
            "colorscale": [
             [
              0,
              "#0d0887"
             ],
             [
              0.1111111111111111,
              "#46039f"
             ],
             [
              0.2222222222222222,
              "#7201a8"
             ],
             [
              0.3333333333333333,
              "#9c179e"
             ],
             [
              0.4444444444444444,
              "#bd3786"
             ],
             [
              0.5555555555555556,
              "#d8576b"
             ],
             [
              0.6666666666666666,
              "#ed7953"
             ],
             [
              0.7777777777777778,
              "#fb9f3a"
             ],
             [
              0.8888888888888888,
              "#fdca26"
             ],
             [
              1,
              "#f0f921"
             ]
            ],
            "type": "histogram2dcontour"
           }
          ],
          "mesh3d": [
           {
            "colorbar": {
             "outlinewidth": 0,
             "ticks": ""
            },
            "type": "mesh3d"
           }
          ],
          "parcoords": [
           {
            "line": {
             "colorbar": {
              "outlinewidth": 0,
              "ticks": ""
             }
            },
            "type": "parcoords"
           }
          ],
          "pie": [
           {
            "automargin": true,
            "type": "pie"
           }
          ],
          "scatter": [
           {
            "fillpattern": {
             "fillmode": "overlay",
             "size": 10,
             "solidity": 0.2
            },
            "type": "scatter"
           }
          ],
          "scatter3d": [
           {
            "line": {
             "colorbar": {
              "outlinewidth": 0,
              "ticks": ""
             }
            },
            "marker": {
             "colorbar": {
              "outlinewidth": 0,
              "ticks": ""
             }
            },
            "type": "scatter3d"
           }
          ],
          "scattercarpet": [
           {
            "marker": {
             "colorbar": {
              "outlinewidth": 0,
              "ticks": ""
             }
            },
            "type": "scattercarpet"
           }
          ],
          "scattergeo": [
           {
            "marker": {
             "colorbar": {
              "outlinewidth": 0,
              "ticks": ""
             }
            },
            "type": "scattergeo"
           }
          ],
          "scattergl": [
           {
            "marker": {
             "colorbar": {
              "outlinewidth": 0,
              "ticks": ""
             }
            },
            "type": "scattergl"
           }
          ],
          "scattermapbox": [
           {
            "marker": {
             "colorbar": {
              "outlinewidth": 0,
              "ticks": ""
             }
            },
            "type": "scattermapbox"
           }
          ],
          "scatterpolar": [
           {
            "marker": {
             "colorbar": {
              "outlinewidth": 0,
              "ticks": ""
             }
            },
            "type": "scatterpolar"
           }
          ],
          "scatterpolargl": [
           {
            "marker": {
             "colorbar": {
              "outlinewidth": 0,
              "ticks": ""
             }
            },
            "type": "scatterpolargl"
           }
          ],
          "scatterternary": [
           {
            "marker": {
             "colorbar": {
              "outlinewidth": 0,
              "ticks": ""
             }
            },
            "type": "scatterternary"
           }
          ],
          "surface": [
           {
            "colorbar": {
             "outlinewidth": 0,
             "ticks": ""
            },
            "colorscale": [
             [
              0,
              "#0d0887"
             ],
             [
              0.1111111111111111,
              "#46039f"
             ],
             [
              0.2222222222222222,
              "#7201a8"
             ],
             [
              0.3333333333333333,
              "#9c179e"
             ],
             [
              0.4444444444444444,
              "#bd3786"
             ],
             [
              0.5555555555555556,
              "#d8576b"
             ],
             [
              0.6666666666666666,
              "#ed7953"
             ],
             [
              0.7777777777777778,
              "#fb9f3a"
             ],
             [
              0.8888888888888888,
              "#fdca26"
             ],
             [
              1,
              "#f0f921"
             ]
            ],
            "type": "surface"
           }
          ],
          "table": [
           {
            "cells": {
             "fill": {
              "color": "#EBF0F8"
             },
             "line": {
              "color": "white"
             }
            },
            "header": {
             "fill": {
              "color": "#C8D4E3"
             },
             "line": {
              "color": "white"
             }
            },
            "type": "table"
           }
          ]
         },
         "layout": {
          "annotationdefaults": {
           "arrowcolor": "#2a3f5f",
           "arrowhead": 0,
           "arrowwidth": 1
          },
          "autotypenumbers": "strict",
          "coloraxis": {
           "colorbar": {
            "outlinewidth": 0,
            "ticks": ""
           }
          },
          "colorscale": {
           "diverging": [
            [
             0,
             "#8e0152"
            ],
            [
             0.1,
             "#c51b7d"
            ],
            [
             0.2,
             "#de77ae"
            ],
            [
             0.3,
             "#f1b6da"
            ],
            [
             0.4,
             "#fde0ef"
            ],
            [
             0.5,
             "#f7f7f7"
            ],
            [
             0.6,
             "#e6f5d0"
            ],
            [
             0.7,
             "#b8e186"
            ],
            [
             0.8,
             "#7fbc41"
            ],
            [
             0.9,
             "#4d9221"
            ],
            [
             1,
             "#276419"
            ]
           ],
           "sequential": [
            [
             0,
             "#0d0887"
            ],
            [
             0.1111111111111111,
             "#46039f"
            ],
            [
             0.2222222222222222,
             "#7201a8"
            ],
            [
             0.3333333333333333,
             "#9c179e"
            ],
            [
             0.4444444444444444,
             "#bd3786"
            ],
            [
             0.5555555555555556,
             "#d8576b"
            ],
            [
             0.6666666666666666,
             "#ed7953"
            ],
            [
             0.7777777777777778,
             "#fb9f3a"
            ],
            [
             0.8888888888888888,
             "#fdca26"
            ],
            [
             1,
             "#f0f921"
            ]
           ],
           "sequentialminus": [
            [
             0,
             "#0d0887"
            ],
            [
             0.1111111111111111,
             "#46039f"
            ],
            [
             0.2222222222222222,
             "#7201a8"
            ],
            [
             0.3333333333333333,
             "#9c179e"
            ],
            [
             0.4444444444444444,
             "#bd3786"
            ],
            [
             0.5555555555555556,
             "#d8576b"
            ],
            [
             0.6666666666666666,
             "#ed7953"
            ],
            [
             0.7777777777777778,
             "#fb9f3a"
            ],
            [
             0.8888888888888888,
             "#fdca26"
            ],
            [
             1,
             "#f0f921"
            ]
           ]
          },
          "colorway": [
           "#636efa",
           "#EF553B",
           "#00cc96",
           "#ab63fa",
           "#FFA15A",
           "#19d3f3",
           "#FF6692",
           "#B6E880",
           "#FF97FF",
           "#FECB52"
          ],
          "font": {
           "color": "#2a3f5f"
          },
          "geo": {
           "bgcolor": "white",
           "lakecolor": "white",
           "landcolor": "#E5ECF6",
           "showlakes": true,
           "showland": true,
           "subunitcolor": "white"
          },
          "hoverlabel": {
           "align": "left"
          },
          "hovermode": "closest",
          "mapbox": {
           "style": "light"
          },
          "paper_bgcolor": "white",
          "plot_bgcolor": "#E5ECF6",
          "polar": {
           "angularaxis": {
            "gridcolor": "white",
            "linecolor": "white",
            "ticks": ""
           },
           "bgcolor": "#E5ECF6",
           "radialaxis": {
            "gridcolor": "white",
            "linecolor": "white",
            "ticks": ""
           }
          },
          "scene": {
           "xaxis": {
            "backgroundcolor": "#E5ECF6",
            "gridcolor": "white",
            "gridwidth": 2,
            "linecolor": "white",
            "showbackground": true,
            "ticks": "",
            "zerolinecolor": "white"
           },
           "yaxis": {
            "backgroundcolor": "#E5ECF6",
            "gridcolor": "white",
            "gridwidth": 2,
            "linecolor": "white",
            "showbackground": true,
            "ticks": "",
            "zerolinecolor": "white"
           },
           "zaxis": {
            "backgroundcolor": "#E5ECF6",
            "gridcolor": "white",
            "gridwidth": 2,
            "linecolor": "white",
            "showbackground": true,
            "ticks": "",
            "zerolinecolor": "white"
           }
          },
          "shapedefaults": {
           "line": {
            "color": "#2a3f5f"
           }
          },
          "ternary": {
           "aaxis": {
            "gridcolor": "white",
            "linecolor": "white",
            "ticks": ""
           },
           "baxis": {
            "gridcolor": "white",
            "linecolor": "white",
            "ticks": ""
           },
           "bgcolor": "#E5ECF6",
           "caxis": {
            "gridcolor": "white",
            "linecolor": "white",
            "ticks": ""
           }
          },
          "title": {
           "x": 0.05
          },
          "xaxis": {
           "automargin": true,
           "gridcolor": "white",
           "linecolor": "white",
           "ticks": "",
           "title": {
            "standoff": 15
           },
           "zerolinecolor": "white",
           "zerolinewidth": 2
          },
          "yaxis": {
           "automargin": true,
           "gridcolor": "white",
           "linecolor": "white",
           "ticks": "",
           "title": {
            "standoff": 15
           },
           "zerolinecolor": "white",
           "zerolinewidth": 2
          }
         }
        },
        "title": {
         "font": {
          "color": "#4D5663"
         },
         "text": "Vehicle type of CAFV-inelligible vehicles"
        },
        "xaxis": {
         "gridcolor": "#E1E5ED",
         "showgrid": true,
         "tickfont": {
          "color": "#4D5663"
         },
         "title": {
          "font": {
           "color": "#4D5663"
          },
          "text": ""
         },
         "zerolinecolor": "#E1E5ED"
        },
        "yaxis": {
         "gridcolor": "#E1E5ED",
         "showgrid": true,
         "tickfont": {
          "color": "#4D5663"
         },
         "title": {
          "font": {
           "color": "#4D5663"
          },
          "text": ""
         },
         "zerolinecolor": "#E1E5ED"
        }
       }
      },
      "text/html": [
       "<div>                            <div id=\"81504a0e-f7bc-4c57-a717-b42d6cb48da0\" class=\"plotly-graph-div\" style=\"height:525px; width:100%;\"></div>            <script type=\"text/javascript\">                require([\"plotly\"], function(Plotly) {                    window.PLOTLYENV=window.PLOTLYENV || {};\n",
       "                    window.PLOTLYENV.BASE_URL='https://plot.ly';                                    if (document.getElementById(\"81504a0e-f7bc-4c57-a717-b42d6cb48da0\")) {                    Plotly.newPlot(                        \"81504a0e-f7bc-4c57-a717-b42d6cb48da0\",                        [{\"marker\":{\"color\":\"rgba(255, 153, 51, 0.6)\",\"line\":{\"color\":\"rgba(255, 153, 51, 1.0)\",\"width\":1}},\"name\":\"Electric Vehicle Type\",\"orientation\":\"v\",\"text\":\"\",\"x\":[\"Battery Electric Vehicle (BEV)\",\"Plug-in Hybrid Electric Vehicle (PHEV)\"],\"y\":[53455,16437],\"type\":\"bar\"}],                        {\"legend\":{\"bgcolor\":\"#F5F6F9\",\"font\":{\"color\":\"#4D5663\"}},\"paper_bgcolor\":\"#F5F6F9\",\"plot_bgcolor\":\"#F5F6F9\",\"template\":{\"data\":{\"barpolar\":[{\"marker\":{\"line\":{\"color\":\"#E5ECF6\",\"width\":0.5},\"pattern\":{\"fillmode\":\"overlay\",\"size\":10,\"solidity\":0.2}},\"type\":\"barpolar\"}],\"bar\":[{\"error_x\":{\"color\":\"#2a3f5f\"},\"error_y\":{\"color\":\"#2a3f5f\"},\"marker\":{\"line\":{\"color\":\"#E5ECF6\",\"width\":0.5},\"pattern\":{\"fillmode\":\"overlay\",\"size\":10,\"solidity\":0.2}},\"type\":\"bar\"}],\"carpet\":[{\"aaxis\":{\"endlinecolor\":\"#2a3f5f\",\"gridcolor\":\"white\",\"linecolor\":\"white\",\"minorgridcolor\":\"white\",\"startlinecolor\":\"#2a3f5f\"},\"baxis\":{\"endlinecolor\":\"#2a3f5f\",\"gridcolor\":\"white\",\"linecolor\":\"white\",\"minorgridcolor\":\"white\",\"startlinecolor\":\"#2a3f5f\"},\"type\":\"carpet\"}],\"choropleth\":[{\"colorbar\":{\"outlinewidth\":0,\"ticks\":\"\"},\"type\":\"choropleth\"}],\"contourcarpet\":[{\"colorbar\":{\"outlinewidth\":0,\"ticks\":\"\"},\"type\":\"contourcarpet\"}],\"contour\":[{\"colorbar\":{\"outlinewidth\":0,\"ticks\":\"\"},\"colorscale\":[[0.0,\"#0d0887\"],[0.1111111111111111,\"#46039f\"],[0.2222222222222222,\"#7201a8\"],[0.3333333333333333,\"#9c179e\"],[0.4444444444444444,\"#bd3786\"],[0.5555555555555556,\"#d8576b\"],[0.6666666666666666,\"#ed7953\"],[0.7777777777777778,\"#fb9f3a\"],[0.8888888888888888,\"#fdca26\"],[1.0,\"#f0f921\"]],\"type\":\"contour\"}],\"heatmapgl\":[{\"colorbar\":{\"outlinewidth\":0,\"ticks\":\"\"},\"colorscale\":[[0.0,\"#0d0887\"],[0.1111111111111111,\"#46039f\"],[0.2222222222222222,\"#7201a8\"],[0.3333333333333333,\"#9c179e\"],[0.4444444444444444,\"#bd3786\"],[0.5555555555555556,\"#d8576b\"],[0.6666666666666666,\"#ed7953\"],[0.7777777777777778,\"#fb9f3a\"],[0.8888888888888888,\"#fdca26\"],[1.0,\"#f0f921\"]],\"type\":\"heatmapgl\"}],\"heatmap\":[{\"colorbar\":{\"outlinewidth\":0,\"ticks\":\"\"},\"colorscale\":[[0.0,\"#0d0887\"],[0.1111111111111111,\"#46039f\"],[0.2222222222222222,\"#7201a8\"],[0.3333333333333333,\"#9c179e\"],[0.4444444444444444,\"#bd3786\"],[0.5555555555555556,\"#d8576b\"],[0.6666666666666666,\"#ed7953\"],[0.7777777777777778,\"#fb9f3a\"],[0.8888888888888888,\"#fdca26\"],[1.0,\"#f0f921\"]],\"type\":\"heatmap\"}],\"histogram2dcontour\":[{\"colorbar\":{\"outlinewidth\":0,\"ticks\":\"\"},\"colorscale\":[[0.0,\"#0d0887\"],[0.1111111111111111,\"#46039f\"],[0.2222222222222222,\"#7201a8\"],[0.3333333333333333,\"#9c179e\"],[0.4444444444444444,\"#bd3786\"],[0.5555555555555556,\"#d8576b\"],[0.6666666666666666,\"#ed7953\"],[0.7777777777777778,\"#fb9f3a\"],[0.8888888888888888,\"#fdca26\"],[1.0,\"#f0f921\"]],\"type\":\"histogram2dcontour\"}],\"histogram2d\":[{\"colorbar\":{\"outlinewidth\":0,\"ticks\":\"\"},\"colorscale\":[[0.0,\"#0d0887\"],[0.1111111111111111,\"#46039f\"],[0.2222222222222222,\"#7201a8\"],[0.3333333333333333,\"#9c179e\"],[0.4444444444444444,\"#bd3786\"],[0.5555555555555556,\"#d8576b\"],[0.6666666666666666,\"#ed7953\"],[0.7777777777777778,\"#fb9f3a\"],[0.8888888888888888,\"#fdca26\"],[1.0,\"#f0f921\"]],\"type\":\"histogram2d\"}],\"histogram\":[{\"marker\":{\"pattern\":{\"fillmode\":\"overlay\",\"size\":10,\"solidity\":0.2}},\"type\":\"histogram\"}],\"mesh3d\":[{\"colorbar\":{\"outlinewidth\":0,\"ticks\":\"\"},\"type\":\"mesh3d\"}],\"parcoords\":[{\"line\":{\"colorbar\":{\"outlinewidth\":0,\"ticks\":\"\"}},\"type\":\"parcoords\"}],\"pie\":[{\"automargin\":true,\"type\":\"pie\"}],\"scatter3d\":[{\"line\":{\"colorbar\":{\"outlinewidth\":0,\"ticks\":\"\"}},\"marker\":{\"colorbar\":{\"outlinewidth\":0,\"ticks\":\"\"}},\"type\":\"scatter3d\"}],\"scattercarpet\":[{\"marker\":{\"colorbar\":{\"outlinewidth\":0,\"ticks\":\"\"}},\"type\":\"scattercarpet\"}],\"scattergeo\":[{\"marker\":{\"colorbar\":{\"outlinewidth\":0,\"ticks\":\"\"}},\"type\":\"scattergeo\"}],\"scattergl\":[{\"marker\":{\"colorbar\":{\"outlinewidth\":0,\"ticks\":\"\"}},\"type\":\"scattergl\"}],\"scattermapbox\":[{\"marker\":{\"colorbar\":{\"outlinewidth\":0,\"ticks\":\"\"}},\"type\":\"scattermapbox\"}],\"scatterpolargl\":[{\"marker\":{\"colorbar\":{\"outlinewidth\":0,\"ticks\":\"\"}},\"type\":\"scatterpolargl\"}],\"scatterpolar\":[{\"marker\":{\"colorbar\":{\"outlinewidth\":0,\"ticks\":\"\"}},\"type\":\"scatterpolar\"}],\"scatter\":[{\"fillpattern\":{\"fillmode\":\"overlay\",\"size\":10,\"solidity\":0.2},\"type\":\"scatter\"}],\"scatterternary\":[{\"marker\":{\"colorbar\":{\"outlinewidth\":0,\"ticks\":\"\"}},\"type\":\"scatterternary\"}],\"surface\":[{\"colorbar\":{\"outlinewidth\":0,\"ticks\":\"\"},\"colorscale\":[[0.0,\"#0d0887\"],[0.1111111111111111,\"#46039f\"],[0.2222222222222222,\"#7201a8\"],[0.3333333333333333,\"#9c179e\"],[0.4444444444444444,\"#bd3786\"],[0.5555555555555556,\"#d8576b\"],[0.6666666666666666,\"#ed7953\"],[0.7777777777777778,\"#fb9f3a\"],[0.8888888888888888,\"#fdca26\"],[1.0,\"#f0f921\"]],\"type\":\"surface\"}],\"table\":[{\"cells\":{\"fill\":{\"color\":\"#EBF0F8\"},\"line\":{\"color\":\"white\"}},\"header\":{\"fill\":{\"color\":\"#C8D4E3\"},\"line\":{\"color\":\"white\"}},\"type\":\"table\"}]},\"layout\":{\"annotationdefaults\":{\"arrowcolor\":\"#2a3f5f\",\"arrowhead\":0,\"arrowwidth\":1},\"autotypenumbers\":\"strict\",\"coloraxis\":{\"colorbar\":{\"outlinewidth\":0,\"ticks\":\"\"}},\"colorscale\":{\"diverging\":[[0,\"#8e0152\"],[0.1,\"#c51b7d\"],[0.2,\"#de77ae\"],[0.3,\"#f1b6da\"],[0.4,\"#fde0ef\"],[0.5,\"#f7f7f7\"],[0.6,\"#e6f5d0\"],[0.7,\"#b8e186\"],[0.8,\"#7fbc41\"],[0.9,\"#4d9221\"],[1,\"#276419\"]],\"sequential\":[[0.0,\"#0d0887\"],[0.1111111111111111,\"#46039f\"],[0.2222222222222222,\"#7201a8\"],[0.3333333333333333,\"#9c179e\"],[0.4444444444444444,\"#bd3786\"],[0.5555555555555556,\"#d8576b\"],[0.6666666666666666,\"#ed7953\"],[0.7777777777777778,\"#fb9f3a\"],[0.8888888888888888,\"#fdca26\"],[1.0,\"#f0f921\"]],\"sequentialminus\":[[0.0,\"#0d0887\"],[0.1111111111111111,\"#46039f\"],[0.2222222222222222,\"#7201a8\"],[0.3333333333333333,\"#9c179e\"],[0.4444444444444444,\"#bd3786\"],[0.5555555555555556,\"#d8576b\"],[0.6666666666666666,\"#ed7953\"],[0.7777777777777778,\"#fb9f3a\"],[0.8888888888888888,\"#fdca26\"],[1.0,\"#f0f921\"]]},\"colorway\":[\"#636efa\",\"#EF553B\",\"#00cc96\",\"#ab63fa\",\"#FFA15A\",\"#19d3f3\",\"#FF6692\",\"#B6E880\",\"#FF97FF\",\"#FECB52\"],\"font\":{\"color\":\"#2a3f5f\"},\"geo\":{\"bgcolor\":\"white\",\"lakecolor\":\"white\",\"landcolor\":\"#E5ECF6\",\"showlakes\":true,\"showland\":true,\"subunitcolor\":\"white\"},\"hoverlabel\":{\"align\":\"left\"},\"hovermode\":\"closest\",\"mapbox\":{\"style\":\"light\"},\"paper_bgcolor\":\"white\",\"plot_bgcolor\":\"#E5ECF6\",\"polar\":{\"angularaxis\":{\"gridcolor\":\"white\",\"linecolor\":\"white\",\"ticks\":\"\"},\"bgcolor\":\"#E5ECF6\",\"radialaxis\":{\"gridcolor\":\"white\",\"linecolor\":\"white\",\"ticks\":\"\"}},\"scene\":{\"xaxis\":{\"backgroundcolor\":\"#E5ECF6\",\"gridcolor\":\"white\",\"gridwidth\":2,\"linecolor\":\"white\",\"showbackground\":true,\"ticks\":\"\",\"zerolinecolor\":\"white\"},\"yaxis\":{\"backgroundcolor\":\"#E5ECF6\",\"gridcolor\":\"white\",\"gridwidth\":2,\"linecolor\":\"white\",\"showbackground\":true,\"ticks\":\"\",\"zerolinecolor\":\"white\"},\"zaxis\":{\"backgroundcolor\":\"#E5ECF6\",\"gridcolor\":\"white\",\"gridwidth\":2,\"linecolor\":\"white\",\"showbackground\":true,\"ticks\":\"\",\"zerolinecolor\":\"white\"}},\"shapedefaults\":{\"line\":{\"color\":\"#2a3f5f\"}},\"ternary\":{\"aaxis\":{\"gridcolor\":\"white\",\"linecolor\":\"white\",\"ticks\":\"\"},\"baxis\":{\"gridcolor\":\"white\",\"linecolor\":\"white\",\"ticks\":\"\"},\"bgcolor\":\"#E5ECF6\",\"caxis\":{\"gridcolor\":\"white\",\"linecolor\":\"white\",\"ticks\":\"\"}},\"title\":{\"x\":0.05},\"xaxis\":{\"automargin\":true,\"gridcolor\":\"white\",\"linecolor\":\"white\",\"ticks\":\"\",\"title\":{\"standoff\":15},\"zerolinecolor\":\"white\",\"zerolinewidth\":2},\"yaxis\":{\"automargin\":true,\"gridcolor\":\"white\",\"linecolor\":\"white\",\"ticks\":\"\",\"title\":{\"standoff\":15},\"zerolinecolor\":\"white\",\"zerolinewidth\":2}}},\"title\":{\"font\":{\"color\":\"#4D5663\"},\"text\":\"Vehicle type of CAFV-inelligible vehicles\"},\"xaxis\":{\"gridcolor\":\"#E1E5ED\",\"showgrid\":true,\"tickfont\":{\"color\":\"#4D5663\"},\"title\":{\"font\":{\"color\":\"#4D5663\"},\"text\":\"\"},\"zerolinecolor\":\"#E1E5ED\"},\"yaxis\":{\"gridcolor\":\"#E1E5ED\",\"showgrid\":true,\"tickfont\":{\"color\":\"#4D5663\"},\"title\":{\"font\":{\"color\":\"#4D5663\"},\"text\":\"\"},\"zerolinecolor\":\"#E1E5ED\"}},                        {\"showLink\": true, \"linkText\": \"Export to plot.ly\", \"plotlyServerURL\": \"https://plot.ly\", \"responsive\": true}                    ).then(function(){\n",
       "                            \n",
       "var gd = document.getElementById('81504a0e-f7bc-4c57-a717-b42d6cb48da0');\n",
       "var x = new MutationObserver(function (mutations, observer) {{\n",
       "        var display = window.getComputedStyle(gd).display;\n",
       "        if (!display || display === 'none') {{\n",
       "            console.log([gd, 'removed!']);\n",
       "            Plotly.purge(gd);\n",
       "            observer.disconnect();\n",
       "        }}\n",
       "}});\n",
       "\n",
       "// Listen for the removal of the full notebook cells\n",
       "var notebookContainer = gd.closest('#notebook-container');\n",
       "if (notebookContainer) {{\n",
       "    x.observe(notebookContainer, {childList: true});\n",
       "}}\n",
       "\n",
       "// Listen for the clearing of the current output cell\n",
       "var outputEl = gd.closest('.output');\n",
       "if (outputEl) {{\n",
       "    x.observe(outputEl, {childList: true});\n",
       "}}\n",
       "\n",
       "                        })                };                });            </script>        </div>"
      ]
     },
     "metadata": {},
     "output_type": "display_data"
    }
   ],
   "source": [
    "df_not_eligible_for_CAFV['Electric Vehicle Type'].value_counts().iplot(kind='bar', title='Vehicle type of CAFV-inelligible vehicles')"
   ]
  },
  {
   "cell_type": "markdown",
   "metadata": {},
   "source": [
    "* Hover over the bar graph to get the actual count"
   ]
  },
  {
   "cell_type": "markdown",
   "metadata": {},
   "source": [
    "## Insight 2:\n",
    "Get all TESLA cars with the model year, and model type made in Bothell City."
   ]
  },
  {
   "cell_type": "markdown",
   "metadata": {},
   "source": [
    "### Data"
   ]
  },
  {
   "cell_type": "code",
   "execution_count": 38,
   "metadata": {},
   "outputs": [
    {
     "data": {
      "text/html": [
       "<div>\n",
       "<style scoped>\n",
       "    .dataframe tbody tr th:only-of-type {\n",
       "        vertical-align: middle;\n",
       "    }\n",
       "\n",
       "    .dataframe tbody tr th {\n",
       "        vertical-align: top;\n",
       "    }\n",
       "\n",
       "    .dataframe thead th {\n",
       "        text-align: right;\n",
       "    }\n",
       "</style>\n",
       "<table border=\"1\" class=\"dataframe\">\n",
       "  <thead>\n",
       "    <tr style=\"text-align: right;\">\n",
       "      <th></th>\n",
       "      <th>Make</th>\n",
       "      <th>City</th>\n",
       "      <th>Model Year</th>\n",
       "      <th>Model</th>\n",
       "    </tr>\n",
       "  </thead>\n",
       "  <tbody>\n",
       "    <tr>\n",
       "      <th>39</th>\n",
       "      <td>TESLA</td>\n",
       "      <td>Bothell</td>\n",
       "      <td>2020</td>\n",
       "      <td>MODEL 3</td>\n",
       "    </tr>\n",
       "    <tr>\n",
       "      <th>217</th>\n",
       "      <td>TESLA</td>\n",
       "      <td>Bothell</td>\n",
       "      <td>2022</td>\n",
       "      <td>MODEL 3</td>\n",
       "    </tr>\n",
       "    <tr>\n",
       "      <th>218</th>\n",
       "      <td>TESLA</td>\n",
       "      <td>Bothell</td>\n",
       "      <td>2022</td>\n",
       "      <td>MODEL Y</td>\n",
       "    </tr>\n",
       "  </tbody>\n",
       "</table>\n",
       "</div>"
      ],
      "text/plain": [
       "      Make     City  Model Year    Model\n",
       "39   TESLA  Bothell        2020  MODEL 3\n",
       "217  TESLA  Bothell        2022  MODEL 3\n",
       "218  TESLA  Bothell        2022  MODEL Y"
      ]
     },
     "execution_count": 38,
     "metadata": {},
     "output_type": "execute_result"
    }
   ],
   "source": [
    "df_tesla_bothell = df [(df.City == 'Bothell') & (df.Make == 'TESLA')][['Make', 'City', 'Model Year', 'Model']]\n",
    "df_tesla_bothell.head(3)"
   ]
  },
  {
   "cell_type": "markdown",
   "metadata": {},
   "source": [
    "### Count"
   ]
  },
  {
   "cell_type": "code",
   "execution_count": 39,
   "metadata": {},
   "outputs": [
    {
     "data": {
      "text/plain": [
       "(2407, 4)"
      ]
     },
     "execution_count": 39,
     "metadata": {},
     "output_type": "execute_result"
    }
   ],
   "source": [
    "df_tesla_bothell.shape"
   ]
  },
  {
   "cell_type": "markdown",
   "metadata": {},
   "source": [
    "There are a total of **2407 Tesla Vehicles** manufactured in Bothell"
   ]
  },
  {
   "cell_type": "markdown",
   "metadata": {},
   "source": [
    "### Model Type"
   ]
  },
  {
   "cell_type": "code",
   "execution_count": 40,
   "metadata": {},
   "outputs": [
    {
     "data": {
      "application/vnd.plotly.v1+json": {
       "config": {
        "linkText": "Export to plot.ly",
        "plotlyServerURL": "https://plot.ly",
        "showLink": true
       },
       "data": [
        {
         "marker": {
          "color": "rgba(255, 153, 51, 0.6)",
          "line": {
           "color": "rgba(255, 153, 51, 1.0)",
           "width": 1
          }
         },
         "name": "Model",
         "orientation": "v",
         "text": "",
         "type": "bar",
         "x": [
          "MODEL Y",
          "MODEL 3",
          "MODEL X",
          "MODEL S"
         ],
         "y": [
          1147,
          910,
          176,
          174
         ]
        }
       ],
       "layout": {
        "legend": {
         "bgcolor": "#F5F6F9",
         "font": {
          "color": "#4D5663"
         }
        },
        "paper_bgcolor": "#F5F6F9",
        "plot_bgcolor": "#F5F6F9",
        "template": {
         "data": {
          "bar": [
           {
            "error_x": {
             "color": "#2a3f5f"
            },
            "error_y": {
             "color": "#2a3f5f"
            },
            "marker": {
             "line": {
              "color": "#E5ECF6",
              "width": 0.5
             },
             "pattern": {
              "fillmode": "overlay",
              "size": 10,
              "solidity": 0.2
             }
            },
            "type": "bar"
           }
          ],
          "barpolar": [
           {
            "marker": {
             "line": {
              "color": "#E5ECF6",
              "width": 0.5
             },
             "pattern": {
              "fillmode": "overlay",
              "size": 10,
              "solidity": 0.2
             }
            },
            "type": "barpolar"
           }
          ],
          "carpet": [
           {
            "aaxis": {
             "endlinecolor": "#2a3f5f",
             "gridcolor": "white",
             "linecolor": "white",
             "minorgridcolor": "white",
             "startlinecolor": "#2a3f5f"
            },
            "baxis": {
             "endlinecolor": "#2a3f5f",
             "gridcolor": "white",
             "linecolor": "white",
             "minorgridcolor": "white",
             "startlinecolor": "#2a3f5f"
            },
            "type": "carpet"
           }
          ],
          "choropleth": [
           {
            "colorbar": {
             "outlinewidth": 0,
             "ticks": ""
            },
            "type": "choropleth"
           }
          ],
          "contour": [
           {
            "colorbar": {
             "outlinewidth": 0,
             "ticks": ""
            },
            "colorscale": [
             [
              0,
              "#0d0887"
             ],
             [
              0.1111111111111111,
              "#46039f"
             ],
             [
              0.2222222222222222,
              "#7201a8"
             ],
             [
              0.3333333333333333,
              "#9c179e"
             ],
             [
              0.4444444444444444,
              "#bd3786"
             ],
             [
              0.5555555555555556,
              "#d8576b"
             ],
             [
              0.6666666666666666,
              "#ed7953"
             ],
             [
              0.7777777777777778,
              "#fb9f3a"
             ],
             [
              0.8888888888888888,
              "#fdca26"
             ],
             [
              1,
              "#f0f921"
             ]
            ],
            "type": "contour"
           }
          ],
          "contourcarpet": [
           {
            "colorbar": {
             "outlinewidth": 0,
             "ticks": ""
            },
            "type": "contourcarpet"
           }
          ],
          "heatmap": [
           {
            "colorbar": {
             "outlinewidth": 0,
             "ticks": ""
            },
            "colorscale": [
             [
              0,
              "#0d0887"
             ],
             [
              0.1111111111111111,
              "#46039f"
             ],
             [
              0.2222222222222222,
              "#7201a8"
             ],
             [
              0.3333333333333333,
              "#9c179e"
             ],
             [
              0.4444444444444444,
              "#bd3786"
             ],
             [
              0.5555555555555556,
              "#d8576b"
             ],
             [
              0.6666666666666666,
              "#ed7953"
             ],
             [
              0.7777777777777778,
              "#fb9f3a"
             ],
             [
              0.8888888888888888,
              "#fdca26"
             ],
             [
              1,
              "#f0f921"
             ]
            ],
            "type": "heatmap"
           }
          ],
          "heatmapgl": [
           {
            "colorbar": {
             "outlinewidth": 0,
             "ticks": ""
            },
            "colorscale": [
             [
              0,
              "#0d0887"
             ],
             [
              0.1111111111111111,
              "#46039f"
             ],
             [
              0.2222222222222222,
              "#7201a8"
             ],
             [
              0.3333333333333333,
              "#9c179e"
             ],
             [
              0.4444444444444444,
              "#bd3786"
             ],
             [
              0.5555555555555556,
              "#d8576b"
             ],
             [
              0.6666666666666666,
              "#ed7953"
             ],
             [
              0.7777777777777778,
              "#fb9f3a"
             ],
             [
              0.8888888888888888,
              "#fdca26"
             ],
             [
              1,
              "#f0f921"
             ]
            ],
            "type": "heatmapgl"
           }
          ],
          "histogram": [
           {
            "marker": {
             "pattern": {
              "fillmode": "overlay",
              "size": 10,
              "solidity": 0.2
             }
            },
            "type": "histogram"
           }
          ],
          "histogram2d": [
           {
            "colorbar": {
             "outlinewidth": 0,
             "ticks": ""
            },
            "colorscale": [
             [
              0,
              "#0d0887"
             ],
             [
              0.1111111111111111,
              "#46039f"
             ],
             [
              0.2222222222222222,
              "#7201a8"
             ],
             [
              0.3333333333333333,
              "#9c179e"
             ],
             [
              0.4444444444444444,
              "#bd3786"
             ],
             [
              0.5555555555555556,
              "#d8576b"
             ],
             [
              0.6666666666666666,
              "#ed7953"
             ],
             [
              0.7777777777777778,
              "#fb9f3a"
             ],
             [
              0.8888888888888888,
              "#fdca26"
             ],
             [
              1,
              "#f0f921"
             ]
            ],
            "type": "histogram2d"
           }
          ],
          "histogram2dcontour": [
           {
            "colorbar": {
             "outlinewidth": 0,
             "ticks": ""
            },
            "colorscale": [
             [
              0,
              "#0d0887"
             ],
             [
              0.1111111111111111,
              "#46039f"
             ],
             [
              0.2222222222222222,
              "#7201a8"
             ],
             [
              0.3333333333333333,
              "#9c179e"
             ],
             [
              0.4444444444444444,
              "#bd3786"
             ],
             [
              0.5555555555555556,
              "#d8576b"
             ],
             [
              0.6666666666666666,
              "#ed7953"
             ],
             [
              0.7777777777777778,
              "#fb9f3a"
             ],
             [
              0.8888888888888888,
              "#fdca26"
             ],
             [
              1,
              "#f0f921"
             ]
            ],
            "type": "histogram2dcontour"
           }
          ],
          "mesh3d": [
           {
            "colorbar": {
             "outlinewidth": 0,
             "ticks": ""
            },
            "type": "mesh3d"
           }
          ],
          "parcoords": [
           {
            "line": {
             "colorbar": {
              "outlinewidth": 0,
              "ticks": ""
             }
            },
            "type": "parcoords"
           }
          ],
          "pie": [
           {
            "automargin": true,
            "type": "pie"
           }
          ],
          "scatter": [
           {
            "fillpattern": {
             "fillmode": "overlay",
             "size": 10,
             "solidity": 0.2
            },
            "type": "scatter"
           }
          ],
          "scatter3d": [
           {
            "line": {
             "colorbar": {
              "outlinewidth": 0,
              "ticks": ""
             }
            },
            "marker": {
             "colorbar": {
              "outlinewidth": 0,
              "ticks": ""
             }
            },
            "type": "scatter3d"
           }
          ],
          "scattercarpet": [
           {
            "marker": {
             "colorbar": {
              "outlinewidth": 0,
              "ticks": ""
             }
            },
            "type": "scattercarpet"
           }
          ],
          "scattergeo": [
           {
            "marker": {
             "colorbar": {
              "outlinewidth": 0,
              "ticks": ""
             }
            },
            "type": "scattergeo"
           }
          ],
          "scattergl": [
           {
            "marker": {
             "colorbar": {
              "outlinewidth": 0,
              "ticks": ""
             }
            },
            "type": "scattergl"
           }
          ],
          "scattermapbox": [
           {
            "marker": {
             "colorbar": {
              "outlinewidth": 0,
              "ticks": ""
             }
            },
            "type": "scattermapbox"
           }
          ],
          "scatterpolar": [
           {
            "marker": {
             "colorbar": {
              "outlinewidth": 0,
              "ticks": ""
             }
            },
            "type": "scatterpolar"
           }
          ],
          "scatterpolargl": [
           {
            "marker": {
             "colorbar": {
              "outlinewidth": 0,
              "ticks": ""
             }
            },
            "type": "scatterpolargl"
           }
          ],
          "scatterternary": [
           {
            "marker": {
             "colorbar": {
              "outlinewidth": 0,
              "ticks": ""
             }
            },
            "type": "scatterternary"
           }
          ],
          "surface": [
           {
            "colorbar": {
             "outlinewidth": 0,
             "ticks": ""
            },
            "colorscale": [
             [
              0,
              "#0d0887"
             ],
             [
              0.1111111111111111,
              "#46039f"
             ],
             [
              0.2222222222222222,
              "#7201a8"
             ],
             [
              0.3333333333333333,
              "#9c179e"
             ],
             [
              0.4444444444444444,
              "#bd3786"
             ],
             [
              0.5555555555555556,
              "#d8576b"
             ],
             [
              0.6666666666666666,
              "#ed7953"
             ],
             [
              0.7777777777777778,
              "#fb9f3a"
             ],
             [
              0.8888888888888888,
              "#fdca26"
             ],
             [
              1,
              "#f0f921"
             ]
            ],
            "type": "surface"
           }
          ],
          "table": [
           {
            "cells": {
             "fill": {
              "color": "#EBF0F8"
             },
             "line": {
              "color": "white"
             }
            },
            "header": {
             "fill": {
              "color": "#C8D4E3"
             },
             "line": {
              "color": "white"
             }
            },
            "type": "table"
           }
          ]
         },
         "layout": {
          "annotationdefaults": {
           "arrowcolor": "#2a3f5f",
           "arrowhead": 0,
           "arrowwidth": 1
          },
          "autotypenumbers": "strict",
          "coloraxis": {
           "colorbar": {
            "outlinewidth": 0,
            "ticks": ""
           }
          },
          "colorscale": {
           "diverging": [
            [
             0,
             "#8e0152"
            ],
            [
             0.1,
             "#c51b7d"
            ],
            [
             0.2,
             "#de77ae"
            ],
            [
             0.3,
             "#f1b6da"
            ],
            [
             0.4,
             "#fde0ef"
            ],
            [
             0.5,
             "#f7f7f7"
            ],
            [
             0.6,
             "#e6f5d0"
            ],
            [
             0.7,
             "#b8e186"
            ],
            [
             0.8,
             "#7fbc41"
            ],
            [
             0.9,
             "#4d9221"
            ],
            [
             1,
             "#276419"
            ]
           ],
           "sequential": [
            [
             0,
             "#0d0887"
            ],
            [
             0.1111111111111111,
             "#46039f"
            ],
            [
             0.2222222222222222,
             "#7201a8"
            ],
            [
             0.3333333333333333,
             "#9c179e"
            ],
            [
             0.4444444444444444,
             "#bd3786"
            ],
            [
             0.5555555555555556,
             "#d8576b"
            ],
            [
             0.6666666666666666,
             "#ed7953"
            ],
            [
             0.7777777777777778,
             "#fb9f3a"
            ],
            [
             0.8888888888888888,
             "#fdca26"
            ],
            [
             1,
             "#f0f921"
            ]
           ],
           "sequentialminus": [
            [
             0,
             "#0d0887"
            ],
            [
             0.1111111111111111,
             "#46039f"
            ],
            [
             0.2222222222222222,
             "#7201a8"
            ],
            [
             0.3333333333333333,
             "#9c179e"
            ],
            [
             0.4444444444444444,
             "#bd3786"
            ],
            [
             0.5555555555555556,
             "#d8576b"
            ],
            [
             0.6666666666666666,
             "#ed7953"
            ],
            [
             0.7777777777777778,
             "#fb9f3a"
            ],
            [
             0.8888888888888888,
             "#fdca26"
            ],
            [
             1,
             "#f0f921"
            ]
           ]
          },
          "colorway": [
           "#636efa",
           "#EF553B",
           "#00cc96",
           "#ab63fa",
           "#FFA15A",
           "#19d3f3",
           "#FF6692",
           "#B6E880",
           "#FF97FF",
           "#FECB52"
          ],
          "font": {
           "color": "#2a3f5f"
          },
          "geo": {
           "bgcolor": "white",
           "lakecolor": "white",
           "landcolor": "#E5ECF6",
           "showlakes": true,
           "showland": true,
           "subunitcolor": "white"
          },
          "hoverlabel": {
           "align": "left"
          },
          "hovermode": "closest",
          "mapbox": {
           "style": "light"
          },
          "paper_bgcolor": "white",
          "plot_bgcolor": "#E5ECF6",
          "polar": {
           "angularaxis": {
            "gridcolor": "white",
            "linecolor": "white",
            "ticks": ""
           },
           "bgcolor": "#E5ECF6",
           "radialaxis": {
            "gridcolor": "white",
            "linecolor": "white",
            "ticks": ""
           }
          },
          "scene": {
           "xaxis": {
            "backgroundcolor": "#E5ECF6",
            "gridcolor": "white",
            "gridwidth": 2,
            "linecolor": "white",
            "showbackground": true,
            "ticks": "",
            "zerolinecolor": "white"
           },
           "yaxis": {
            "backgroundcolor": "#E5ECF6",
            "gridcolor": "white",
            "gridwidth": 2,
            "linecolor": "white",
            "showbackground": true,
            "ticks": "",
            "zerolinecolor": "white"
           },
           "zaxis": {
            "backgroundcolor": "#E5ECF6",
            "gridcolor": "white",
            "gridwidth": 2,
            "linecolor": "white",
            "showbackground": true,
            "ticks": "",
            "zerolinecolor": "white"
           }
          },
          "shapedefaults": {
           "line": {
            "color": "#2a3f5f"
           }
          },
          "ternary": {
           "aaxis": {
            "gridcolor": "white",
            "linecolor": "white",
            "ticks": ""
           },
           "baxis": {
            "gridcolor": "white",
            "linecolor": "white",
            "ticks": ""
           },
           "bgcolor": "#E5ECF6",
           "caxis": {
            "gridcolor": "white",
            "linecolor": "white",
            "ticks": ""
           }
          },
          "title": {
           "x": 0.05
          },
          "xaxis": {
           "automargin": true,
           "gridcolor": "white",
           "linecolor": "white",
           "ticks": "",
           "title": {
            "standoff": 15
           },
           "zerolinecolor": "white",
           "zerolinewidth": 2
          },
          "yaxis": {
           "automargin": true,
           "gridcolor": "white",
           "linecolor": "white",
           "ticks": "",
           "title": {
            "standoff": 15
           },
           "zerolinecolor": "white",
           "zerolinewidth": 2
          }
         }
        },
        "title": {
         "font": {
          "color": "#4D5663"
         },
         "text": "Model Type of Bothell manufactured Tesla Vehicles"
        },
        "xaxis": {
         "gridcolor": "#E1E5ED",
         "showgrid": true,
         "tickfont": {
          "color": "#4D5663"
         },
         "title": {
          "font": {
           "color": "#4D5663"
          },
          "text": ""
         },
         "zerolinecolor": "#E1E5ED"
        },
        "yaxis": {
         "gridcolor": "#E1E5ED",
         "showgrid": true,
         "tickfont": {
          "color": "#4D5663"
         },
         "title": {
          "font": {
           "color": "#4D5663"
          },
          "text": ""
         },
         "zerolinecolor": "#E1E5ED"
        }
       }
      },
      "text/html": [
       "<div>                            <div id=\"9fcb062d-4183-4425-abb1-0ef3a451311f\" class=\"plotly-graph-div\" style=\"height:525px; width:100%;\"></div>            <script type=\"text/javascript\">                require([\"plotly\"], function(Plotly) {                    window.PLOTLYENV=window.PLOTLYENV || {};\n",
       "                    window.PLOTLYENV.BASE_URL='https://plot.ly';                                    if (document.getElementById(\"9fcb062d-4183-4425-abb1-0ef3a451311f\")) {                    Plotly.newPlot(                        \"9fcb062d-4183-4425-abb1-0ef3a451311f\",                        [{\"marker\":{\"color\":\"rgba(255, 153, 51, 0.6)\",\"line\":{\"color\":\"rgba(255, 153, 51, 1.0)\",\"width\":1}},\"name\":\"Model\",\"orientation\":\"v\",\"text\":\"\",\"x\":[\"MODEL Y\",\"MODEL 3\",\"MODEL X\",\"MODEL S\"],\"y\":[1147,910,176,174],\"type\":\"bar\"}],                        {\"legend\":{\"bgcolor\":\"#F5F6F9\",\"font\":{\"color\":\"#4D5663\"}},\"paper_bgcolor\":\"#F5F6F9\",\"plot_bgcolor\":\"#F5F6F9\",\"template\":{\"data\":{\"barpolar\":[{\"marker\":{\"line\":{\"color\":\"#E5ECF6\",\"width\":0.5},\"pattern\":{\"fillmode\":\"overlay\",\"size\":10,\"solidity\":0.2}},\"type\":\"barpolar\"}],\"bar\":[{\"error_x\":{\"color\":\"#2a3f5f\"},\"error_y\":{\"color\":\"#2a3f5f\"},\"marker\":{\"line\":{\"color\":\"#E5ECF6\",\"width\":0.5},\"pattern\":{\"fillmode\":\"overlay\",\"size\":10,\"solidity\":0.2}},\"type\":\"bar\"}],\"carpet\":[{\"aaxis\":{\"endlinecolor\":\"#2a3f5f\",\"gridcolor\":\"white\",\"linecolor\":\"white\",\"minorgridcolor\":\"white\",\"startlinecolor\":\"#2a3f5f\"},\"baxis\":{\"endlinecolor\":\"#2a3f5f\",\"gridcolor\":\"white\",\"linecolor\":\"white\",\"minorgridcolor\":\"white\",\"startlinecolor\":\"#2a3f5f\"},\"type\":\"carpet\"}],\"choropleth\":[{\"colorbar\":{\"outlinewidth\":0,\"ticks\":\"\"},\"type\":\"choropleth\"}],\"contourcarpet\":[{\"colorbar\":{\"outlinewidth\":0,\"ticks\":\"\"},\"type\":\"contourcarpet\"}],\"contour\":[{\"colorbar\":{\"outlinewidth\":0,\"ticks\":\"\"},\"colorscale\":[[0.0,\"#0d0887\"],[0.1111111111111111,\"#46039f\"],[0.2222222222222222,\"#7201a8\"],[0.3333333333333333,\"#9c179e\"],[0.4444444444444444,\"#bd3786\"],[0.5555555555555556,\"#d8576b\"],[0.6666666666666666,\"#ed7953\"],[0.7777777777777778,\"#fb9f3a\"],[0.8888888888888888,\"#fdca26\"],[1.0,\"#f0f921\"]],\"type\":\"contour\"}],\"heatmapgl\":[{\"colorbar\":{\"outlinewidth\":0,\"ticks\":\"\"},\"colorscale\":[[0.0,\"#0d0887\"],[0.1111111111111111,\"#46039f\"],[0.2222222222222222,\"#7201a8\"],[0.3333333333333333,\"#9c179e\"],[0.4444444444444444,\"#bd3786\"],[0.5555555555555556,\"#d8576b\"],[0.6666666666666666,\"#ed7953\"],[0.7777777777777778,\"#fb9f3a\"],[0.8888888888888888,\"#fdca26\"],[1.0,\"#f0f921\"]],\"type\":\"heatmapgl\"}],\"heatmap\":[{\"colorbar\":{\"outlinewidth\":0,\"ticks\":\"\"},\"colorscale\":[[0.0,\"#0d0887\"],[0.1111111111111111,\"#46039f\"],[0.2222222222222222,\"#7201a8\"],[0.3333333333333333,\"#9c179e\"],[0.4444444444444444,\"#bd3786\"],[0.5555555555555556,\"#d8576b\"],[0.6666666666666666,\"#ed7953\"],[0.7777777777777778,\"#fb9f3a\"],[0.8888888888888888,\"#fdca26\"],[1.0,\"#f0f921\"]],\"type\":\"heatmap\"}],\"histogram2dcontour\":[{\"colorbar\":{\"outlinewidth\":0,\"ticks\":\"\"},\"colorscale\":[[0.0,\"#0d0887\"],[0.1111111111111111,\"#46039f\"],[0.2222222222222222,\"#7201a8\"],[0.3333333333333333,\"#9c179e\"],[0.4444444444444444,\"#bd3786\"],[0.5555555555555556,\"#d8576b\"],[0.6666666666666666,\"#ed7953\"],[0.7777777777777778,\"#fb9f3a\"],[0.8888888888888888,\"#fdca26\"],[1.0,\"#f0f921\"]],\"type\":\"histogram2dcontour\"}],\"histogram2d\":[{\"colorbar\":{\"outlinewidth\":0,\"ticks\":\"\"},\"colorscale\":[[0.0,\"#0d0887\"],[0.1111111111111111,\"#46039f\"],[0.2222222222222222,\"#7201a8\"],[0.3333333333333333,\"#9c179e\"],[0.4444444444444444,\"#bd3786\"],[0.5555555555555556,\"#d8576b\"],[0.6666666666666666,\"#ed7953\"],[0.7777777777777778,\"#fb9f3a\"],[0.8888888888888888,\"#fdca26\"],[1.0,\"#f0f921\"]],\"type\":\"histogram2d\"}],\"histogram\":[{\"marker\":{\"pattern\":{\"fillmode\":\"overlay\",\"size\":10,\"solidity\":0.2}},\"type\":\"histogram\"}],\"mesh3d\":[{\"colorbar\":{\"outlinewidth\":0,\"ticks\":\"\"},\"type\":\"mesh3d\"}],\"parcoords\":[{\"line\":{\"colorbar\":{\"outlinewidth\":0,\"ticks\":\"\"}},\"type\":\"parcoords\"}],\"pie\":[{\"automargin\":true,\"type\":\"pie\"}],\"scatter3d\":[{\"line\":{\"colorbar\":{\"outlinewidth\":0,\"ticks\":\"\"}},\"marker\":{\"colorbar\":{\"outlinewidth\":0,\"ticks\":\"\"}},\"type\":\"scatter3d\"}],\"scattercarpet\":[{\"marker\":{\"colorbar\":{\"outlinewidth\":0,\"ticks\":\"\"}},\"type\":\"scattercarpet\"}],\"scattergeo\":[{\"marker\":{\"colorbar\":{\"outlinewidth\":0,\"ticks\":\"\"}},\"type\":\"scattergeo\"}],\"scattergl\":[{\"marker\":{\"colorbar\":{\"outlinewidth\":0,\"ticks\":\"\"}},\"type\":\"scattergl\"}],\"scattermapbox\":[{\"marker\":{\"colorbar\":{\"outlinewidth\":0,\"ticks\":\"\"}},\"type\":\"scattermapbox\"}],\"scatterpolargl\":[{\"marker\":{\"colorbar\":{\"outlinewidth\":0,\"ticks\":\"\"}},\"type\":\"scatterpolargl\"}],\"scatterpolar\":[{\"marker\":{\"colorbar\":{\"outlinewidth\":0,\"ticks\":\"\"}},\"type\":\"scatterpolar\"}],\"scatter\":[{\"fillpattern\":{\"fillmode\":\"overlay\",\"size\":10,\"solidity\":0.2},\"type\":\"scatter\"}],\"scatterternary\":[{\"marker\":{\"colorbar\":{\"outlinewidth\":0,\"ticks\":\"\"}},\"type\":\"scatterternary\"}],\"surface\":[{\"colorbar\":{\"outlinewidth\":0,\"ticks\":\"\"},\"colorscale\":[[0.0,\"#0d0887\"],[0.1111111111111111,\"#46039f\"],[0.2222222222222222,\"#7201a8\"],[0.3333333333333333,\"#9c179e\"],[0.4444444444444444,\"#bd3786\"],[0.5555555555555556,\"#d8576b\"],[0.6666666666666666,\"#ed7953\"],[0.7777777777777778,\"#fb9f3a\"],[0.8888888888888888,\"#fdca26\"],[1.0,\"#f0f921\"]],\"type\":\"surface\"}],\"table\":[{\"cells\":{\"fill\":{\"color\":\"#EBF0F8\"},\"line\":{\"color\":\"white\"}},\"header\":{\"fill\":{\"color\":\"#C8D4E3\"},\"line\":{\"color\":\"white\"}},\"type\":\"table\"}]},\"layout\":{\"annotationdefaults\":{\"arrowcolor\":\"#2a3f5f\",\"arrowhead\":0,\"arrowwidth\":1},\"autotypenumbers\":\"strict\",\"coloraxis\":{\"colorbar\":{\"outlinewidth\":0,\"ticks\":\"\"}},\"colorscale\":{\"diverging\":[[0,\"#8e0152\"],[0.1,\"#c51b7d\"],[0.2,\"#de77ae\"],[0.3,\"#f1b6da\"],[0.4,\"#fde0ef\"],[0.5,\"#f7f7f7\"],[0.6,\"#e6f5d0\"],[0.7,\"#b8e186\"],[0.8,\"#7fbc41\"],[0.9,\"#4d9221\"],[1,\"#276419\"]],\"sequential\":[[0.0,\"#0d0887\"],[0.1111111111111111,\"#46039f\"],[0.2222222222222222,\"#7201a8\"],[0.3333333333333333,\"#9c179e\"],[0.4444444444444444,\"#bd3786\"],[0.5555555555555556,\"#d8576b\"],[0.6666666666666666,\"#ed7953\"],[0.7777777777777778,\"#fb9f3a\"],[0.8888888888888888,\"#fdca26\"],[1.0,\"#f0f921\"]],\"sequentialminus\":[[0.0,\"#0d0887\"],[0.1111111111111111,\"#46039f\"],[0.2222222222222222,\"#7201a8\"],[0.3333333333333333,\"#9c179e\"],[0.4444444444444444,\"#bd3786\"],[0.5555555555555556,\"#d8576b\"],[0.6666666666666666,\"#ed7953\"],[0.7777777777777778,\"#fb9f3a\"],[0.8888888888888888,\"#fdca26\"],[1.0,\"#f0f921\"]]},\"colorway\":[\"#636efa\",\"#EF553B\",\"#00cc96\",\"#ab63fa\",\"#FFA15A\",\"#19d3f3\",\"#FF6692\",\"#B6E880\",\"#FF97FF\",\"#FECB52\"],\"font\":{\"color\":\"#2a3f5f\"},\"geo\":{\"bgcolor\":\"white\",\"lakecolor\":\"white\",\"landcolor\":\"#E5ECF6\",\"showlakes\":true,\"showland\":true,\"subunitcolor\":\"white\"},\"hoverlabel\":{\"align\":\"left\"},\"hovermode\":\"closest\",\"mapbox\":{\"style\":\"light\"},\"paper_bgcolor\":\"white\",\"plot_bgcolor\":\"#E5ECF6\",\"polar\":{\"angularaxis\":{\"gridcolor\":\"white\",\"linecolor\":\"white\",\"ticks\":\"\"},\"bgcolor\":\"#E5ECF6\",\"radialaxis\":{\"gridcolor\":\"white\",\"linecolor\":\"white\",\"ticks\":\"\"}},\"scene\":{\"xaxis\":{\"backgroundcolor\":\"#E5ECF6\",\"gridcolor\":\"white\",\"gridwidth\":2,\"linecolor\":\"white\",\"showbackground\":true,\"ticks\":\"\",\"zerolinecolor\":\"white\"},\"yaxis\":{\"backgroundcolor\":\"#E5ECF6\",\"gridcolor\":\"white\",\"gridwidth\":2,\"linecolor\":\"white\",\"showbackground\":true,\"ticks\":\"\",\"zerolinecolor\":\"white\"},\"zaxis\":{\"backgroundcolor\":\"#E5ECF6\",\"gridcolor\":\"white\",\"gridwidth\":2,\"linecolor\":\"white\",\"showbackground\":true,\"ticks\":\"\",\"zerolinecolor\":\"white\"}},\"shapedefaults\":{\"line\":{\"color\":\"#2a3f5f\"}},\"ternary\":{\"aaxis\":{\"gridcolor\":\"white\",\"linecolor\":\"white\",\"ticks\":\"\"},\"baxis\":{\"gridcolor\":\"white\",\"linecolor\":\"white\",\"ticks\":\"\"},\"bgcolor\":\"#E5ECF6\",\"caxis\":{\"gridcolor\":\"white\",\"linecolor\":\"white\",\"ticks\":\"\"}},\"title\":{\"x\":0.05},\"xaxis\":{\"automargin\":true,\"gridcolor\":\"white\",\"linecolor\":\"white\",\"ticks\":\"\",\"title\":{\"standoff\":15},\"zerolinecolor\":\"white\",\"zerolinewidth\":2},\"yaxis\":{\"automargin\":true,\"gridcolor\":\"white\",\"linecolor\":\"white\",\"ticks\":\"\",\"title\":{\"standoff\":15},\"zerolinecolor\":\"white\",\"zerolinewidth\":2}}},\"title\":{\"font\":{\"color\":\"#4D5663\"},\"text\":\"Model Type of Bothell manufactured Tesla Vehicles\"},\"xaxis\":{\"gridcolor\":\"#E1E5ED\",\"showgrid\":true,\"tickfont\":{\"color\":\"#4D5663\"},\"title\":{\"font\":{\"color\":\"#4D5663\"},\"text\":\"\"},\"zerolinecolor\":\"#E1E5ED\"},\"yaxis\":{\"gridcolor\":\"#E1E5ED\",\"showgrid\":true,\"tickfont\":{\"color\":\"#4D5663\"},\"title\":{\"font\":{\"color\":\"#4D5663\"},\"text\":\"\"},\"zerolinecolor\":\"#E1E5ED\"}},                        {\"showLink\": true, \"linkText\": \"Export to plot.ly\", \"plotlyServerURL\": \"https://plot.ly\", \"responsive\": true}                    ).then(function(){\n",
       "                            \n",
       "var gd = document.getElementById('9fcb062d-4183-4425-abb1-0ef3a451311f');\n",
       "var x = new MutationObserver(function (mutations, observer) {{\n",
       "        var display = window.getComputedStyle(gd).display;\n",
       "        if (!display || display === 'none') {{\n",
       "            console.log([gd, 'removed!']);\n",
       "            Plotly.purge(gd);\n",
       "            observer.disconnect();\n",
       "        }}\n",
       "}});\n",
       "\n",
       "// Listen for the removal of the full notebook cells\n",
       "var notebookContainer = gd.closest('#notebook-container');\n",
       "if (notebookContainer) {{\n",
       "    x.observe(notebookContainer, {childList: true});\n",
       "}}\n",
       "\n",
       "// Listen for the clearing of the current output cell\n",
       "var outputEl = gd.closest('.output');\n",
       "if (outputEl) {{\n",
       "    x.observe(outputEl, {childList: true});\n",
       "}}\n",
       "\n",
       "                        })                };                });            </script>        </div>"
      ]
     },
     "metadata": {},
     "output_type": "display_data"
    }
   ],
   "source": [
    "df_tesla_bothell['Model'].value_counts().iplot(kind='bar', title='Model Type of Bothell manufactured Tesla Vehicles')"
   ]
  },
  {
   "cell_type": "markdown",
   "metadata": {},
   "source": [
    "* Hover over the bar graph to get the actual count"
   ]
  },
  {
   "cell_type": "markdown",
   "metadata": {},
   "source": [
    "### Model Year"
   ]
  },
  {
   "cell_type": "code",
   "execution_count": 41,
   "metadata": {},
   "outputs": [
    {
     "data": {
      "application/vnd.plotly.v1+json": {
       "config": {
        "linkText": "Export to plot.ly",
        "plotlyServerURL": "https://plot.ly",
        "showLink": true
       },
       "data": [
        {
         "marker": {
          "color": "rgba(255, 153, 51, 0.6)",
          "line": {
           "color": "rgba(255, 153, 51, 1.0)",
           "width": 1
          }
         },
         "name": "Model Year",
         "orientation": "v",
         "text": "",
         "type": "bar",
         "x": [
          2022,
          2023,
          2021,
          2018,
          2020,
          2019,
          2017,
          2016,
          2015,
          2014,
          2013,
          2012
         ],
         "y": [
          638,
          501,
          440,
          278,
          239,
          175,
          46,
          36,
          26,
          15,
          12,
          1
         ]
        }
       ],
       "layout": {
        "legend": {
         "bgcolor": "#F5F6F9",
         "font": {
          "color": "#4D5663"
         }
        },
        "paper_bgcolor": "#F5F6F9",
        "plot_bgcolor": "#F5F6F9",
        "template": {
         "data": {
          "bar": [
           {
            "error_x": {
             "color": "#2a3f5f"
            },
            "error_y": {
             "color": "#2a3f5f"
            },
            "marker": {
             "line": {
              "color": "#E5ECF6",
              "width": 0.5
             },
             "pattern": {
              "fillmode": "overlay",
              "size": 10,
              "solidity": 0.2
             }
            },
            "type": "bar"
           }
          ],
          "barpolar": [
           {
            "marker": {
             "line": {
              "color": "#E5ECF6",
              "width": 0.5
             },
             "pattern": {
              "fillmode": "overlay",
              "size": 10,
              "solidity": 0.2
             }
            },
            "type": "barpolar"
           }
          ],
          "carpet": [
           {
            "aaxis": {
             "endlinecolor": "#2a3f5f",
             "gridcolor": "white",
             "linecolor": "white",
             "minorgridcolor": "white",
             "startlinecolor": "#2a3f5f"
            },
            "baxis": {
             "endlinecolor": "#2a3f5f",
             "gridcolor": "white",
             "linecolor": "white",
             "minorgridcolor": "white",
             "startlinecolor": "#2a3f5f"
            },
            "type": "carpet"
           }
          ],
          "choropleth": [
           {
            "colorbar": {
             "outlinewidth": 0,
             "ticks": ""
            },
            "type": "choropleth"
           }
          ],
          "contour": [
           {
            "colorbar": {
             "outlinewidth": 0,
             "ticks": ""
            },
            "colorscale": [
             [
              0,
              "#0d0887"
             ],
             [
              0.1111111111111111,
              "#46039f"
             ],
             [
              0.2222222222222222,
              "#7201a8"
             ],
             [
              0.3333333333333333,
              "#9c179e"
             ],
             [
              0.4444444444444444,
              "#bd3786"
             ],
             [
              0.5555555555555556,
              "#d8576b"
             ],
             [
              0.6666666666666666,
              "#ed7953"
             ],
             [
              0.7777777777777778,
              "#fb9f3a"
             ],
             [
              0.8888888888888888,
              "#fdca26"
             ],
             [
              1,
              "#f0f921"
             ]
            ],
            "type": "contour"
           }
          ],
          "contourcarpet": [
           {
            "colorbar": {
             "outlinewidth": 0,
             "ticks": ""
            },
            "type": "contourcarpet"
           }
          ],
          "heatmap": [
           {
            "colorbar": {
             "outlinewidth": 0,
             "ticks": ""
            },
            "colorscale": [
             [
              0,
              "#0d0887"
             ],
             [
              0.1111111111111111,
              "#46039f"
             ],
             [
              0.2222222222222222,
              "#7201a8"
             ],
             [
              0.3333333333333333,
              "#9c179e"
             ],
             [
              0.4444444444444444,
              "#bd3786"
             ],
             [
              0.5555555555555556,
              "#d8576b"
             ],
             [
              0.6666666666666666,
              "#ed7953"
             ],
             [
              0.7777777777777778,
              "#fb9f3a"
             ],
             [
              0.8888888888888888,
              "#fdca26"
             ],
             [
              1,
              "#f0f921"
             ]
            ],
            "type": "heatmap"
           }
          ],
          "heatmapgl": [
           {
            "colorbar": {
             "outlinewidth": 0,
             "ticks": ""
            },
            "colorscale": [
             [
              0,
              "#0d0887"
             ],
             [
              0.1111111111111111,
              "#46039f"
             ],
             [
              0.2222222222222222,
              "#7201a8"
             ],
             [
              0.3333333333333333,
              "#9c179e"
             ],
             [
              0.4444444444444444,
              "#bd3786"
             ],
             [
              0.5555555555555556,
              "#d8576b"
             ],
             [
              0.6666666666666666,
              "#ed7953"
             ],
             [
              0.7777777777777778,
              "#fb9f3a"
             ],
             [
              0.8888888888888888,
              "#fdca26"
             ],
             [
              1,
              "#f0f921"
             ]
            ],
            "type": "heatmapgl"
           }
          ],
          "histogram": [
           {
            "marker": {
             "pattern": {
              "fillmode": "overlay",
              "size": 10,
              "solidity": 0.2
             }
            },
            "type": "histogram"
           }
          ],
          "histogram2d": [
           {
            "colorbar": {
             "outlinewidth": 0,
             "ticks": ""
            },
            "colorscale": [
             [
              0,
              "#0d0887"
             ],
             [
              0.1111111111111111,
              "#46039f"
             ],
             [
              0.2222222222222222,
              "#7201a8"
             ],
             [
              0.3333333333333333,
              "#9c179e"
             ],
             [
              0.4444444444444444,
              "#bd3786"
             ],
             [
              0.5555555555555556,
              "#d8576b"
             ],
             [
              0.6666666666666666,
              "#ed7953"
             ],
             [
              0.7777777777777778,
              "#fb9f3a"
             ],
             [
              0.8888888888888888,
              "#fdca26"
             ],
             [
              1,
              "#f0f921"
             ]
            ],
            "type": "histogram2d"
           }
          ],
          "histogram2dcontour": [
           {
            "colorbar": {
             "outlinewidth": 0,
             "ticks": ""
            },
            "colorscale": [
             [
              0,
              "#0d0887"
             ],
             [
              0.1111111111111111,
              "#46039f"
             ],
             [
              0.2222222222222222,
              "#7201a8"
             ],
             [
              0.3333333333333333,
              "#9c179e"
             ],
             [
              0.4444444444444444,
              "#bd3786"
             ],
             [
              0.5555555555555556,
              "#d8576b"
             ],
             [
              0.6666666666666666,
              "#ed7953"
             ],
             [
              0.7777777777777778,
              "#fb9f3a"
             ],
             [
              0.8888888888888888,
              "#fdca26"
             ],
             [
              1,
              "#f0f921"
             ]
            ],
            "type": "histogram2dcontour"
           }
          ],
          "mesh3d": [
           {
            "colorbar": {
             "outlinewidth": 0,
             "ticks": ""
            },
            "type": "mesh3d"
           }
          ],
          "parcoords": [
           {
            "line": {
             "colorbar": {
              "outlinewidth": 0,
              "ticks": ""
             }
            },
            "type": "parcoords"
           }
          ],
          "pie": [
           {
            "automargin": true,
            "type": "pie"
           }
          ],
          "scatter": [
           {
            "fillpattern": {
             "fillmode": "overlay",
             "size": 10,
             "solidity": 0.2
            },
            "type": "scatter"
           }
          ],
          "scatter3d": [
           {
            "line": {
             "colorbar": {
              "outlinewidth": 0,
              "ticks": ""
             }
            },
            "marker": {
             "colorbar": {
              "outlinewidth": 0,
              "ticks": ""
             }
            },
            "type": "scatter3d"
           }
          ],
          "scattercarpet": [
           {
            "marker": {
             "colorbar": {
              "outlinewidth": 0,
              "ticks": ""
             }
            },
            "type": "scattercarpet"
           }
          ],
          "scattergeo": [
           {
            "marker": {
             "colorbar": {
              "outlinewidth": 0,
              "ticks": ""
             }
            },
            "type": "scattergeo"
           }
          ],
          "scattergl": [
           {
            "marker": {
             "colorbar": {
              "outlinewidth": 0,
              "ticks": ""
             }
            },
            "type": "scattergl"
           }
          ],
          "scattermapbox": [
           {
            "marker": {
             "colorbar": {
              "outlinewidth": 0,
              "ticks": ""
             }
            },
            "type": "scattermapbox"
           }
          ],
          "scatterpolar": [
           {
            "marker": {
             "colorbar": {
              "outlinewidth": 0,
              "ticks": ""
             }
            },
            "type": "scatterpolar"
           }
          ],
          "scatterpolargl": [
           {
            "marker": {
             "colorbar": {
              "outlinewidth": 0,
              "ticks": ""
             }
            },
            "type": "scatterpolargl"
           }
          ],
          "scatterternary": [
           {
            "marker": {
             "colorbar": {
              "outlinewidth": 0,
              "ticks": ""
             }
            },
            "type": "scatterternary"
           }
          ],
          "surface": [
           {
            "colorbar": {
             "outlinewidth": 0,
             "ticks": ""
            },
            "colorscale": [
             [
              0,
              "#0d0887"
             ],
             [
              0.1111111111111111,
              "#46039f"
             ],
             [
              0.2222222222222222,
              "#7201a8"
             ],
             [
              0.3333333333333333,
              "#9c179e"
             ],
             [
              0.4444444444444444,
              "#bd3786"
             ],
             [
              0.5555555555555556,
              "#d8576b"
             ],
             [
              0.6666666666666666,
              "#ed7953"
             ],
             [
              0.7777777777777778,
              "#fb9f3a"
             ],
             [
              0.8888888888888888,
              "#fdca26"
             ],
             [
              1,
              "#f0f921"
             ]
            ],
            "type": "surface"
           }
          ],
          "table": [
           {
            "cells": {
             "fill": {
              "color": "#EBF0F8"
             },
             "line": {
              "color": "white"
             }
            },
            "header": {
             "fill": {
              "color": "#C8D4E3"
             },
             "line": {
              "color": "white"
             }
            },
            "type": "table"
           }
          ]
         },
         "layout": {
          "annotationdefaults": {
           "arrowcolor": "#2a3f5f",
           "arrowhead": 0,
           "arrowwidth": 1
          },
          "autotypenumbers": "strict",
          "coloraxis": {
           "colorbar": {
            "outlinewidth": 0,
            "ticks": ""
           }
          },
          "colorscale": {
           "diverging": [
            [
             0,
             "#8e0152"
            ],
            [
             0.1,
             "#c51b7d"
            ],
            [
             0.2,
             "#de77ae"
            ],
            [
             0.3,
             "#f1b6da"
            ],
            [
             0.4,
             "#fde0ef"
            ],
            [
             0.5,
             "#f7f7f7"
            ],
            [
             0.6,
             "#e6f5d0"
            ],
            [
             0.7,
             "#b8e186"
            ],
            [
             0.8,
             "#7fbc41"
            ],
            [
             0.9,
             "#4d9221"
            ],
            [
             1,
             "#276419"
            ]
           ],
           "sequential": [
            [
             0,
             "#0d0887"
            ],
            [
             0.1111111111111111,
             "#46039f"
            ],
            [
             0.2222222222222222,
             "#7201a8"
            ],
            [
             0.3333333333333333,
             "#9c179e"
            ],
            [
             0.4444444444444444,
             "#bd3786"
            ],
            [
             0.5555555555555556,
             "#d8576b"
            ],
            [
             0.6666666666666666,
             "#ed7953"
            ],
            [
             0.7777777777777778,
             "#fb9f3a"
            ],
            [
             0.8888888888888888,
             "#fdca26"
            ],
            [
             1,
             "#f0f921"
            ]
           ],
           "sequentialminus": [
            [
             0,
             "#0d0887"
            ],
            [
             0.1111111111111111,
             "#46039f"
            ],
            [
             0.2222222222222222,
             "#7201a8"
            ],
            [
             0.3333333333333333,
             "#9c179e"
            ],
            [
             0.4444444444444444,
             "#bd3786"
            ],
            [
             0.5555555555555556,
             "#d8576b"
            ],
            [
             0.6666666666666666,
             "#ed7953"
            ],
            [
             0.7777777777777778,
             "#fb9f3a"
            ],
            [
             0.8888888888888888,
             "#fdca26"
            ],
            [
             1,
             "#f0f921"
            ]
           ]
          },
          "colorway": [
           "#636efa",
           "#EF553B",
           "#00cc96",
           "#ab63fa",
           "#FFA15A",
           "#19d3f3",
           "#FF6692",
           "#B6E880",
           "#FF97FF",
           "#FECB52"
          ],
          "font": {
           "color": "#2a3f5f"
          },
          "geo": {
           "bgcolor": "white",
           "lakecolor": "white",
           "landcolor": "#E5ECF6",
           "showlakes": true,
           "showland": true,
           "subunitcolor": "white"
          },
          "hoverlabel": {
           "align": "left"
          },
          "hovermode": "closest",
          "mapbox": {
           "style": "light"
          },
          "paper_bgcolor": "white",
          "plot_bgcolor": "#E5ECF6",
          "polar": {
           "angularaxis": {
            "gridcolor": "white",
            "linecolor": "white",
            "ticks": ""
           },
           "bgcolor": "#E5ECF6",
           "radialaxis": {
            "gridcolor": "white",
            "linecolor": "white",
            "ticks": ""
           }
          },
          "scene": {
           "xaxis": {
            "backgroundcolor": "#E5ECF6",
            "gridcolor": "white",
            "gridwidth": 2,
            "linecolor": "white",
            "showbackground": true,
            "ticks": "",
            "zerolinecolor": "white"
           },
           "yaxis": {
            "backgroundcolor": "#E5ECF6",
            "gridcolor": "white",
            "gridwidth": 2,
            "linecolor": "white",
            "showbackground": true,
            "ticks": "",
            "zerolinecolor": "white"
           },
           "zaxis": {
            "backgroundcolor": "#E5ECF6",
            "gridcolor": "white",
            "gridwidth": 2,
            "linecolor": "white",
            "showbackground": true,
            "ticks": "",
            "zerolinecolor": "white"
           }
          },
          "shapedefaults": {
           "line": {
            "color": "#2a3f5f"
           }
          },
          "ternary": {
           "aaxis": {
            "gridcolor": "white",
            "linecolor": "white",
            "ticks": ""
           },
           "baxis": {
            "gridcolor": "white",
            "linecolor": "white",
            "ticks": ""
           },
           "bgcolor": "#E5ECF6",
           "caxis": {
            "gridcolor": "white",
            "linecolor": "white",
            "ticks": ""
           }
          },
          "title": {
           "x": 0.05
          },
          "xaxis": {
           "automargin": true,
           "gridcolor": "white",
           "linecolor": "white",
           "ticks": "",
           "title": {
            "standoff": 15
           },
           "zerolinecolor": "white",
           "zerolinewidth": 2
          },
          "yaxis": {
           "automargin": true,
           "gridcolor": "white",
           "linecolor": "white",
           "ticks": "",
           "title": {
            "standoff": 15
           },
           "zerolinecolor": "white",
           "zerolinewidth": 2
          }
         }
        },
        "title": {
         "font": {
          "color": "#4D5663"
         },
         "text": "Year of manufacture of Tesla Vehicles from Bothell"
        },
        "xaxis": {
         "gridcolor": "#E1E5ED",
         "showgrid": true,
         "tickfont": {
          "color": "#4D5663"
         },
         "title": {
          "font": {
           "color": "#4D5663"
          },
          "text": ""
         },
         "zerolinecolor": "#E1E5ED"
        },
        "yaxis": {
         "gridcolor": "#E1E5ED",
         "showgrid": true,
         "tickfont": {
          "color": "#4D5663"
         },
         "title": {
          "font": {
           "color": "#4D5663"
          },
          "text": ""
         },
         "zerolinecolor": "#E1E5ED"
        }
       }
      },
      "text/html": [
       "<div>                            <div id=\"36a9d3b0-42d4-46da-b58b-9ddb86bab3bb\" class=\"plotly-graph-div\" style=\"height:525px; width:100%;\"></div>            <script type=\"text/javascript\">                require([\"plotly\"], function(Plotly) {                    window.PLOTLYENV=window.PLOTLYENV || {};\n",
       "                    window.PLOTLYENV.BASE_URL='https://plot.ly';                                    if (document.getElementById(\"36a9d3b0-42d4-46da-b58b-9ddb86bab3bb\")) {                    Plotly.newPlot(                        \"36a9d3b0-42d4-46da-b58b-9ddb86bab3bb\",                        [{\"marker\":{\"color\":\"rgba(255, 153, 51, 0.6)\",\"line\":{\"color\":\"rgba(255, 153, 51, 1.0)\",\"width\":1}},\"name\":\"Model Year\",\"orientation\":\"v\",\"text\":\"\",\"x\":[2022,2023,2021,2018,2020,2019,2017,2016,2015,2014,2013,2012],\"y\":[638,501,440,278,239,175,46,36,26,15,12,1],\"type\":\"bar\"}],                        {\"legend\":{\"bgcolor\":\"#F5F6F9\",\"font\":{\"color\":\"#4D5663\"}},\"paper_bgcolor\":\"#F5F6F9\",\"plot_bgcolor\":\"#F5F6F9\",\"template\":{\"data\":{\"barpolar\":[{\"marker\":{\"line\":{\"color\":\"#E5ECF6\",\"width\":0.5},\"pattern\":{\"fillmode\":\"overlay\",\"size\":10,\"solidity\":0.2}},\"type\":\"barpolar\"}],\"bar\":[{\"error_x\":{\"color\":\"#2a3f5f\"},\"error_y\":{\"color\":\"#2a3f5f\"},\"marker\":{\"line\":{\"color\":\"#E5ECF6\",\"width\":0.5},\"pattern\":{\"fillmode\":\"overlay\",\"size\":10,\"solidity\":0.2}},\"type\":\"bar\"}],\"carpet\":[{\"aaxis\":{\"endlinecolor\":\"#2a3f5f\",\"gridcolor\":\"white\",\"linecolor\":\"white\",\"minorgridcolor\":\"white\",\"startlinecolor\":\"#2a3f5f\"},\"baxis\":{\"endlinecolor\":\"#2a3f5f\",\"gridcolor\":\"white\",\"linecolor\":\"white\",\"minorgridcolor\":\"white\",\"startlinecolor\":\"#2a3f5f\"},\"type\":\"carpet\"}],\"choropleth\":[{\"colorbar\":{\"outlinewidth\":0,\"ticks\":\"\"},\"type\":\"choropleth\"}],\"contourcarpet\":[{\"colorbar\":{\"outlinewidth\":0,\"ticks\":\"\"},\"type\":\"contourcarpet\"}],\"contour\":[{\"colorbar\":{\"outlinewidth\":0,\"ticks\":\"\"},\"colorscale\":[[0.0,\"#0d0887\"],[0.1111111111111111,\"#46039f\"],[0.2222222222222222,\"#7201a8\"],[0.3333333333333333,\"#9c179e\"],[0.4444444444444444,\"#bd3786\"],[0.5555555555555556,\"#d8576b\"],[0.6666666666666666,\"#ed7953\"],[0.7777777777777778,\"#fb9f3a\"],[0.8888888888888888,\"#fdca26\"],[1.0,\"#f0f921\"]],\"type\":\"contour\"}],\"heatmapgl\":[{\"colorbar\":{\"outlinewidth\":0,\"ticks\":\"\"},\"colorscale\":[[0.0,\"#0d0887\"],[0.1111111111111111,\"#46039f\"],[0.2222222222222222,\"#7201a8\"],[0.3333333333333333,\"#9c179e\"],[0.4444444444444444,\"#bd3786\"],[0.5555555555555556,\"#d8576b\"],[0.6666666666666666,\"#ed7953\"],[0.7777777777777778,\"#fb9f3a\"],[0.8888888888888888,\"#fdca26\"],[1.0,\"#f0f921\"]],\"type\":\"heatmapgl\"}],\"heatmap\":[{\"colorbar\":{\"outlinewidth\":0,\"ticks\":\"\"},\"colorscale\":[[0.0,\"#0d0887\"],[0.1111111111111111,\"#46039f\"],[0.2222222222222222,\"#7201a8\"],[0.3333333333333333,\"#9c179e\"],[0.4444444444444444,\"#bd3786\"],[0.5555555555555556,\"#d8576b\"],[0.6666666666666666,\"#ed7953\"],[0.7777777777777778,\"#fb9f3a\"],[0.8888888888888888,\"#fdca26\"],[1.0,\"#f0f921\"]],\"type\":\"heatmap\"}],\"histogram2dcontour\":[{\"colorbar\":{\"outlinewidth\":0,\"ticks\":\"\"},\"colorscale\":[[0.0,\"#0d0887\"],[0.1111111111111111,\"#46039f\"],[0.2222222222222222,\"#7201a8\"],[0.3333333333333333,\"#9c179e\"],[0.4444444444444444,\"#bd3786\"],[0.5555555555555556,\"#d8576b\"],[0.6666666666666666,\"#ed7953\"],[0.7777777777777778,\"#fb9f3a\"],[0.8888888888888888,\"#fdca26\"],[1.0,\"#f0f921\"]],\"type\":\"histogram2dcontour\"}],\"histogram2d\":[{\"colorbar\":{\"outlinewidth\":0,\"ticks\":\"\"},\"colorscale\":[[0.0,\"#0d0887\"],[0.1111111111111111,\"#46039f\"],[0.2222222222222222,\"#7201a8\"],[0.3333333333333333,\"#9c179e\"],[0.4444444444444444,\"#bd3786\"],[0.5555555555555556,\"#d8576b\"],[0.6666666666666666,\"#ed7953\"],[0.7777777777777778,\"#fb9f3a\"],[0.8888888888888888,\"#fdca26\"],[1.0,\"#f0f921\"]],\"type\":\"histogram2d\"}],\"histogram\":[{\"marker\":{\"pattern\":{\"fillmode\":\"overlay\",\"size\":10,\"solidity\":0.2}},\"type\":\"histogram\"}],\"mesh3d\":[{\"colorbar\":{\"outlinewidth\":0,\"ticks\":\"\"},\"type\":\"mesh3d\"}],\"parcoords\":[{\"line\":{\"colorbar\":{\"outlinewidth\":0,\"ticks\":\"\"}},\"type\":\"parcoords\"}],\"pie\":[{\"automargin\":true,\"type\":\"pie\"}],\"scatter3d\":[{\"line\":{\"colorbar\":{\"outlinewidth\":0,\"ticks\":\"\"}},\"marker\":{\"colorbar\":{\"outlinewidth\":0,\"ticks\":\"\"}},\"type\":\"scatter3d\"}],\"scattercarpet\":[{\"marker\":{\"colorbar\":{\"outlinewidth\":0,\"ticks\":\"\"}},\"type\":\"scattercarpet\"}],\"scattergeo\":[{\"marker\":{\"colorbar\":{\"outlinewidth\":0,\"ticks\":\"\"}},\"type\":\"scattergeo\"}],\"scattergl\":[{\"marker\":{\"colorbar\":{\"outlinewidth\":0,\"ticks\":\"\"}},\"type\":\"scattergl\"}],\"scattermapbox\":[{\"marker\":{\"colorbar\":{\"outlinewidth\":0,\"ticks\":\"\"}},\"type\":\"scattermapbox\"}],\"scatterpolargl\":[{\"marker\":{\"colorbar\":{\"outlinewidth\":0,\"ticks\":\"\"}},\"type\":\"scatterpolargl\"}],\"scatterpolar\":[{\"marker\":{\"colorbar\":{\"outlinewidth\":0,\"ticks\":\"\"}},\"type\":\"scatterpolar\"}],\"scatter\":[{\"fillpattern\":{\"fillmode\":\"overlay\",\"size\":10,\"solidity\":0.2},\"type\":\"scatter\"}],\"scatterternary\":[{\"marker\":{\"colorbar\":{\"outlinewidth\":0,\"ticks\":\"\"}},\"type\":\"scatterternary\"}],\"surface\":[{\"colorbar\":{\"outlinewidth\":0,\"ticks\":\"\"},\"colorscale\":[[0.0,\"#0d0887\"],[0.1111111111111111,\"#46039f\"],[0.2222222222222222,\"#7201a8\"],[0.3333333333333333,\"#9c179e\"],[0.4444444444444444,\"#bd3786\"],[0.5555555555555556,\"#d8576b\"],[0.6666666666666666,\"#ed7953\"],[0.7777777777777778,\"#fb9f3a\"],[0.8888888888888888,\"#fdca26\"],[1.0,\"#f0f921\"]],\"type\":\"surface\"}],\"table\":[{\"cells\":{\"fill\":{\"color\":\"#EBF0F8\"},\"line\":{\"color\":\"white\"}},\"header\":{\"fill\":{\"color\":\"#C8D4E3\"},\"line\":{\"color\":\"white\"}},\"type\":\"table\"}]},\"layout\":{\"annotationdefaults\":{\"arrowcolor\":\"#2a3f5f\",\"arrowhead\":0,\"arrowwidth\":1},\"autotypenumbers\":\"strict\",\"coloraxis\":{\"colorbar\":{\"outlinewidth\":0,\"ticks\":\"\"}},\"colorscale\":{\"diverging\":[[0,\"#8e0152\"],[0.1,\"#c51b7d\"],[0.2,\"#de77ae\"],[0.3,\"#f1b6da\"],[0.4,\"#fde0ef\"],[0.5,\"#f7f7f7\"],[0.6,\"#e6f5d0\"],[0.7,\"#b8e186\"],[0.8,\"#7fbc41\"],[0.9,\"#4d9221\"],[1,\"#276419\"]],\"sequential\":[[0.0,\"#0d0887\"],[0.1111111111111111,\"#46039f\"],[0.2222222222222222,\"#7201a8\"],[0.3333333333333333,\"#9c179e\"],[0.4444444444444444,\"#bd3786\"],[0.5555555555555556,\"#d8576b\"],[0.6666666666666666,\"#ed7953\"],[0.7777777777777778,\"#fb9f3a\"],[0.8888888888888888,\"#fdca26\"],[1.0,\"#f0f921\"]],\"sequentialminus\":[[0.0,\"#0d0887\"],[0.1111111111111111,\"#46039f\"],[0.2222222222222222,\"#7201a8\"],[0.3333333333333333,\"#9c179e\"],[0.4444444444444444,\"#bd3786\"],[0.5555555555555556,\"#d8576b\"],[0.6666666666666666,\"#ed7953\"],[0.7777777777777778,\"#fb9f3a\"],[0.8888888888888888,\"#fdca26\"],[1.0,\"#f0f921\"]]},\"colorway\":[\"#636efa\",\"#EF553B\",\"#00cc96\",\"#ab63fa\",\"#FFA15A\",\"#19d3f3\",\"#FF6692\",\"#B6E880\",\"#FF97FF\",\"#FECB52\"],\"font\":{\"color\":\"#2a3f5f\"},\"geo\":{\"bgcolor\":\"white\",\"lakecolor\":\"white\",\"landcolor\":\"#E5ECF6\",\"showlakes\":true,\"showland\":true,\"subunitcolor\":\"white\"},\"hoverlabel\":{\"align\":\"left\"},\"hovermode\":\"closest\",\"mapbox\":{\"style\":\"light\"},\"paper_bgcolor\":\"white\",\"plot_bgcolor\":\"#E5ECF6\",\"polar\":{\"angularaxis\":{\"gridcolor\":\"white\",\"linecolor\":\"white\",\"ticks\":\"\"},\"bgcolor\":\"#E5ECF6\",\"radialaxis\":{\"gridcolor\":\"white\",\"linecolor\":\"white\",\"ticks\":\"\"}},\"scene\":{\"xaxis\":{\"backgroundcolor\":\"#E5ECF6\",\"gridcolor\":\"white\",\"gridwidth\":2,\"linecolor\":\"white\",\"showbackground\":true,\"ticks\":\"\",\"zerolinecolor\":\"white\"},\"yaxis\":{\"backgroundcolor\":\"#E5ECF6\",\"gridcolor\":\"white\",\"gridwidth\":2,\"linecolor\":\"white\",\"showbackground\":true,\"ticks\":\"\",\"zerolinecolor\":\"white\"},\"zaxis\":{\"backgroundcolor\":\"#E5ECF6\",\"gridcolor\":\"white\",\"gridwidth\":2,\"linecolor\":\"white\",\"showbackground\":true,\"ticks\":\"\",\"zerolinecolor\":\"white\"}},\"shapedefaults\":{\"line\":{\"color\":\"#2a3f5f\"}},\"ternary\":{\"aaxis\":{\"gridcolor\":\"white\",\"linecolor\":\"white\",\"ticks\":\"\"},\"baxis\":{\"gridcolor\":\"white\",\"linecolor\":\"white\",\"ticks\":\"\"},\"bgcolor\":\"#E5ECF6\",\"caxis\":{\"gridcolor\":\"white\",\"linecolor\":\"white\",\"ticks\":\"\"}},\"title\":{\"x\":0.05},\"xaxis\":{\"automargin\":true,\"gridcolor\":\"white\",\"linecolor\":\"white\",\"ticks\":\"\",\"title\":{\"standoff\":15},\"zerolinecolor\":\"white\",\"zerolinewidth\":2},\"yaxis\":{\"automargin\":true,\"gridcolor\":\"white\",\"linecolor\":\"white\",\"ticks\":\"\",\"title\":{\"standoff\":15},\"zerolinecolor\":\"white\",\"zerolinewidth\":2}}},\"title\":{\"font\":{\"color\":\"#4D5663\"},\"text\":\"Year of manufacture of Tesla Vehicles from Bothell\"},\"xaxis\":{\"gridcolor\":\"#E1E5ED\",\"showgrid\":true,\"tickfont\":{\"color\":\"#4D5663\"},\"title\":{\"font\":{\"color\":\"#4D5663\"},\"text\":\"\"},\"zerolinecolor\":\"#E1E5ED\"},\"yaxis\":{\"gridcolor\":\"#E1E5ED\",\"showgrid\":true,\"tickfont\":{\"color\":\"#4D5663\"},\"title\":{\"font\":{\"color\":\"#4D5663\"},\"text\":\"\"},\"zerolinecolor\":\"#E1E5ED\"}},                        {\"showLink\": true, \"linkText\": \"Export to plot.ly\", \"plotlyServerURL\": \"https://plot.ly\", \"responsive\": true}                    ).then(function(){\n",
       "                            \n",
       "var gd = document.getElementById('36a9d3b0-42d4-46da-b58b-9ddb86bab3bb');\n",
       "var x = new MutationObserver(function (mutations, observer) {{\n",
       "        var display = window.getComputedStyle(gd).display;\n",
       "        if (!display || display === 'none') {{\n",
       "            console.log([gd, 'removed!']);\n",
       "            Plotly.purge(gd);\n",
       "            observer.disconnect();\n",
       "        }}\n",
       "}});\n",
       "\n",
       "// Listen for the removal of the full notebook cells\n",
       "var notebookContainer = gd.closest('#notebook-container');\n",
       "if (notebookContainer) {{\n",
       "    x.observe(notebookContainer, {childList: true});\n",
       "}}\n",
       "\n",
       "// Listen for the clearing of the current output cell\n",
       "var outputEl = gd.closest('.output');\n",
       "if (outputEl) {{\n",
       "    x.observe(outputEl, {childList: true});\n",
       "}}\n",
       "\n",
       "                        })                };                });            </script>        </div>"
      ]
     },
     "metadata": {},
     "output_type": "display_data"
    }
   ],
   "source": [
    "df_tesla_bothell['Model Year'].value_counts().iplot(kind='bar', title='Year of manufacture of Tesla Vehicles from Bothell')"
   ]
  },
  {
   "cell_type": "markdown",
   "metadata": {},
   "source": [
    "* Hover over the bar graph to get the actual count"
   ]
  },
  {
   "cell_type": "markdown",
   "metadata": {},
   "source": [
    "## Insight 3:\n",
    "Get all the cars that have an electric range of more than 100, and were made after 2015"
   ]
  },
  {
   "cell_type": "code",
   "execution_count": 50,
   "metadata": {
    "scrolled": false
   },
   "outputs": [
    {
     "data": {
      "text/html": [
       "<div>\n",
       "<style scoped>\n",
       "    .dataframe tbody tr th:only-of-type {\n",
       "        vertical-align: middle;\n",
       "    }\n",
       "\n",
       "    .dataframe tbody tr th {\n",
       "        vertical-align: top;\n",
       "    }\n",
       "\n",
       "    .dataframe thead th {\n",
       "        text-align: right;\n",
       "    }\n",
       "</style>\n",
       "<table border=\"1\" class=\"dataframe\">\n",
       "  <thead>\n",
       "    <tr style=\"text-align: right;\">\n",
       "      <th></th>\n",
       "      <th>VIN (1-10)</th>\n",
       "      <th>County</th>\n",
       "      <th>City</th>\n",
       "      <th>State</th>\n",
       "      <th>Postal Code</th>\n",
       "      <th>Model Year</th>\n",
       "      <th>Make</th>\n",
       "      <th>Model</th>\n",
       "      <th>Electric Vehicle Type</th>\n",
       "      <th>Clean Alternative Fuel Vehicle (CAFV) Eligibility</th>\n",
       "      <th>Electric Range</th>\n",
       "      <th>Base MSRP</th>\n",
       "      <th>Legislative District</th>\n",
       "      <th>DOL Vehicle ID</th>\n",
       "      <th>Vehicle Location</th>\n",
       "      <th>Electric Utility</th>\n",
       "      <th>2020 Census Tract</th>\n",
       "    </tr>\n",
       "  </thead>\n",
       "  <tbody>\n",
       "    <tr>\n",
       "      <th>0</th>\n",
       "      <td>5YJXCAE26J</td>\n",
       "      <td>Yakima</td>\n",
       "      <td>Yakima</td>\n",
       "      <td>WA</td>\n",
       "      <td>98908.0</td>\n",
       "      <td>2018</td>\n",
       "      <td>TESLA</td>\n",
       "      <td>MODEL X</td>\n",
       "      <td>Battery Electric Vehicle (BEV)</td>\n",
       "      <td>Clean Alternative Fuel Vehicle Eligible</td>\n",
       "      <td>238</td>\n",
       "      <td>0</td>\n",
       "      <td>14.0</td>\n",
       "      <td>141151601</td>\n",
       "      <td>POINT (-120.56916 46.58514)</td>\n",
       "      <td>PACIFICORP</td>\n",
       "      <td>5.307700e+10</td>\n",
       "    </tr>\n",
       "    <tr>\n",
       "      <th>2</th>\n",
       "      <td>5YJ3E1EB0K</td>\n",
       "      <td>King</td>\n",
       "      <td>Seattle</td>\n",
       "      <td>WA</td>\n",
       "      <td>98199.0</td>\n",
       "      <td>2019</td>\n",
       "      <td>TESLA</td>\n",
       "      <td>MODEL 3</td>\n",
       "      <td>Battery Electric Vehicle (BEV)</td>\n",
       "      <td>Clean Alternative Fuel Vehicle Eligible</td>\n",
       "      <td>220</td>\n",
       "      <td>0</td>\n",
       "      <td>36.0</td>\n",
       "      <td>9426525</td>\n",
       "      <td>POINT (-122.40092 47.65908)</td>\n",
       "      <td>CITY OF SEATTLE - (WA)|CITY OF TACOMA - (WA)</td>\n",
       "      <td>5.303301e+10</td>\n",
       "    </tr>\n",
       "    <tr>\n",
       "      <th>4</th>\n",
       "      <td>5YJSA1E21H</td>\n",
       "      <td>Thurston</td>\n",
       "      <td>Lacey</td>\n",
       "      <td>WA</td>\n",
       "      <td>98516.0</td>\n",
       "      <td>2017</td>\n",
       "      <td>TESLA</td>\n",
       "      <td>MODEL S</td>\n",
       "      <td>Battery Electric Vehicle (BEV)</td>\n",
       "      <td>Clean Alternative Fuel Vehicle Eligible</td>\n",
       "      <td>210</td>\n",
       "      <td>0</td>\n",
       "      <td>22.0</td>\n",
       "      <td>185810306</td>\n",
       "      <td>POINT (-122.75379 47.06316)</td>\n",
       "      <td>PUGET SOUND ENERGY INC</td>\n",
       "      <td>5.306701e+10</td>\n",
       "    </tr>\n",
       "  </tbody>\n",
       "</table>\n",
       "</div>"
      ],
      "text/plain": [
       "   VIN (1-10)    County     City State  Postal Code  Model Year   Make  \\\n",
       "0  5YJXCAE26J    Yakima   Yakima    WA      98908.0        2018  TESLA   \n",
       "2  5YJ3E1EB0K      King  Seattle    WA      98199.0        2019  TESLA   \n",
       "4  5YJSA1E21H  Thurston    Lacey    WA      98516.0        2017  TESLA   \n",
       "\n",
       "     Model           Electric Vehicle Type  \\\n",
       "0  MODEL X  Battery Electric Vehicle (BEV)   \n",
       "2  MODEL 3  Battery Electric Vehicle (BEV)   \n",
       "4  MODEL S  Battery Electric Vehicle (BEV)   \n",
       "\n",
       "  Clean Alternative Fuel Vehicle (CAFV) Eligibility  Electric Range  \\\n",
       "0           Clean Alternative Fuel Vehicle Eligible             238   \n",
       "2           Clean Alternative Fuel Vehicle Eligible             220   \n",
       "4           Clean Alternative Fuel Vehicle Eligible             210   \n",
       "\n",
       "   Base MSRP  Legislative District  DOL Vehicle ID  \\\n",
       "0          0                  14.0       141151601   \n",
       "2          0                  36.0         9426525   \n",
       "4          0                  22.0       185810306   \n",
       "\n",
       "              Vehicle Location                              Electric Utility  \\\n",
       "0  POINT (-120.56916 46.58514)                                    PACIFICORP   \n",
       "2  POINT (-122.40092 47.65908)  CITY OF SEATTLE - (WA)|CITY OF TACOMA - (WA)   \n",
       "4  POINT (-122.75379 47.06316)                        PUGET SOUND ENERGY INC   \n",
       "\n",
       "   2020 Census Tract  \n",
       "0       5.307700e+10  \n",
       "2       5.303301e+10  \n",
       "4       5.306701e+10  "
      ]
     },
     "execution_count": 50,
     "metadata": {},
     "output_type": "execute_result"
    }
   ],
   "source": [
    "df_2015_plus_cars_with_electric_range_more_than_100 = df[(df['Electric Range']>100) & (df['Model Year'] > 2015)]\n",
    "df_2015_plus_cars_with_electric_range_more_than_100.head(3)"
   ]
  },
  {
   "cell_type": "markdown",
   "metadata": {},
   "source": [
    "### Count"
   ]
  },
  {
   "cell_type": "code",
   "execution_count": 51,
   "metadata": {},
   "outputs": [
    {
     "data": {
      "text/plain": [
       "(34066, 17)"
      ]
     },
     "execution_count": 51,
     "metadata": {},
     "output_type": "execute_result"
    }
   ],
   "source": [
    "df_2015_plus_cars_with_electric_range_more_than_100.shape"
   ]
  },
  {
   "cell_type": "markdown",
   "metadata": {},
   "source": [
    "There are **34066 Cars** with electric range more than 100 and manufactured after 2015"
   ]
  },
  {
   "cell_type": "markdown",
   "metadata": {},
   "source": [
    "## Insight 4:\n",
    "Draw plots to show the distribution between city and electric vehicle type"
   ]
  },
  {
   "cell_type": "markdown",
   "metadata": {},
   "source": [
    "### Citywise number of BEVs and PHEVs"
   ]
  },
  {
   "cell_type": "code",
   "execution_count": 60,
   "metadata": {},
   "outputs": [
    {
     "data": {
      "application/vnd.plotly.v1+json": {
       "config": {
        "linkText": "Export to plot.ly",
        "plotlyServerURL": "https://plot.ly",
        "showLink": true
       },
       "data": [
        {
         "marker": {
          "color": "rgba(255, 153, 51, 0.6)",
          "line": {
           "color": "rgba(255, 153, 51, 1.0)",
           "width": 1
          }
         },
         "name": "Battery Electric Vehicle (BEV)",
         "orientation": "v",
         "text": "",
         "type": "bar",
         "x": [
          "Aberdeen",
          "Acme",
          "Addy",
          "Aiea",
          "Airway Heights",
          "Alderdale",
          "Aldie",
          "Alexandria",
          "Algona",
          "Alhambra",
          "Allyn",
          "Altus",
          "Amanda Park",
          "Amboy",
          "Anacortes",
          "Anderson Island",
          "Andrews Air Force Base",
          "Annapolis",
          "Anthem",
          "Apple Valley",
          "Ariel",
          "Arlington",
          "Arlington Heights",
          "Arnold",
          "Artondale",
          "Asheboro",
          "Ashford",
          "Asotin",
          "Auburn",
          "Augusta",
          "Aurora",
          "Avalon",
          "Bainbridge Island",
          "Baring",
          "Battle Ground",
          "Bay Center",
          "Beaufort",
          "Beaux Arts",
          "Beaver",
          "Bedford",
          "Belfair",
          "Bell Hill",
          "Belle Chasse",
          "Belleville",
          "Bellevue",
          "Bellingham",
          "Benicia",
          "Benton City",
          "Berkeley",
          "Biloxi",
          "Bingen",
          "Black Diamond",
          "Blaine",
          "Bonney Lake",
          "Bothell",
          "Bow",
          "Bremerton",
          "Brewster",
          "Bridgeport",
          "Bridgeport Bar",
          "Brier",
          "Brinnon",
          "Brush Prairie",
          "Buckley",
          "Bucoda",
          "Buena Park",
          "Burbank",
          "Burien",
          "Burke",
          "Burlington",
          "Bz Corner",
          "Camano Island",
          "Camas",
          "Canoga Park",
          "Carbonado",
          "Carlton",
          "Carmel By The Sea",
          "Carnation",
          "Carrolls",
          "Carson",
          "Cashmere",
          "Castle Rock",
          "Cathedral City",
          "Cathlamet",
          "Centralia",
          "Chandler",
          "Charleston Afb",
          "Chattaroy",
          "Chehalis",
          "Chelan",
          "Chelmsford",
          "Cheney",
          "Chesapeake",
          "Chesapeake Beach",
          "Chevy Chase",
          "Chewelah",
          "Cheyenne",
          "Chimacum",
          "Chinook",
          "Chula Vista",
          "Cincinnati",
          "Cinebar",
          "Clallam Bay",
          "Clarkston",
          "Clarksville",
          "Clayton",
          "Cle Elum",
          "Clearlake",
          "Clinton",
          "Clyde Hill",
          "Colbert",
          "Colfax",
          "College Place",
          "Colorado Springs",
          "Colton",
          "Colville",
          "Concrete",
          "Connell",
          "Conyers",
          "Copalis Beach",
          "Copalis Crossing",
          "Coronado",
          "Corvallis",
          "Cosmopolis",
          "Cougar",
          "Coulee City",
          "Coulee Dam",
          "Coupeville",
          "Covington",
          "Cowiche",
          "Cupertino",
          "Curlew",
          "Curtis",
          "Cusick",
          "Custer",
          "Dallas",
          "Dallesport",
          "Danville",
          "Darrington",
          "Davenport",
          "Dayton",
          "Decatur",
          "Deer Harbor",
          "Deer Meadows",
          "Deer Park",
          "Deming",
          "Des Moines",
          "Dickinson",
          "Dover",
          "Dryden",
          "Dupont",
          "Duvall",
          "East Wenatchee",
          "Easton",
          "Eastsound",
          "Eatonville",
          "Edgewater",
          "Edgewood",
          "Edmonds",
          "Edwall",
          "El Paso",
          "Electric City",
          "Elk",
          "Ellensburg",
          "Elma",
          "Eltopia",
          "Endicott",
          "Englewood",
          "Entiat",
          "Enumclaw",
          "Ephrata",
          "Ethel",
          "Eugene",
          "Evans",
          "Everett",
          "Everson",
          "Ewa Beach",
          "Fairbanks",
          "Fairchild Air Force Base",
          "Fairfield",
          "Fall City",
          "Fayetteville",
          "Federal Way",
          "Felts Mills",
          "Ferndale",
          "Fife",
          "Fircrest",
          "Ford",
          "Forks",
          "Fort Bragg",
          "Fort Campbell",
          "Fort George G Meade",
          "Fort Irwin",
          "Fort Lauderdale",
          "Fort Leavenworth",
          "Fort Walton Beach",
          "Fort Wayne",
          "Fox Island",
          "Frances",
          "Frederick",
          "Fredericksburg",
          "Freeland",
          "Fremont",
          "Friday Harbor",
          "Fruitland",
          "Gaithersburg",
          "Gambrills",
          "Gardena",
          "Garfield",
          "Gatesville",
          "Germantown",
          "Gifford",
          "Gig Harbor",
          "Glacier",
          "Glenoma",
          "Glenwood",
          "Gold Bar",
          "Goldendale",
          "Goldsboro",
          "Goodyear",
          "Goshen",
          "Graham",
          "Grand Coulee",
          "Grandview",
          "Granger",
          "Granite Falls",
          "Grapeview",
          "Grayland",
          "Grays River",
          "Greenacres",
          "Greenbank",
          "Greenfield Center",
          "Haddonfield",
          "Hamilton",
          "Hanscom Afb",
          "Hansville",
          "Harker Heights",
          "Harrington",
          "Hartline",
          "Hatton",
          "Henrico",
          "Herndon",
          "Highland Park",
          "Honolulu",
          "Hoodsport",
          "Hoquiam",
          "Hughesville",
          "Hunters",
          "Hunts Point",
          "Husum",
          "Ilwaco",
          "Inchelium",
          "Incorporated",
          "Index",
          "Indianola",
          "Indio",
          "Irvine",
          "Issaquah",
          "Jericho",
          "Joint Base Lewis Mcchord",
          "Joint Base Mdl",
          "Junction City",
          "Kailua",
          "Kalama",
          "Kapowsin",
          "Keedysville",
          "Kekaha",
          "Kelso",
          "Kenmore",
          "Kenn",
          "Kennewick",
          "Kent",
          "Kettle Falls",
          "Keyport",
          "Killeen",
          "Kingston",
          "Kirkland",
          "Kittitas",
          "Klickitat",
          "La Center",
          "La Conner",
          "Lacey",
          "Lake Forest Park",
          "Lake Stevens",
          "Lake Tapps",
          "Lakebay",
          "Lakewood",
          "Lamont",
          "Lancaster",
          "Langley",
          "Lansing",
          "Las Cruces",
          "Las Vegas",
          "Latah",
          "Laughlin",
          "Leavenworth",
          "Lebam",
          "Leesville",
          "Lemoore",
          "Lexington Park",
          "Liberty Lake",
          "Libertyville",
          "Lilliwaup",
          "Lincoln",
          "Lincoln City",
          "Lind",
          "Lithia",
          "Little Elm",
          "Little Rock",
          "Lompoc",
          "Long Beach",
          "Longbranch",
          "Longmont",
          "Longview",
          "Loon Lake",
          "Lopez Is",
          "Lopez Island",
          "Los Angeles",
          "Lummi Island",
          "Lyle",
          "Lynden",
          "Lynnwood",
          "Mabton",
          "Madison",
          "Malaga",
          "Malott",
          "Mansfield",
          "Manson",
          "Maple Falls",
          "Maple Valley",
          "Marblemount",
          "Marlin",
          "Maryhill",
          "Marysville",
          "Mascoutah",
          "Mattawa",
          "Mazama",
          "McCleary",
          "Mcchord Afb",
          "Mccleary",
          "Mccutcheon Field",
          "Mead",
          "Mechanicsburg",
          "Medford",
          "Medical Lake",
          "Medina",
          "Menifee",
          "Menlo",
          "Mercer Island",
          "Mesa",
          "Methow",
          "Mica",
          "Middletown",
          "Mill Creek",
          "Milton",
          "Mineral",
          "Minneapolis",
          "Moclips",
          "Monroe",
          "Montesano",
          "Moraga",
          "Morton",
          "Moses Lake",
          "Mossyrock",
          "Mount Pleasant",
          "Mount Vernon",
          "Mountain Home Afb",
          "Mountain View",
          "Mountlake Terrace",
          "Moxee",
          "Mukilteo",
          "Murdock",
          "Mystic",
          "Naches",
          "Nahcotta",
          "Napa",
          "Napavine",
          "Naselle",
          "Neah Bay",
          "Nespelem",
          "Newark",
          "Newcastle",
          "Newman Lake",
          "Newport",
          "Newport Beach",
          "Newport News",
          "Nine Mile Falls",
          "Nooksack",
          "Nordland",
          "Norfolk",
          "Normandy Park",
          "Norristown",
          "North Bend",
          "North Bonneville",
          "North Cove",
          "North Las Vegas",
          "Oak Harbor",
          "Oakville",
          "Ocean Park",
          "Ocean Shores",
          "Oceanside",
          "Odenton",
          "Odessa",
          "Okanogan",
          "Okatie",
          "Olalla",
          "Old Lyme",
          "Olga",
          "Olympia",
          "Omaha",
          "Omak",
          "Onalaska",
          "Orcas Is",
          "Orchards",
          "Orondo",
          "Oroville",
          "Orting",
          "Othello",
          "Otis Orchards",
          "Outlook",
          "Oysterville",
          "Pacific",
          "Pacific Beach",
          "Packwood",
          "Palo Alto",
          "Palouse",
          "Parker",
          "Parkland",
          "Pasco",
          "Pateros",
          "Pawcatuck",
          "Pe Ell",
          "Peshastin",
          "Petoskey",
          "Phoenix",
          "Pittsburg",
          "Platte City",
          "Plymouth",
          "Point Roberts",
          "Pomeroy",
          "Port Angeles",
          "Port Gamble",
          "Port Hadlock",
          "Port Ludlow",
          "Port Orchard",
          "Port Townsend",
          "Portland",
          "Portsmouth",
          "Potomac",
          "Poulsbo",
          "Prescott",
          "Preston",
          "Pros",
          "Prosper",
          "Prosser",
          "Pullman",
          "Puyallup",
          "Quilcene",
          "Quinault",
          "Quincy",
          "Raeford",
          "Rainier",
          "Randle",
          "Ravensdale",
          "Raymond",
          "Rayville",
          "Reardan",
          "Redmond",
          "Renton",
          "Republic",
          "Rice",
          "Richland",
          "Ridgecrest",
          "Ridgefield",
          "Ritzville",
          "Riverside",
          "Rochester",
          "Rock Island",
          "Rockford",
          "Rockport",
          "Ronald",
          "Roosevelt",
          "Rosalia",
          "Rosamond",
          "Rosburg",
          "Roslyn",
          "Roy",
          "Royal City",
          "Ruston",
          "Ryderwood",
          "Sacramento",
          "Saint Jacob",
          "Salem",
          "Salkum",
          "Salt Lake City",
          "Sammamish",
          "San Antonio",
          "San Clemente",
          "San Diego",
          "San Jose",
          "San Mateo",
          "San Rafael",
          "Santa Ana",
          "Santa Clara",
          "Santa Cruz",
          "Santa Rosa",
          "Sarasota",
          "Saratoga Springs",
          "Satsop",
          "Scottsdale",
          "Seabeck",
          "Seaside",
          "Seatac",
          "Seattle",
          "Seaview",
          "Sedro Woolley",
          "Sedro-Woolley",
          "Sekiu",
          "Selah",
          "Sequim",
          "Seven Bays",
          "Shaw Island",
          "Shelton",
          "Sheridan",
          "Shoreline",
          "Silver Creek",
          "Silver Lake",
          "Silver Spring",
          "Silverdale",
          "Silverlake",
          "Skamokawa",
          "Skokie",
          "Skykomish",
          "Slidell",
          "Smith Creek",
          "Smiths Station",
          "Snohomish",
          "Snoqualmie",
          "Snoqualmie Pass",
          "Snowden",
          "Soap Lake",
          "Sonoma",
          "South Bend",
          "South Cle Elum",
          "South Hill",
          "South Prairie",
          "South Range",
          "Southern Pines",
          "Southlake",
          "Spanaway",
          "Spangle",
          "Spokane",
          "Spokane Valley",
          "Sprague",
          "Spring Lake",
          "Springdale",
          "Springfield",
          "St John",
          "Stafford",
          "Stanwood",
          "Staten Island",
          "Steilacoom",
          "Stevenson",
          "Stratford",
          "Suffolk",
          "Sultan",
          "Sumas",
          "Summerville",
          "Sumner",
          "Sumter",
          "Sunnyside",
          "Suquamish",
          "Surfside",
          "Suwanee",
          "Tacoma",
          "Taholah",
          "Tahuya",
          "Tekoa",
          "Temecula",
          "Tempe",
          "Tenino",
          "Thorp",
          "Tieton",
          "Timnath",
          "Tokeland",
          "Toledo",
          "Tonasket",
          "Toppenish",
          "Touchet",
          "Toutle",
          "Travis Afb",
          "Trinidad",
          "Trout Lake",
          "Tukwila",
          "Tulalip",
          "Tumtum",
          "Tumwater",
          "Twentynine Palms",
          "Twisp",
          "Underwood",
          "Union",
          "Union Gap",
          "Uniontown",
          "University Place",
          "Upper Marlboro",
          "Usk",
          "Vacaville",
          "Vader",
          "Valley",
          "Valleyford",
          "Vancouver",
          "Vantage",
          "Vashon",
          "Vaughn",
          "Ventura",
          "Veradale",
          "Vienna",
          "Virginia Beach",
          "Wahkiacus",
          "Waitsburg",
          "Waldorf",
          "Waldron",
          "Walla Walla",
          "Walla Walla Co",
          "Wapato",
          "Warden",
          "Warner Robins",
          "Washington",
          "Washougal",
          "Waterford",
          "Watertown",
          "Waterville",
          "Wenatchee",
          "Weslaco",
          "West Richland",
          "Westminster",
          "Westport",
          "White Salmon",
          "White Swan",
          "Wichita Falls",
          "Wilbur",
          "Wildomar",
          "Wilkeson",
          "Winlock",
          "Winthrop",
          "Wishram",
          "Woodinville",
          "Woodland",
          "Woodway",
          "Worley",
          "Wylie",
          "Yacolt",
          "Yakima",
          "Yarrow Point",
          "Yelm",
          "Zillah"
         ],
         "y": [
          73,
          3,
          1,
          0,
          10,
          1,
          3,
          5,
          18,
          1,
          39,
          0,
          1,
          14,
          391,
          23,
          1,
          1,
          1,
          0,
          7,
          321,
          1,
          1,
          1,
          1,
          4,
          7,
          1027,
          0,
          1,
          0,
          1037,
          2,
          297,
          1,
          0,
          30,
          0,
          0,
          88,
          1,
          1,
          1,
          5729,
          1649,
          1,
          23,
          2,
          1,
          3,
          225,
          219,
          558,
          3396,
          59,
          636,
          9,
          1,
          1,
          132,
          13,
          154,
          111,
          1,
          2,
          5,
          477,
          1,
          84,
          4,
          267,
          885,
          1,
          4,
          3,
          0,
          219,
          0,
          9,
          41,
          45,
          1,
          21,
          88,
          1,
          1,
          19,
          100,
          100,
          1,
          77,
          1,
          1,
          1,
          8,
          1,
          19,
          1,
          3,
          2,
          1,
          1,
          27,
          1,
          0,
          126,
          2,
          122,
          240,
          56,
          10,
          28,
          3,
          1,
          25,
          21,
          4,
          1,
          1,
          2,
          0,
          1,
          6,
          1,
          8,
          1,
          117,
          320,
          1,
          1,
          6,
          2,
          0,
          19,
          1,
          2,
          1,
          8,
          2,
          13,
          1,
          1,
          1,
          35,
          15,
          259,
          0,
          1,
          1,
          97,
          361,
          138,
          13,
          187,
          57,
          1,
          182,
          1096,
          1,
          2,
          1,
          15,
          150,
          30,
          2,
          1,
          1,
          13,
          168,
          24,
          4,
          0,
          2,
          1306,
          55,
          0,
          0,
          9,
          0,
          144,
          1,
          747,
          0,
          192,
          68,
          78,
          2,
          7,
          0,
          1,
          1,
          1,
          1,
          1,
          0,
          1,
          97,
          1,
          1,
          1,
          121,
          1,
          292,
          1,
          1,
          1,
          0,
          0,
          1,
          0,
          1,
          1127,
          7,
          1,
          1,
          33,
          18,
          1,
          0,
          0,
          154,
          1,
          11,
          4,
          88,
          33,
          3,
          1,
          62,
          36,
          1,
          0,
          1,
          1,
          35,
          0,
          3,
          1,
          1,
          0,
          1,
          1,
          1,
          21,
          26,
          0,
          1,
          47,
          9,
          7,
          1,
          1,
          2,
          35,
          1,
          2,
          1730,
          1,
          41,
          0,
          1,
          1,
          58,
          1,
          2,
          0,
          74,
          613,
          1,
          442,
          1473,
          14,
          8,
          1,
          157,
          3388,
          5,
          0,
          97,
          51,
          475,
          409,
          701,
          204,
          57,
          368,
          0,
          0,
          140,
          0,
          1,
          3,
          1,
          0,
          147,
          3,
          1,
          2,
          1,
          108,
          1,
          6,
          2,
          0,
          1,
          0,
          1,
          3,
          1,
          17,
          9,
          1,
          177,
          9,
          2,
          78,
          2,
          25,
          10,
          112,
          1518,
          3,
          0,
          17,
          1,
          3,
          45,
          13,
          802,
          0,
          3,
          0,
          618,
          1,
          15,
          14,
          0,
          0,
          14,
          0,
          25,
          1,
          0,
          32,
          245,
          3,
          1,
          1513,
          3,
          1,
          3,
          1,
          384,
          42,
          5,
          1,
          2,
          423,
          37,
          0,
          11,
          139,
          11,
          1,
          365,
          1,
          0,
          263,
          18,
          471,
          1,
          1,
          11,
          2,
          0,
          0,
          5,
          3,
          1,
          1,
          578,
          20,
          27,
          1,
          1,
          66,
          3,
          37,
          3,
          176,
          1,
          439,
          7,
          2,
          1,
          218,
          8,
          14,
          57,
          1,
          1,
          2,
          5,
          1,
          61,
          0,
          31,
          2234,
          1,
          7,
          12,
          5,
          0,
          35,
          7,
          76,
          26,
          19,
          3,
          2,
          38,
          14,
          7,
          1,
          9,
          0,
          45,
          289,
          3,
          0,
          1,
          13,
          0,
          3,
          0,
          1,
          0,
          32,
          1,
          206,
          0,
          30,
          69,
          513,
          340,
          0,
          1,
          0,
          361,
          1,
          21,
          1,
          1,
          34,
          118,
          633,
          26,
          1,
          59,
          1,
          32,
          0,
          48,
          6,
          0,
          3,
          4112,
          2561,
          5,
          4,
          487,
          0,
          475,
          9,
          3,
          58,
          4,
          4,
          0,
          15,
          1,
          7,
          1,
          1,
          12,
          67,
          11,
          21,
          0,
          2,
          1,
          0,
          5,
          0,
          3285,
          3,
          1,
          7,
          2,
          1,
          0,
          1,
          2,
          1,
          0,
          1,
          0,
          2,
          1,
          44,
          1,
          868,
          17851,
          4,
          33,
          91,
          2,
          51,
          321,
          1,
          10,
          196,
          1,
          1145,
          4,
          1,
          1,
          201,
          16,
          3,
          1,
          6,
          1,
          0,
          1,
          1195,
          485,
          15,
          7,
          7,
          1,
          2,
          0,
          299,
          1,
          1,
          0,
          1,
          197,
          5,
          1342,
          287,
          0,
          1,
          2,
          0,
          2,
          1,
          238,
          1,
          99,
          28,
          1,
          1,
          83,
          6,
          1,
          106,
          1,
          23,
          42,
          9,
          1,
          1991,
          2,
          14,
          1,
          0,
          0,
          48,
          2,
          4,
          1,
          3,
          22,
          7,
          7,
          3,
          2,
          2,
          1,
          13,
          438,
          3,
          1,
          335,
          1,
          24,
          13,
          20,
          2,
          1,
          392,
          1,
          2,
          2,
          1,
          5,
          7,
          3287,
          1,
          377,
          15,
          2,
          30,
          0,
          1,
          0,
          7,
          1,
          3,
          182,
          0,
          6,
          1,
          1,
          4,
          290,
          0,
          1,
          4,
          248,
          0,
          116,
          0,
          11,
          80,
          0,
          2,
          2,
          1,
          3,
          32,
          36,
          1,
          1520,
          83,
          61,
          1,
          1,
          19,
          309,
          102,
          137,
          18
         ]
        },
        {
         "marker": {
          "color": "rgba(55, 128, 191, 0.6)",
          "line": {
           "color": "rgba(55, 128, 191, 1.0)",
           "width": 1
          }
         },
         "name": "Plug-in Hybrid Electric Vehicle (PHEV)",
         "orientation": "v",
         "text": "",
         "type": "bar",
         "x": [
          "Aberdeen",
          "Acme",
          "Addy",
          "Aiea",
          "Airway Heights",
          "Alderdale",
          "Aldie",
          "Alexandria",
          "Algona",
          "Alhambra",
          "Allyn",
          "Altus",
          "Amanda Park",
          "Amboy",
          "Anacortes",
          "Anderson Island",
          "Andrews Air Force Base",
          "Annapolis",
          "Anthem",
          "Apple Valley",
          "Ariel",
          "Arlington",
          "Arlington Heights",
          "Arnold",
          "Artondale",
          "Asheboro",
          "Ashford",
          "Asotin",
          "Auburn",
          "Augusta",
          "Aurora",
          "Avalon",
          "Bainbridge Island",
          "Baring",
          "Battle Ground",
          "Bay Center",
          "Beaufort",
          "Beaux Arts",
          "Beaver",
          "Bedford",
          "Belfair",
          "Bell Hill",
          "Belle Chasse",
          "Belleville",
          "Bellevue",
          "Bellingham",
          "Benicia",
          "Benton City",
          "Berkeley",
          "Biloxi",
          "Bingen",
          "Black Diamond",
          "Blaine",
          "Bonney Lake",
          "Bothell",
          "Bow",
          "Bremerton",
          "Brewster",
          "Bridgeport",
          "Bridgeport Bar",
          "Brier",
          "Brinnon",
          "Brush Prairie",
          "Buckley",
          "Bucoda",
          "Buena Park",
          "Burbank",
          "Burien",
          "Burke",
          "Burlington",
          "Bz Corner",
          "Camano Island",
          "Camas",
          "Canoga Park",
          "Carbonado",
          "Carlton",
          "Carmel By The Sea",
          "Carnation",
          "Carrolls",
          "Carson",
          "Cashmere",
          "Castle Rock",
          "Cathedral City",
          "Cathlamet",
          "Centralia",
          "Chandler",
          "Charleston Afb",
          "Chattaroy",
          "Chehalis",
          "Chelan",
          "Chelmsford",
          "Cheney",
          "Chesapeake",
          "Chesapeake Beach",
          "Chevy Chase",
          "Chewelah",
          "Cheyenne",
          "Chimacum",
          "Chinook",
          "Chula Vista",
          "Cincinnati",
          "Cinebar",
          "Clallam Bay",
          "Clarkston",
          "Clarksville",
          "Clayton",
          "Cle Elum",
          "Clearlake",
          "Clinton",
          "Clyde Hill",
          "Colbert",
          "Colfax",
          "College Place",
          "Colorado Springs",
          "Colton",
          "Colville",
          "Concrete",
          "Connell",
          "Conyers",
          "Copalis Beach",
          "Copalis Crossing",
          "Coronado",
          "Corvallis",
          "Cosmopolis",
          "Cougar",
          "Coulee City",
          "Coulee Dam",
          "Coupeville",
          "Covington",
          "Cowiche",
          "Cupertino",
          "Curlew",
          "Curtis",
          "Cusick",
          "Custer",
          "Dallas",
          "Dallesport",
          "Danville",
          "Darrington",
          "Davenport",
          "Dayton",
          "Decatur",
          "Deer Harbor",
          "Deer Meadows",
          "Deer Park",
          "Deming",
          "Des Moines",
          "Dickinson",
          "Dover",
          "Dryden",
          "Dupont",
          "Duvall",
          "East Wenatchee",
          "Easton",
          "Eastsound",
          "Eatonville",
          "Edgewater",
          "Edgewood",
          "Edmonds",
          "Edwall",
          "El Paso",
          "Electric City",
          "Elk",
          "Ellensburg",
          "Elma",
          "Eltopia",
          "Endicott",
          "Englewood",
          "Entiat",
          "Enumclaw",
          "Ephrata",
          "Ethel",
          "Eugene",
          "Evans",
          "Everett",
          "Everson",
          "Ewa Beach",
          "Fairbanks",
          "Fairchild Air Force Base",
          "Fairfield",
          "Fall City",
          "Fayetteville",
          "Federal Way",
          "Felts Mills",
          "Ferndale",
          "Fife",
          "Fircrest",
          "Ford",
          "Forks",
          "Fort Bragg",
          "Fort Campbell",
          "Fort George G Meade",
          "Fort Irwin",
          "Fort Lauderdale",
          "Fort Leavenworth",
          "Fort Walton Beach",
          "Fort Wayne",
          "Fox Island",
          "Frances",
          "Frederick",
          "Fredericksburg",
          "Freeland",
          "Fremont",
          "Friday Harbor",
          "Fruitland",
          "Gaithersburg",
          "Gambrills",
          "Gardena",
          "Garfield",
          "Gatesville",
          "Germantown",
          "Gifford",
          "Gig Harbor",
          "Glacier",
          "Glenoma",
          "Glenwood",
          "Gold Bar",
          "Goldendale",
          "Goldsboro",
          "Goodyear",
          "Goshen",
          "Graham",
          "Grand Coulee",
          "Grandview",
          "Granger",
          "Granite Falls",
          "Grapeview",
          "Grayland",
          "Grays River",
          "Greenacres",
          "Greenbank",
          "Greenfield Center",
          "Haddonfield",
          "Hamilton",
          "Hanscom Afb",
          "Hansville",
          "Harker Heights",
          "Harrington",
          "Hartline",
          "Hatton",
          "Henrico",
          "Herndon",
          "Highland Park",
          "Honolulu",
          "Hoodsport",
          "Hoquiam",
          "Hughesville",
          "Hunters",
          "Hunts Point",
          "Husum",
          "Ilwaco",
          "Inchelium",
          "Incorporated",
          "Index",
          "Indianola",
          "Indio",
          "Irvine",
          "Issaquah",
          "Jericho",
          "Joint Base Lewis Mcchord",
          "Joint Base Mdl",
          "Junction City",
          "Kailua",
          "Kalama",
          "Kapowsin",
          "Keedysville",
          "Kekaha",
          "Kelso",
          "Kenmore",
          "Kenn",
          "Kennewick",
          "Kent",
          "Kettle Falls",
          "Keyport",
          "Killeen",
          "Kingston",
          "Kirkland",
          "Kittitas",
          "Klickitat",
          "La Center",
          "La Conner",
          "Lacey",
          "Lake Forest Park",
          "Lake Stevens",
          "Lake Tapps",
          "Lakebay",
          "Lakewood",
          "Lamont",
          "Lancaster",
          "Langley",
          "Lansing",
          "Las Cruces",
          "Las Vegas",
          "Latah",
          "Laughlin",
          "Leavenworth",
          "Lebam",
          "Leesville",
          "Lemoore",
          "Lexington Park",
          "Liberty Lake",
          "Libertyville",
          "Lilliwaup",
          "Lincoln",
          "Lincoln City",
          "Lind",
          "Lithia",
          "Little Elm",
          "Little Rock",
          "Lompoc",
          "Long Beach",
          "Longbranch",
          "Longmont",
          "Longview",
          "Loon Lake",
          "Lopez Is",
          "Lopez Island",
          "Los Angeles",
          "Lummi Island",
          "Lyle",
          "Lynden",
          "Lynnwood",
          "Mabton",
          "Madison",
          "Malaga",
          "Malott",
          "Mansfield",
          "Manson",
          "Maple Falls",
          "Maple Valley",
          "Marblemount",
          "Marlin",
          "Maryhill",
          "Marysville",
          "Mascoutah",
          "Mattawa",
          "Mazama",
          "McCleary",
          "Mcchord Afb",
          "Mccleary",
          "Mccutcheon Field",
          "Mead",
          "Mechanicsburg",
          "Medford",
          "Medical Lake",
          "Medina",
          "Menifee",
          "Menlo",
          "Mercer Island",
          "Mesa",
          "Methow",
          "Mica",
          "Middletown",
          "Mill Creek",
          "Milton",
          "Mineral",
          "Minneapolis",
          "Moclips",
          "Monroe",
          "Montesano",
          "Moraga",
          "Morton",
          "Moses Lake",
          "Mossyrock",
          "Mount Pleasant",
          "Mount Vernon",
          "Mountain Home Afb",
          "Mountain View",
          "Mountlake Terrace",
          "Moxee",
          "Mukilteo",
          "Murdock",
          "Mystic",
          "Naches",
          "Nahcotta",
          "Napa",
          "Napavine",
          "Naselle",
          "Neah Bay",
          "Nespelem",
          "Newark",
          "Newcastle",
          "Newman Lake",
          "Newport",
          "Newport Beach",
          "Newport News",
          "Nine Mile Falls",
          "Nooksack",
          "Nordland",
          "Norfolk",
          "Normandy Park",
          "Norristown",
          "North Bend",
          "North Bonneville",
          "North Cove",
          "North Las Vegas",
          "Oak Harbor",
          "Oakville",
          "Ocean Park",
          "Ocean Shores",
          "Oceanside",
          "Odenton",
          "Odessa",
          "Okanogan",
          "Okatie",
          "Olalla",
          "Old Lyme",
          "Olga",
          "Olympia",
          "Omaha",
          "Omak",
          "Onalaska",
          "Orcas Is",
          "Orchards",
          "Orondo",
          "Oroville",
          "Orting",
          "Othello",
          "Otis Orchards",
          "Outlook",
          "Oysterville",
          "Pacific",
          "Pacific Beach",
          "Packwood",
          "Palo Alto",
          "Palouse",
          "Parker",
          "Parkland",
          "Pasco",
          "Pateros",
          "Pawcatuck",
          "Pe Ell",
          "Peshastin",
          "Petoskey",
          "Phoenix",
          "Pittsburg",
          "Platte City",
          "Plymouth",
          "Point Roberts",
          "Pomeroy",
          "Port Angeles",
          "Port Gamble",
          "Port Hadlock",
          "Port Ludlow",
          "Port Orchard",
          "Port Townsend",
          "Portland",
          "Portsmouth",
          "Potomac",
          "Poulsbo",
          "Prescott",
          "Preston",
          "Pros",
          "Prosper",
          "Prosser",
          "Pullman",
          "Puyallup",
          "Quilcene",
          "Quinault",
          "Quincy",
          "Raeford",
          "Rainier",
          "Randle",
          "Ravensdale",
          "Raymond",
          "Rayville",
          "Reardan",
          "Redmond",
          "Renton",
          "Republic",
          "Rice",
          "Richland",
          "Ridgecrest",
          "Ridgefield",
          "Ritzville",
          "Riverside",
          "Rochester",
          "Rock Island",
          "Rockford",
          "Rockport",
          "Ronald",
          "Roosevelt",
          "Rosalia",
          "Rosamond",
          "Rosburg",
          "Roslyn",
          "Roy",
          "Royal City",
          "Ruston",
          "Ryderwood",
          "Sacramento",
          "Saint Jacob",
          "Salem",
          "Salkum",
          "Salt Lake City",
          "Sammamish",
          "San Antonio",
          "San Clemente",
          "San Diego",
          "San Jose",
          "San Mateo",
          "San Rafael",
          "Santa Ana",
          "Santa Clara",
          "Santa Cruz",
          "Santa Rosa",
          "Sarasota",
          "Saratoga Springs",
          "Satsop",
          "Scottsdale",
          "Seabeck",
          "Seaside",
          "Seatac",
          "Seattle",
          "Seaview",
          "Sedro Woolley",
          "Sedro-Woolley",
          "Sekiu",
          "Selah",
          "Sequim",
          "Seven Bays",
          "Shaw Island",
          "Shelton",
          "Sheridan",
          "Shoreline",
          "Silver Creek",
          "Silver Lake",
          "Silver Spring",
          "Silverdale",
          "Silverlake",
          "Skamokawa",
          "Skokie",
          "Skykomish",
          "Slidell",
          "Smith Creek",
          "Smiths Station",
          "Snohomish",
          "Snoqualmie",
          "Snoqualmie Pass",
          "Snowden",
          "Soap Lake",
          "Sonoma",
          "South Bend",
          "South Cle Elum",
          "South Hill",
          "South Prairie",
          "South Range",
          "Southern Pines",
          "Southlake",
          "Spanaway",
          "Spangle",
          "Spokane",
          "Spokane Valley",
          "Sprague",
          "Spring Lake",
          "Springdale",
          "Springfield",
          "St John",
          "Stafford",
          "Stanwood",
          "Staten Island",
          "Steilacoom",
          "Stevenson",
          "Stratford",
          "Suffolk",
          "Sultan",
          "Sumas",
          "Summerville",
          "Sumner",
          "Sumter",
          "Sunnyside",
          "Suquamish",
          "Surfside",
          "Suwanee",
          "Tacoma",
          "Taholah",
          "Tahuya",
          "Tekoa",
          "Temecula",
          "Tempe",
          "Tenino",
          "Thorp",
          "Tieton",
          "Timnath",
          "Tokeland",
          "Toledo",
          "Tonasket",
          "Toppenish",
          "Touchet",
          "Toutle",
          "Travis Afb",
          "Trinidad",
          "Trout Lake",
          "Tukwila",
          "Tulalip",
          "Tumtum",
          "Tumwater",
          "Twentynine Palms",
          "Twisp",
          "Underwood",
          "Union",
          "Union Gap",
          "Uniontown",
          "University Place",
          "Upper Marlboro",
          "Usk",
          "Vacaville",
          "Vader",
          "Valley",
          "Valleyford",
          "Vancouver",
          "Vantage",
          "Vashon",
          "Vaughn",
          "Ventura",
          "Veradale",
          "Vienna",
          "Virginia Beach",
          "Wahkiacus",
          "Waitsburg",
          "Waldorf",
          "Waldron",
          "Walla Walla",
          "Walla Walla Co",
          "Wapato",
          "Warden",
          "Warner Robins",
          "Washington",
          "Washougal",
          "Waterford",
          "Watertown",
          "Waterville",
          "Wenatchee",
          "Weslaco",
          "West Richland",
          "Westminster",
          "Westport",
          "White Salmon",
          "White Swan",
          "Wichita Falls",
          "Wilbur",
          "Wildomar",
          "Wilkeson",
          "Winlock",
          "Winthrop",
          "Wishram",
          "Woodinville",
          "Woodland",
          "Woodway",
          "Worley",
          "Wylie",
          "Yacolt",
          "Yakima",
          "Yarrow Point",
          "Yelm",
          "Zillah"
         ],
         "y": [
          42,
          4,
          1,
          1,
          8,
          0,
          0,
          4,
          6,
          0,
          18,
          1,
          1,
          6,
          151,
          8,
          0,
          0,
          0,
          1,
          6,
          101,
          0,
          0,
          0,
          0,
          2,
          2,
          352,
          1,
          0,
          1,
          371,
          1,
          117,
          1,
          1,
          10,
          1,
          1,
          35,
          0,
          1,
          0,
          1019,
          570,
          0,
          25,
          0,
          0,
          0,
          35,
          89,
          155,
          628,
          22,
          260,
          1,
          0,
          0,
          36,
          3,
          66,
          54,
          0,
          1,
          3,
          138,
          1,
          36,
          2,
          89,
          266,
          0,
          0,
          2,
          1,
          58,
          1,
          5,
          12,
          12,
          0,
          13,
          77,
          0,
          0,
          4,
          60,
          24,
          0,
          40,
          3,
          1,
          0,
          7,
          0,
          5,
          1,
          0,
          0,
          2,
          0,
          19,
          0,
          2,
          22,
          1,
          43,
          30,
          23,
          6,
          16,
          1,
          1,
          16,
          5,
          1,
          0,
          0,
          0,
          1,
          0,
          3,
          1,
          1,
          1,
          48,
          79,
          0,
          0,
          1,
          2,
          1,
          4,
          0,
          3,
          0,
          1,
          4,
          2,
          0,
          0,
          1,
          21,
          4,
          103,
          1,
          0,
          0,
          39,
          84,
          53,
          3,
          57,
          35,
          0,
          53,
          331,
          2,
          0,
          2,
          5,
          56,
          17,
          2,
          1,
          1,
          6,
          81,
          16,
          2,
          1,
          4,
          431,
          14,
          1,
          1,
          1,
          1,
          39,
          1,
          271,
          1,
          78,
          18,
          22,
          1,
          4,
          1,
          0,
          0,
          0,
          0,
          0,
          1,
          0,
          56,
          2,
          0,
          0,
          42,
          0,
          74,
          1,
          0,
          2,
          1,
          2,
          0,
          1,
          0,
          347,
          2,
          1,
          1,
          13,
          9,
          0,
          1,
          1,
          68,
          3,
          8,
          3,
          31,
          16,
          4,
          0,
          28,
          13,
          0,
          1,
          0,
          0,
          15,
          1,
          0,
          0,
          0,
          1,
          0,
          0,
          0,
          11,
          21,
          1,
          1,
          3,
          3,
          6,
          0,
          1,
          0,
          10,
          0,
          1,
          309,
          0,
          17,
          1,
          0,
          0,
          24,
          1,
          0,
          1,
          28,
          155,
          0,
          223,
          403,
          5,
          1,
          0,
          60,
          683,
          0,
          1,
          41,
          18,
          181,
          111,
          198,
          55,
          19,
          152,
          1,
          1,
          56,
          1,
          0,
          2,
          0,
          1,
          34,
          0,
          0,
          1,
          0,
          43,
          0,
          1,
          1,
          1,
          1,
          1,
          0,
          0,
          0,
          14,
          5,
          0,
          84,
          3,
          1,
          24,
          1,
          11,
          4,
          42,
          274,
          1,
          2,
          2,
          0,
          0,
          10,
          13,
          203,
          2,
          0,
          1,
          184,
          0,
          5,
          1,
          1,
          2,
          8,
          1,
          15,
          0,
          1,
          14,
          32,
          0,
          4,
          368,
          3,
          0,
          1,
          0,
          94,
          15,
          1,
          0,
          1,
          121,
          25,
          1,
          1,
          63,
          8,
          0,
          117,
          0,
          1,
          68,
          6,
          104,
          2,
          0,
          9,
          1,
          1,
          1,
          9,
          3,
          0,
          0,
          109,
          7,
          10,
          0,
          0,
          28,
          1,
          7,
          2,
          53,
          0,
          98,
          1,
          2,
          0,
          132,
          7,
          16,
          42,
          2,
          2,
          0,
          0,
          0,
          13,
          1,
          6,
          906,
          1,
          7,
          6,
          3,
          1,
          6,
          5,
          38,
          9,
          9,
          1,
          2,
          10,
          3,
          4,
          0,
          3,
          1,
          25,
          122,
          2,
          2,
          0,
          4,
          1,
          0,
          1,
          0,
          1,
          12,
          3,
          126,
          1,
          8,
          35,
          231,
          177,
          2,
          1,
          1,
          160,
          1,
          4,
          0,
          0,
          13,
          57,
          225,
          10,
          0,
          12,
          0,
          13,
          3,
          23,
          15,
          1,
          3,
          708,
          750,
          2,
          1,
          226,
          1,
          184,
          4,
          1,
          32,
          2,
          1,
          1,
          6,
          1,
          1,
          0,
          0,
          2,
          27,
          3,
          12,
          1,
          0,
          0,
          1,
          0,
          2,
          534,
          2,
          0,
          6,
          0,
          0,
          1,
          0,
          0,
          0,
          1,
          0,
          1,
          0,
          0,
          17,
          0,
          118,
          5043,
          3,
          9,
          36,
          0,
          17,
          149,
          1,
          3,
          99,
          0,
          293,
          4,
          0,
          1,
          60,
          6,
          1,
          0,
          0,
          0,
          1,
          0,
          315,
          133,
          5,
          7,
          7,
          0,
          1,
          2,
          112,
          1,
          0,
          1,
          0,
          85,
          4,
          591,
          175,
          1,
          0,
          0,
          1,
          0,
          1,
          75,
          0,
          42,
          16,
          0,
          0,
          21,
          3,
          0,
          27,
          0,
          18,
          12,
          10,
          0,
          761,
          1,
          4,
          2,
          1,
          1,
          22,
          0,
          0,
          0,
          3,
          6,
          7,
          2,
          1,
          3,
          0,
          0,
          4,
          752,
          1,
          0,
          153,
          0,
          13,
          8,
          14,
          3,
          0,
          143,
          1,
          1,
          0,
          4,
          3,
          6,
          1365,
          0,
          142,
          6,
          0,
          10,
          1,
          0,
          2,
          3,
          0,
          0,
          89,
          1,
          2,
          1,
          0,
          0,
          138,
          1,
          0,
          0,
          56,
          1,
          51,
          1,
          7,
          17,
          2,
          0,
          2,
          0,
          2,
          15,
          17,
          1,
          309,
          41,
          15,
          0,
          0,
          13,
          162,
          24,
          60,
          5
         ]
        }
       ],
       "layout": {
        "barmode": "stack",
        "legend": {
         "bgcolor": "#F5F6F9",
         "font": {
          "color": "#4D5663"
         },
         "traceorder": "normal"
        },
        "paper_bgcolor": "#F5F6F9",
        "plot_bgcolor": "#F5F6F9",
        "template": {
         "data": {
          "bar": [
           {
            "error_x": {
             "color": "#2a3f5f"
            },
            "error_y": {
             "color": "#2a3f5f"
            },
            "marker": {
             "line": {
              "color": "#E5ECF6",
              "width": 0.5
             },
             "pattern": {
              "fillmode": "overlay",
              "size": 10,
              "solidity": 0.2
             }
            },
            "type": "bar"
           }
          ],
          "barpolar": [
           {
            "marker": {
             "line": {
              "color": "#E5ECF6",
              "width": 0.5
             },
             "pattern": {
              "fillmode": "overlay",
              "size": 10,
              "solidity": 0.2
             }
            },
            "type": "barpolar"
           }
          ],
          "carpet": [
           {
            "aaxis": {
             "endlinecolor": "#2a3f5f",
             "gridcolor": "white",
             "linecolor": "white",
             "minorgridcolor": "white",
             "startlinecolor": "#2a3f5f"
            },
            "baxis": {
             "endlinecolor": "#2a3f5f",
             "gridcolor": "white",
             "linecolor": "white",
             "minorgridcolor": "white",
             "startlinecolor": "#2a3f5f"
            },
            "type": "carpet"
           }
          ],
          "choropleth": [
           {
            "colorbar": {
             "outlinewidth": 0,
             "ticks": ""
            },
            "type": "choropleth"
           }
          ],
          "contour": [
           {
            "colorbar": {
             "outlinewidth": 0,
             "ticks": ""
            },
            "colorscale": [
             [
              0,
              "#0d0887"
             ],
             [
              0.1111111111111111,
              "#46039f"
             ],
             [
              0.2222222222222222,
              "#7201a8"
             ],
             [
              0.3333333333333333,
              "#9c179e"
             ],
             [
              0.4444444444444444,
              "#bd3786"
             ],
             [
              0.5555555555555556,
              "#d8576b"
             ],
             [
              0.6666666666666666,
              "#ed7953"
             ],
             [
              0.7777777777777778,
              "#fb9f3a"
             ],
             [
              0.8888888888888888,
              "#fdca26"
             ],
             [
              1,
              "#f0f921"
             ]
            ],
            "type": "contour"
           }
          ],
          "contourcarpet": [
           {
            "colorbar": {
             "outlinewidth": 0,
             "ticks": ""
            },
            "type": "contourcarpet"
           }
          ],
          "heatmap": [
           {
            "colorbar": {
             "outlinewidth": 0,
             "ticks": ""
            },
            "colorscale": [
             [
              0,
              "#0d0887"
             ],
             [
              0.1111111111111111,
              "#46039f"
             ],
             [
              0.2222222222222222,
              "#7201a8"
             ],
             [
              0.3333333333333333,
              "#9c179e"
             ],
             [
              0.4444444444444444,
              "#bd3786"
             ],
             [
              0.5555555555555556,
              "#d8576b"
             ],
             [
              0.6666666666666666,
              "#ed7953"
             ],
             [
              0.7777777777777778,
              "#fb9f3a"
             ],
             [
              0.8888888888888888,
              "#fdca26"
             ],
             [
              1,
              "#f0f921"
             ]
            ],
            "type": "heatmap"
           }
          ],
          "heatmapgl": [
           {
            "colorbar": {
             "outlinewidth": 0,
             "ticks": ""
            },
            "colorscale": [
             [
              0,
              "#0d0887"
             ],
             [
              0.1111111111111111,
              "#46039f"
             ],
             [
              0.2222222222222222,
              "#7201a8"
             ],
             [
              0.3333333333333333,
              "#9c179e"
             ],
             [
              0.4444444444444444,
              "#bd3786"
             ],
             [
              0.5555555555555556,
              "#d8576b"
             ],
             [
              0.6666666666666666,
              "#ed7953"
             ],
             [
              0.7777777777777778,
              "#fb9f3a"
             ],
             [
              0.8888888888888888,
              "#fdca26"
             ],
             [
              1,
              "#f0f921"
             ]
            ],
            "type": "heatmapgl"
           }
          ],
          "histogram": [
           {
            "marker": {
             "pattern": {
              "fillmode": "overlay",
              "size": 10,
              "solidity": 0.2
             }
            },
            "type": "histogram"
           }
          ],
          "histogram2d": [
           {
            "colorbar": {
             "outlinewidth": 0,
             "ticks": ""
            },
            "colorscale": [
             [
              0,
              "#0d0887"
             ],
             [
              0.1111111111111111,
              "#46039f"
             ],
             [
              0.2222222222222222,
              "#7201a8"
             ],
             [
              0.3333333333333333,
              "#9c179e"
             ],
             [
              0.4444444444444444,
              "#bd3786"
             ],
             [
              0.5555555555555556,
              "#d8576b"
             ],
             [
              0.6666666666666666,
              "#ed7953"
             ],
             [
              0.7777777777777778,
              "#fb9f3a"
             ],
             [
              0.8888888888888888,
              "#fdca26"
             ],
             [
              1,
              "#f0f921"
             ]
            ],
            "type": "histogram2d"
           }
          ],
          "histogram2dcontour": [
           {
            "colorbar": {
             "outlinewidth": 0,
             "ticks": ""
            },
            "colorscale": [
             [
              0,
              "#0d0887"
             ],
             [
              0.1111111111111111,
              "#46039f"
             ],
             [
              0.2222222222222222,
              "#7201a8"
             ],
             [
              0.3333333333333333,
              "#9c179e"
             ],
             [
              0.4444444444444444,
              "#bd3786"
             ],
             [
              0.5555555555555556,
              "#d8576b"
             ],
             [
              0.6666666666666666,
              "#ed7953"
             ],
             [
              0.7777777777777778,
              "#fb9f3a"
             ],
             [
              0.8888888888888888,
              "#fdca26"
             ],
             [
              1,
              "#f0f921"
             ]
            ],
            "type": "histogram2dcontour"
           }
          ],
          "mesh3d": [
           {
            "colorbar": {
             "outlinewidth": 0,
             "ticks": ""
            },
            "type": "mesh3d"
           }
          ],
          "parcoords": [
           {
            "line": {
             "colorbar": {
              "outlinewidth": 0,
              "ticks": ""
             }
            },
            "type": "parcoords"
           }
          ],
          "pie": [
           {
            "automargin": true,
            "type": "pie"
           }
          ],
          "scatter": [
           {
            "fillpattern": {
             "fillmode": "overlay",
             "size": 10,
             "solidity": 0.2
            },
            "type": "scatter"
           }
          ],
          "scatter3d": [
           {
            "line": {
             "colorbar": {
              "outlinewidth": 0,
              "ticks": ""
             }
            },
            "marker": {
             "colorbar": {
              "outlinewidth": 0,
              "ticks": ""
             }
            },
            "type": "scatter3d"
           }
          ],
          "scattercarpet": [
           {
            "marker": {
             "colorbar": {
              "outlinewidth": 0,
              "ticks": ""
             }
            },
            "type": "scattercarpet"
           }
          ],
          "scattergeo": [
           {
            "marker": {
             "colorbar": {
              "outlinewidth": 0,
              "ticks": ""
             }
            },
            "type": "scattergeo"
           }
          ],
          "scattergl": [
           {
            "marker": {
             "colorbar": {
              "outlinewidth": 0,
              "ticks": ""
             }
            },
            "type": "scattergl"
           }
          ],
          "scattermapbox": [
           {
            "marker": {
             "colorbar": {
              "outlinewidth": 0,
              "ticks": ""
             }
            },
            "type": "scattermapbox"
           }
          ],
          "scatterpolar": [
           {
            "marker": {
             "colorbar": {
              "outlinewidth": 0,
              "ticks": ""
             }
            },
            "type": "scatterpolar"
           }
          ],
          "scatterpolargl": [
           {
            "marker": {
             "colorbar": {
              "outlinewidth": 0,
              "ticks": ""
             }
            },
            "type": "scatterpolargl"
           }
          ],
          "scatterternary": [
           {
            "marker": {
             "colorbar": {
              "outlinewidth": 0,
              "ticks": ""
             }
            },
            "type": "scatterternary"
           }
          ],
          "surface": [
           {
            "colorbar": {
             "outlinewidth": 0,
             "ticks": ""
            },
            "colorscale": [
             [
              0,
              "#0d0887"
             ],
             [
              0.1111111111111111,
              "#46039f"
             ],
             [
              0.2222222222222222,
              "#7201a8"
             ],
             [
              0.3333333333333333,
              "#9c179e"
             ],
             [
              0.4444444444444444,
              "#bd3786"
             ],
             [
              0.5555555555555556,
              "#d8576b"
             ],
             [
              0.6666666666666666,
              "#ed7953"
             ],
             [
              0.7777777777777778,
              "#fb9f3a"
             ],
             [
              0.8888888888888888,
              "#fdca26"
             ],
             [
              1,
              "#f0f921"
             ]
            ],
            "type": "surface"
           }
          ],
          "table": [
           {
            "cells": {
             "fill": {
              "color": "#EBF0F8"
             },
             "line": {
              "color": "white"
             }
            },
            "header": {
             "fill": {
              "color": "#C8D4E3"
             },
             "line": {
              "color": "white"
             }
            },
            "type": "table"
           }
          ]
         },
         "layout": {
          "annotationdefaults": {
           "arrowcolor": "#2a3f5f",
           "arrowhead": 0,
           "arrowwidth": 1
          },
          "autotypenumbers": "strict",
          "coloraxis": {
           "colorbar": {
            "outlinewidth": 0,
            "ticks": ""
           }
          },
          "colorscale": {
           "diverging": [
            [
             0,
             "#8e0152"
            ],
            [
             0.1,
             "#c51b7d"
            ],
            [
             0.2,
             "#de77ae"
            ],
            [
             0.3,
             "#f1b6da"
            ],
            [
             0.4,
             "#fde0ef"
            ],
            [
             0.5,
             "#f7f7f7"
            ],
            [
             0.6,
             "#e6f5d0"
            ],
            [
             0.7,
             "#b8e186"
            ],
            [
             0.8,
             "#7fbc41"
            ],
            [
             0.9,
             "#4d9221"
            ],
            [
             1,
             "#276419"
            ]
           ],
           "sequential": [
            [
             0,
             "#0d0887"
            ],
            [
             0.1111111111111111,
             "#46039f"
            ],
            [
             0.2222222222222222,
             "#7201a8"
            ],
            [
             0.3333333333333333,
             "#9c179e"
            ],
            [
             0.4444444444444444,
             "#bd3786"
            ],
            [
             0.5555555555555556,
             "#d8576b"
            ],
            [
             0.6666666666666666,
             "#ed7953"
            ],
            [
             0.7777777777777778,
             "#fb9f3a"
            ],
            [
             0.8888888888888888,
             "#fdca26"
            ],
            [
             1,
             "#f0f921"
            ]
           ],
           "sequentialminus": [
            [
             0,
             "#0d0887"
            ],
            [
             0.1111111111111111,
             "#46039f"
            ],
            [
             0.2222222222222222,
             "#7201a8"
            ],
            [
             0.3333333333333333,
             "#9c179e"
            ],
            [
             0.4444444444444444,
             "#bd3786"
            ],
            [
             0.5555555555555556,
             "#d8576b"
            ],
            [
             0.6666666666666666,
             "#ed7953"
            ],
            [
             0.7777777777777778,
             "#fb9f3a"
            ],
            [
             0.8888888888888888,
             "#fdca26"
            ],
            [
             1,
             "#f0f921"
            ]
           ]
          },
          "colorway": [
           "#636efa",
           "#EF553B",
           "#00cc96",
           "#ab63fa",
           "#FFA15A",
           "#19d3f3",
           "#FF6692",
           "#B6E880",
           "#FF97FF",
           "#FECB52"
          ],
          "font": {
           "color": "#2a3f5f"
          },
          "geo": {
           "bgcolor": "white",
           "lakecolor": "white",
           "landcolor": "#E5ECF6",
           "showlakes": true,
           "showland": true,
           "subunitcolor": "white"
          },
          "hoverlabel": {
           "align": "left"
          },
          "hovermode": "closest",
          "mapbox": {
           "style": "light"
          },
          "paper_bgcolor": "white",
          "plot_bgcolor": "#E5ECF6",
          "polar": {
           "angularaxis": {
            "gridcolor": "white",
            "linecolor": "white",
            "ticks": ""
           },
           "bgcolor": "#E5ECF6",
           "radialaxis": {
            "gridcolor": "white",
            "linecolor": "white",
            "ticks": ""
           }
          },
          "scene": {
           "xaxis": {
            "backgroundcolor": "#E5ECF6",
            "gridcolor": "white",
            "gridwidth": 2,
            "linecolor": "white",
            "showbackground": true,
            "ticks": "",
            "zerolinecolor": "white"
           },
           "yaxis": {
            "backgroundcolor": "#E5ECF6",
            "gridcolor": "white",
            "gridwidth": 2,
            "linecolor": "white",
            "showbackground": true,
            "ticks": "",
            "zerolinecolor": "white"
           },
           "zaxis": {
            "backgroundcolor": "#E5ECF6",
            "gridcolor": "white",
            "gridwidth": 2,
            "linecolor": "white",
            "showbackground": true,
            "ticks": "",
            "zerolinecolor": "white"
           }
          },
          "shapedefaults": {
           "line": {
            "color": "#2a3f5f"
           }
          },
          "ternary": {
           "aaxis": {
            "gridcolor": "white",
            "linecolor": "white",
            "ticks": ""
           },
           "baxis": {
            "gridcolor": "white",
            "linecolor": "white",
            "ticks": ""
           },
           "bgcolor": "#E5ECF6",
           "caxis": {
            "gridcolor": "white",
            "linecolor": "white",
            "ticks": ""
           }
          },
          "title": {
           "x": 0.05
          },
          "xaxis": {
           "automargin": true,
           "gridcolor": "white",
           "linecolor": "white",
           "ticks": "",
           "title": {
            "standoff": 15
           },
           "zerolinecolor": "white",
           "zerolinewidth": 2
          },
          "yaxis": {
           "automargin": true,
           "gridcolor": "white",
           "linecolor": "white",
           "ticks": "",
           "title": {
            "standoff": 15
           },
           "zerolinecolor": "white",
           "zerolinewidth": 2
          }
         }
        },
        "title": {
         "font": {
          "color": "#4D5663"
         },
         "text": "Stacked Bar Chart: City vs Electric Vehicle Type (Absolute Numbers)"
        },
        "xaxis": {
         "gridcolor": "#E1E5ED",
         "showgrid": true,
         "tickfont": {
          "color": "#4D5663"
         },
         "title": {
          "font": {
           "color": "#4D5663"
          },
          "text": ""
         },
         "zerolinecolor": "#E1E5ED"
        },
        "yaxis": {
         "gridcolor": "#E1E5ED",
         "showgrid": true,
         "tickfont": {
          "color": "#4D5663"
         },
         "title": {
          "font": {
           "color": "#4D5663"
          },
          "text": ""
         },
         "zerolinecolor": "#E1E5ED"
        }
       }
      },
      "text/html": [
       "<div>                            <div id=\"e1a78b11-3cd5-4a61-9c47-6ccd641a6eaf\" class=\"plotly-graph-div\" style=\"height:525px; width:100%;\"></div>            <script type=\"text/javascript\">                require([\"plotly\"], function(Plotly) {                    window.PLOTLYENV=window.PLOTLYENV || {};\n",
       "                    window.PLOTLYENV.BASE_URL='https://plot.ly';                                    if (document.getElementById(\"e1a78b11-3cd5-4a61-9c47-6ccd641a6eaf\")) {                    Plotly.newPlot(                        \"e1a78b11-3cd5-4a61-9c47-6ccd641a6eaf\",                        [{\"marker\":{\"color\":\"rgba(255, 153, 51, 0.6)\",\"line\":{\"color\":\"rgba(255, 153, 51, 1.0)\",\"width\":1}},\"name\":\"Battery Electric Vehicle (BEV)\",\"orientation\":\"v\",\"text\":\"\",\"x\":[\"Aberdeen\",\"Acme\",\"Addy\",\"Aiea\",\"Airway Heights\",\"Alderdale\",\"Aldie\",\"Alexandria\",\"Algona\",\"Alhambra\",\"Allyn\",\"Altus\",\"Amanda Park\",\"Amboy\",\"Anacortes\",\"Anderson Island\",\"Andrews Air Force Base\",\"Annapolis\",\"Anthem\",\"Apple Valley\",\"Ariel\",\"Arlington\",\"Arlington Heights\",\"Arnold\",\"Artondale\",\"Asheboro\",\"Ashford\",\"Asotin\",\"Auburn\",\"Augusta\",\"Aurora\",\"Avalon\",\"Bainbridge Island\",\"Baring\",\"Battle Ground\",\"Bay Center\",\"Beaufort\",\"Beaux Arts\",\"Beaver\",\"Bedford\",\"Belfair\",\"Bell Hill\",\"Belle Chasse\",\"Belleville\",\"Bellevue\",\"Bellingham\",\"Benicia\",\"Benton City\",\"Berkeley\",\"Biloxi\",\"Bingen\",\"Black Diamond\",\"Blaine\",\"Bonney Lake\",\"Bothell\",\"Bow\",\"Bremerton\",\"Brewster\",\"Bridgeport\",\"Bridgeport Bar\",\"Brier\",\"Brinnon\",\"Brush Prairie\",\"Buckley\",\"Bucoda\",\"Buena Park\",\"Burbank\",\"Burien\",\"Burke\",\"Burlington\",\"Bz Corner\",\"Camano Island\",\"Camas\",\"Canoga Park\",\"Carbonado\",\"Carlton\",\"Carmel By The Sea\",\"Carnation\",\"Carrolls\",\"Carson\",\"Cashmere\",\"Castle Rock\",\"Cathedral City\",\"Cathlamet\",\"Centralia\",\"Chandler\",\"Charleston Afb\",\"Chattaroy\",\"Chehalis\",\"Chelan\",\"Chelmsford\",\"Cheney\",\"Chesapeake\",\"Chesapeake Beach\",\"Chevy Chase\",\"Chewelah\",\"Cheyenne\",\"Chimacum\",\"Chinook\",\"Chula Vista\",\"Cincinnati\",\"Cinebar\",\"Clallam Bay\",\"Clarkston\",\"Clarksville\",\"Clayton\",\"Cle Elum\",\"Clearlake\",\"Clinton\",\"Clyde Hill\",\"Colbert\",\"Colfax\",\"College Place\",\"Colorado Springs\",\"Colton\",\"Colville\",\"Concrete\",\"Connell\",\"Conyers\",\"Copalis Beach\",\"Copalis Crossing\",\"Coronado\",\"Corvallis\",\"Cosmopolis\",\"Cougar\",\"Coulee City\",\"Coulee Dam\",\"Coupeville\",\"Covington\",\"Cowiche\",\"Cupertino\",\"Curlew\",\"Curtis\",\"Cusick\",\"Custer\",\"Dallas\",\"Dallesport\",\"Danville\",\"Darrington\",\"Davenport\",\"Dayton\",\"Decatur\",\"Deer Harbor\",\"Deer Meadows\",\"Deer Park\",\"Deming\",\"Des Moines\",\"Dickinson\",\"Dover\",\"Dryden\",\"Dupont\",\"Duvall\",\"East Wenatchee\",\"Easton\",\"Eastsound\",\"Eatonville\",\"Edgewater\",\"Edgewood\",\"Edmonds\",\"Edwall\",\"El Paso\",\"Electric City\",\"Elk\",\"Ellensburg\",\"Elma\",\"Eltopia\",\"Endicott\",\"Englewood\",\"Entiat\",\"Enumclaw\",\"Ephrata\",\"Ethel\",\"Eugene\",\"Evans\",\"Everett\",\"Everson\",\"Ewa Beach\",\"Fairbanks\",\"Fairchild Air Force Base\",\"Fairfield\",\"Fall City\",\"Fayetteville\",\"Federal Way\",\"Felts Mills\",\"Ferndale\",\"Fife\",\"Fircrest\",\"Ford\",\"Forks\",\"Fort Bragg\",\"Fort Campbell\",\"Fort George G Meade\",\"Fort Irwin\",\"Fort Lauderdale\",\"Fort Leavenworth\",\"Fort Walton Beach\",\"Fort Wayne\",\"Fox Island\",\"Frances\",\"Frederick\",\"Fredericksburg\",\"Freeland\",\"Fremont\",\"Friday Harbor\",\"Fruitland\",\"Gaithersburg\",\"Gambrills\",\"Gardena\",\"Garfield\",\"Gatesville\",\"Germantown\",\"Gifford\",\"Gig Harbor\",\"Glacier\",\"Glenoma\",\"Glenwood\",\"Gold Bar\",\"Goldendale\",\"Goldsboro\",\"Goodyear\",\"Goshen\",\"Graham\",\"Grand Coulee\",\"Grandview\",\"Granger\",\"Granite Falls\",\"Grapeview\",\"Grayland\",\"Grays River\",\"Greenacres\",\"Greenbank\",\"Greenfield Center\",\"Haddonfield\",\"Hamilton\",\"Hanscom Afb\",\"Hansville\",\"Harker Heights\",\"Harrington\",\"Hartline\",\"Hatton\",\"Henrico\",\"Herndon\",\"Highland Park\",\"Honolulu\",\"Hoodsport\",\"Hoquiam\",\"Hughesville\",\"Hunters\",\"Hunts Point\",\"Husum\",\"Ilwaco\",\"Inchelium\",\"Incorporated\",\"Index\",\"Indianola\",\"Indio\",\"Irvine\",\"Issaquah\",\"Jericho\",\"Joint Base Lewis Mcchord\",\"Joint Base Mdl\",\"Junction City\",\"Kailua\",\"Kalama\",\"Kapowsin\",\"Keedysville\",\"Kekaha\",\"Kelso\",\"Kenmore\",\"Kenn\",\"Kennewick\",\"Kent\",\"Kettle Falls\",\"Keyport\",\"Killeen\",\"Kingston\",\"Kirkland\",\"Kittitas\",\"Klickitat\",\"La Center\",\"La Conner\",\"Lacey\",\"Lake Forest Park\",\"Lake Stevens\",\"Lake Tapps\",\"Lakebay\",\"Lakewood\",\"Lamont\",\"Lancaster\",\"Langley\",\"Lansing\",\"Las Cruces\",\"Las Vegas\",\"Latah\",\"Laughlin\",\"Leavenworth\",\"Lebam\",\"Leesville\",\"Lemoore\",\"Lexington Park\",\"Liberty Lake\",\"Libertyville\",\"Lilliwaup\",\"Lincoln\",\"Lincoln City\",\"Lind\",\"Lithia\",\"Little Elm\",\"Little Rock\",\"Lompoc\",\"Long Beach\",\"Longbranch\",\"Longmont\",\"Longview\",\"Loon Lake\",\"Lopez Is\",\"Lopez Island\",\"Los Angeles\",\"Lummi Island\",\"Lyle\",\"Lynden\",\"Lynnwood\",\"Mabton\",\"Madison\",\"Malaga\",\"Malott\",\"Mansfield\",\"Manson\",\"Maple Falls\",\"Maple Valley\",\"Marblemount\",\"Marlin\",\"Maryhill\",\"Marysville\",\"Mascoutah\",\"Mattawa\",\"Mazama\",\"McCleary\",\"Mcchord Afb\",\"Mccleary\",\"Mccutcheon Field\",\"Mead\",\"Mechanicsburg\",\"Medford\",\"Medical Lake\",\"Medina\",\"Menifee\",\"Menlo\",\"Mercer Island\",\"Mesa\",\"Methow\",\"Mica\",\"Middletown\",\"Mill Creek\",\"Milton\",\"Mineral\",\"Minneapolis\",\"Moclips\",\"Monroe\",\"Montesano\",\"Moraga\",\"Morton\",\"Moses Lake\",\"Mossyrock\",\"Mount Pleasant\",\"Mount Vernon\",\"Mountain Home Afb\",\"Mountain View\",\"Mountlake Terrace\",\"Moxee\",\"Mukilteo\",\"Murdock\",\"Mystic\",\"Naches\",\"Nahcotta\",\"Napa\",\"Napavine\",\"Naselle\",\"Neah Bay\",\"Nespelem\",\"Newark\",\"Newcastle\",\"Newman Lake\",\"Newport\",\"Newport Beach\",\"Newport News\",\"Nine Mile Falls\",\"Nooksack\",\"Nordland\",\"Norfolk\",\"Normandy Park\",\"Norristown\",\"North Bend\",\"North Bonneville\",\"North Cove\",\"North Las Vegas\",\"Oak Harbor\",\"Oakville\",\"Ocean Park\",\"Ocean Shores\",\"Oceanside\",\"Odenton\",\"Odessa\",\"Okanogan\",\"Okatie\",\"Olalla\",\"Old Lyme\",\"Olga\",\"Olympia\",\"Omaha\",\"Omak\",\"Onalaska\",\"Orcas Is\",\"Orchards\",\"Orondo\",\"Oroville\",\"Orting\",\"Othello\",\"Otis Orchards\",\"Outlook\",\"Oysterville\",\"Pacific\",\"Pacific Beach\",\"Packwood\",\"Palo Alto\",\"Palouse\",\"Parker\",\"Parkland\",\"Pasco\",\"Pateros\",\"Pawcatuck\",\"Pe Ell\",\"Peshastin\",\"Petoskey\",\"Phoenix\",\"Pittsburg\",\"Platte City\",\"Plymouth\",\"Point Roberts\",\"Pomeroy\",\"Port Angeles\",\"Port Gamble\",\"Port Hadlock\",\"Port Ludlow\",\"Port Orchard\",\"Port Townsend\",\"Portland\",\"Portsmouth\",\"Potomac\",\"Poulsbo\",\"Prescott\",\"Preston\",\"Pros\",\"Prosper\",\"Prosser\",\"Pullman\",\"Puyallup\",\"Quilcene\",\"Quinault\",\"Quincy\",\"Raeford\",\"Rainier\",\"Randle\",\"Ravensdale\",\"Raymond\",\"Rayville\",\"Reardan\",\"Redmond\",\"Renton\",\"Republic\",\"Rice\",\"Richland\",\"Ridgecrest\",\"Ridgefield\",\"Ritzville\",\"Riverside\",\"Rochester\",\"Rock Island\",\"Rockford\",\"Rockport\",\"Ronald\",\"Roosevelt\",\"Rosalia\",\"Rosamond\",\"Rosburg\",\"Roslyn\",\"Roy\",\"Royal City\",\"Ruston\",\"Ryderwood\",\"Sacramento\",\"Saint Jacob\",\"Salem\",\"Salkum\",\"Salt Lake City\",\"Sammamish\",\"San Antonio\",\"San Clemente\",\"San Diego\",\"San Jose\",\"San Mateo\",\"San Rafael\",\"Santa Ana\",\"Santa Clara\",\"Santa Cruz\",\"Santa Rosa\",\"Sarasota\",\"Saratoga Springs\",\"Satsop\",\"Scottsdale\",\"Seabeck\",\"Seaside\",\"Seatac\",\"Seattle\",\"Seaview\",\"Sedro Woolley\",\"Sedro-Woolley\",\"Sekiu\",\"Selah\",\"Sequim\",\"Seven Bays\",\"Shaw Island\",\"Shelton\",\"Sheridan\",\"Shoreline\",\"Silver Creek\",\"Silver Lake\",\"Silver Spring\",\"Silverdale\",\"Silverlake\",\"Skamokawa\",\"Skokie\",\"Skykomish\",\"Slidell\",\"Smith Creek\",\"Smiths Station\",\"Snohomish\",\"Snoqualmie\",\"Snoqualmie Pass\",\"Snowden\",\"Soap Lake\",\"Sonoma\",\"South Bend\",\"South Cle Elum\",\"South Hill\",\"South Prairie\",\"South Range\",\"Southern Pines\",\"Southlake\",\"Spanaway\",\"Spangle\",\"Spokane\",\"Spokane Valley\",\"Sprague\",\"Spring Lake\",\"Springdale\",\"Springfield\",\"St John\",\"Stafford\",\"Stanwood\",\"Staten Island\",\"Steilacoom\",\"Stevenson\",\"Stratford\",\"Suffolk\",\"Sultan\",\"Sumas\",\"Summerville\",\"Sumner\",\"Sumter\",\"Sunnyside\",\"Suquamish\",\"Surfside\",\"Suwanee\",\"Tacoma\",\"Taholah\",\"Tahuya\",\"Tekoa\",\"Temecula\",\"Tempe\",\"Tenino\",\"Thorp\",\"Tieton\",\"Timnath\",\"Tokeland\",\"Toledo\",\"Tonasket\",\"Toppenish\",\"Touchet\",\"Toutle\",\"Travis Afb\",\"Trinidad\",\"Trout Lake\",\"Tukwila\",\"Tulalip\",\"Tumtum\",\"Tumwater\",\"Twentynine Palms\",\"Twisp\",\"Underwood\",\"Union\",\"Union Gap\",\"Uniontown\",\"University Place\",\"Upper Marlboro\",\"Usk\",\"Vacaville\",\"Vader\",\"Valley\",\"Valleyford\",\"Vancouver\",\"Vantage\",\"Vashon\",\"Vaughn\",\"Ventura\",\"Veradale\",\"Vienna\",\"Virginia Beach\",\"Wahkiacus\",\"Waitsburg\",\"Waldorf\",\"Waldron\",\"Walla Walla\",\"Walla Walla Co\",\"Wapato\",\"Warden\",\"Warner Robins\",\"Washington\",\"Washougal\",\"Waterford\",\"Watertown\",\"Waterville\",\"Wenatchee\",\"Weslaco\",\"West Richland\",\"Westminster\",\"Westport\",\"White Salmon\",\"White Swan\",\"Wichita Falls\",\"Wilbur\",\"Wildomar\",\"Wilkeson\",\"Winlock\",\"Winthrop\",\"Wishram\",\"Woodinville\",\"Woodland\",\"Woodway\",\"Worley\",\"Wylie\",\"Yacolt\",\"Yakima\",\"Yarrow Point\",\"Yelm\",\"Zillah\"],\"y\":[73.0,3.0,1.0,0.0,10.0,1.0,3.0,5.0,18.0,1.0,39.0,0.0,1.0,14.0,391.0,23.0,1.0,1.0,1.0,0.0,7.0,321.0,1.0,1.0,1.0,1.0,4.0,7.0,1027.0,0.0,1.0,0.0,1037.0,2.0,297.0,1.0,0.0,30.0,0.0,0.0,88.0,1.0,1.0,1.0,5729.0,1649.0,1.0,23.0,2.0,1.0,3.0,225.0,219.0,558.0,3396.0,59.0,636.0,9.0,1.0,1.0,132.0,13.0,154.0,111.0,1.0,2.0,5.0,477.0,1.0,84.0,4.0,267.0,885.0,1.0,4.0,3.0,0.0,219.0,0.0,9.0,41.0,45.0,1.0,21.0,88.0,1.0,1.0,19.0,100.0,100.0,1.0,77.0,1.0,1.0,1.0,8.0,1.0,19.0,1.0,3.0,2.0,1.0,1.0,27.0,1.0,0.0,126.0,2.0,122.0,240.0,56.0,10.0,28.0,3.0,1.0,25.0,21.0,4.0,1.0,1.0,2.0,0.0,1.0,6.0,1.0,8.0,1.0,117.0,320.0,1.0,1.0,6.0,2.0,0.0,19.0,1.0,2.0,1.0,8.0,2.0,13.0,1.0,1.0,1.0,35.0,15.0,259.0,0.0,1.0,1.0,97.0,361.0,138.0,13.0,187.0,57.0,1.0,182.0,1096.0,1.0,2.0,1.0,15.0,150.0,30.0,2.0,1.0,1.0,13.0,168.0,24.0,4.0,0.0,2.0,1306.0,55.0,0.0,0.0,9.0,0.0,144.0,1.0,747.0,0.0,192.0,68.0,78.0,2.0,7.0,0.0,1.0,1.0,1.0,1.0,1.0,0.0,1.0,97.0,1.0,1.0,1.0,121.0,1.0,292.0,1.0,1.0,1.0,0.0,0.0,1.0,0.0,1.0,1127.0,7.0,1.0,1.0,33.0,18.0,1.0,0.0,0.0,154.0,1.0,11.0,4.0,88.0,33.0,3.0,1.0,62.0,36.0,1.0,0.0,1.0,1.0,35.0,0.0,3.0,1.0,1.0,0.0,1.0,1.0,1.0,21.0,26.0,0.0,1.0,47.0,9.0,7.0,1.0,1.0,2.0,35.0,1.0,2.0,1730.0,1.0,41.0,0.0,1.0,1.0,58.0,1.0,2.0,0.0,74.0,613.0,1.0,442.0,1473.0,14.0,8.0,1.0,157.0,3388.0,5.0,0.0,97.0,51.0,475.0,409.0,701.0,204.0,57.0,368.0,0.0,0.0,140.0,0.0,1.0,3.0,1.0,0.0,147.0,3.0,1.0,2.0,1.0,108.0,1.0,6.0,2.0,0.0,1.0,0.0,1.0,3.0,1.0,17.0,9.0,1.0,177.0,9.0,2.0,78.0,2.0,25.0,10.0,112.0,1518.0,3.0,0.0,17.0,1.0,3.0,45.0,13.0,802.0,0.0,3.0,0.0,618.0,1.0,15.0,14.0,0.0,0.0,14.0,0.0,25.0,1.0,0.0,32.0,245.0,3.0,1.0,1513.0,3.0,1.0,3.0,1.0,384.0,42.0,5.0,1.0,2.0,423.0,37.0,0.0,11.0,139.0,11.0,1.0,365.0,1.0,0.0,263.0,18.0,471.0,1.0,1.0,11.0,2.0,0.0,0.0,5.0,3.0,1.0,1.0,578.0,20.0,27.0,1.0,1.0,66.0,3.0,37.0,3.0,176.0,1.0,439.0,7.0,2.0,1.0,218.0,8.0,14.0,57.0,1.0,1.0,2.0,5.0,1.0,61.0,0.0,31.0,2234.0,1.0,7.0,12.0,5.0,0.0,35.0,7.0,76.0,26.0,19.0,3.0,2.0,38.0,14.0,7.0,1.0,9.0,0.0,45.0,289.0,3.0,0.0,1.0,13.0,0.0,3.0,0.0,1.0,0.0,32.0,1.0,206.0,0.0,30.0,69.0,513.0,340.0,0.0,1.0,0.0,361.0,1.0,21.0,1.0,1.0,34.0,118.0,633.0,26.0,1.0,59.0,1.0,32.0,0.0,48.0,6.0,0.0,3.0,4112.0,2561.0,5.0,4.0,487.0,0.0,475.0,9.0,3.0,58.0,4.0,4.0,0.0,15.0,1.0,7.0,1.0,1.0,12.0,67.0,11.0,21.0,0.0,2.0,1.0,0.0,5.0,0.0,3285.0,3.0,1.0,7.0,2.0,1.0,0.0,1.0,2.0,1.0,0.0,1.0,0.0,2.0,1.0,44.0,1.0,868.0,17851.0,4.0,33.0,91.0,2.0,51.0,321.0,1.0,10.0,196.0,1.0,1145.0,4.0,1.0,1.0,201.0,16.0,3.0,1.0,6.0,1.0,0.0,1.0,1195.0,485.0,15.0,7.0,7.0,1.0,2.0,0.0,299.0,1.0,1.0,0.0,1.0,197.0,5.0,1342.0,287.0,0.0,1.0,2.0,0.0,2.0,1.0,238.0,1.0,99.0,28.0,1.0,1.0,83.0,6.0,1.0,106.0,1.0,23.0,42.0,9.0,1.0,1991.0,2.0,14.0,1.0,0.0,0.0,48.0,2.0,4.0,1.0,3.0,22.0,7.0,7.0,3.0,2.0,2.0,1.0,13.0,438.0,3.0,1.0,335.0,1.0,24.0,13.0,20.0,2.0,1.0,392.0,1.0,2.0,2.0,1.0,5.0,7.0,3287.0,1.0,377.0,15.0,2.0,30.0,0.0,1.0,0.0,7.0,1.0,3.0,182.0,0.0,6.0,1.0,1.0,4.0,290.0,0.0,1.0,4.0,248.0,0.0,116.0,0.0,11.0,80.0,0.0,2.0,2.0,1.0,3.0,32.0,36.0,1.0,1520.0,83.0,61.0,1.0,1.0,19.0,309.0,102.0,137.0,18.0],\"type\":\"bar\"},{\"marker\":{\"color\":\"rgba(55, 128, 191, 0.6)\",\"line\":{\"color\":\"rgba(55, 128, 191, 1.0)\",\"width\":1}},\"name\":\"Plug-in Hybrid Electric Vehicle (PHEV)\",\"orientation\":\"v\",\"text\":\"\",\"x\":[\"Aberdeen\",\"Acme\",\"Addy\",\"Aiea\",\"Airway Heights\",\"Alderdale\",\"Aldie\",\"Alexandria\",\"Algona\",\"Alhambra\",\"Allyn\",\"Altus\",\"Amanda Park\",\"Amboy\",\"Anacortes\",\"Anderson Island\",\"Andrews Air Force Base\",\"Annapolis\",\"Anthem\",\"Apple Valley\",\"Ariel\",\"Arlington\",\"Arlington Heights\",\"Arnold\",\"Artondale\",\"Asheboro\",\"Ashford\",\"Asotin\",\"Auburn\",\"Augusta\",\"Aurora\",\"Avalon\",\"Bainbridge Island\",\"Baring\",\"Battle Ground\",\"Bay Center\",\"Beaufort\",\"Beaux Arts\",\"Beaver\",\"Bedford\",\"Belfair\",\"Bell Hill\",\"Belle Chasse\",\"Belleville\",\"Bellevue\",\"Bellingham\",\"Benicia\",\"Benton City\",\"Berkeley\",\"Biloxi\",\"Bingen\",\"Black Diamond\",\"Blaine\",\"Bonney Lake\",\"Bothell\",\"Bow\",\"Bremerton\",\"Brewster\",\"Bridgeport\",\"Bridgeport Bar\",\"Brier\",\"Brinnon\",\"Brush Prairie\",\"Buckley\",\"Bucoda\",\"Buena Park\",\"Burbank\",\"Burien\",\"Burke\",\"Burlington\",\"Bz Corner\",\"Camano Island\",\"Camas\",\"Canoga Park\",\"Carbonado\",\"Carlton\",\"Carmel By The Sea\",\"Carnation\",\"Carrolls\",\"Carson\",\"Cashmere\",\"Castle Rock\",\"Cathedral City\",\"Cathlamet\",\"Centralia\",\"Chandler\",\"Charleston Afb\",\"Chattaroy\",\"Chehalis\",\"Chelan\",\"Chelmsford\",\"Cheney\",\"Chesapeake\",\"Chesapeake Beach\",\"Chevy Chase\",\"Chewelah\",\"Cheyenne\",\"Chimacum\",\"Chinook\",\"Chula Vista\",\"Cincinnati\",\"Cinebar\",\"Clallam Bay\",\"Clarkston\",\"Clarksville\",\"Clayton\",\"Cle Elum\",\"Clearlake\",\"Clinton\",\"Clyde Hill\",\"Colbert\",\"Colfax\",\"College Place\",\"Colorado Springs\",\"Colton\",\"Colville\",\"Concrete\",\"Connell\",\"Conyers\",\"Copalis Beach\",\"Copalis Crossing\",\"Coronado\",\"Corvallis\",\"Cosmopolis\",\"Cougar\",\"Coulee City\",\"Coulee Dam\",\"Coupeville\",\"Covington\",\"Cowiche\",\"Cupertino\",\"Curlew\",\"Curtis\",\"Cusick\",\"Custer\",\"Dallas\",\"Dallesport\",\"Danville\",\"Darrington\",\"Davenport\",\"Dayton\",\"Decatur\",\"Deer Harbor\",\"Deer Meadows\",\"Deer Park\",\"Deming\",\"Des Moines\",\"Dickinson\",\"Dover\",\"Dryden\",\"Dupont\",\"Duvall\",\"East Wenatchee\",\"Easton\",\"Eastsound\",\"Eatonville\",\"Edgewater\",\"Edgewood\",\"Edmonds\",\"Edwall\",\"El Paso\",\"Electric City\",\"Elk\",\"Ellensburg\",\"Elma\",\"Eltopia\",\"Endicott\",\"Englewood\",\"Entiat\",\"Enumclaw\",\"Ephrata\",\"Ethel\",\"Eugene\",\"Evans\",\"Everett\",\"Everson\",\"Ewa Beach\",\"Fairbanks\",\"Fairchild Air Force Base\",\"Fairfield\",\"Fall City\",\"Fayetteville\",\"Federal Way\",\"Felts Mills\",\"Ferndale\",\"Fife\",\"Fircrest\",\"Ford\",\"Forks\",\"Fort Bragg\",\"Fort Campbell\",\"Fort George G Meade\",\"Fort Irwin\",\"Fort Lauderdale\",\"Fort Leavenworth\",\"Fort Walton Beach\",\"Fort Wayne\",\"Fox Island\",\"Frances\",\"Frederick\",\"Fredericksburg\",\"Freeland\",\"Fremont\",\"Friday Harbor\",\"Fruitland\",\"Gaithersburg\",\"Gambrills\",\"Gardena\",\"Garfield\",\"Gatesville\",\"Germantown\",\"Gifford\",\"Gig Harbor\",\"Glacier\",\"Glenoma\",\"Glenwood\",\"Gold Bar\",\"Goldendale\",\"Goldsboro\",\"Goodyear\",\"Goshen\",\"Graham\",\"Grand Coulee\",\"Grandview\",\"Granger\",\"Granite Falls\",\"Grapeview\",\"Grayland\",\"Grays River\",\"Greenacres\",\"Greenbank\",\"Greenfield Center\",\"Haddonfield\",\"Hamilton\",\"Hanscom Afb\",\"Hansville\",\"Harker Heights\",\"Harrington\",\"Hartline\",\"Hatton\",\"Henrico\",\"Herndon\",\"Highland Park\",\"Honolulu\",\"Hoodsport\",\"Hoquiam\",\"Hughesville\",\"Hunters\",\"Hunts Point\",\"Husum\",\"Ilwaco\",\"Inchelium\",\"Incorporated\",\"Index\",\"Indianola\",\"Indio\",\"Irvine\",\"Issaquah\",\"Jericho\",\"Joint Base Lewis Mcchord\",\"Joint Base Mdl\",\"Junction City\",\"Kailua\",\"Kalama\",\"Kapowsin\",\"Keedysville\",\"Kekaha\",\"Kelso\",\"Kenmore\",\"Kenn\",\"Kennewick\",\"Kent\",\"Kettle Falls\",\"Keyport\",\"Killeen\",\"Kingston\",\"Kirkland\",\"Kittitas\",\"Klickitat\",\"La Center\",\"La Conner\",\"Lacey\",\"Lake Forest Park\",\"Lake Stevens\",\"Lake Tapps\",\"Lakebay\",\"Lakewood\",\"Lamont\",\"Lancaster\",\"Langley\",\"Lansing\",\"Las Cruces\",\"Las Vegas\",\"Latah\",\"Laughlin\",\"Leavenworth\",\"Lebam\",\"Leesville\",\"Lemoore\",\"Lexington Park\",\"Liberty Lake\",\"Libertyville\",\"Lilliwaup\",\"Lincoln\",\"Lincoln City\",\"Lind\",\"Lithia\",\"Little Elm\",\"Little Rock\",\"Lompoc\",\"Long Beach\",\"Longbranch\",\"Longmont\",\"Longview\",\"Loon Lake\",\"Lopez Is\",\"Lopez Island\",\"Los Angeles\",\"Lummi Island\",\"Lyle\",\"Lynden\",\"Lynnwood\",\"Mabton\",\"Madison\",\"Malaga\",\"Malott\",\"Mansfield\",\"Manson\",\"Maple Falls\",\"Maple Valley\",\"Marblemount\",\"Marlin\",\"Maryhill\",\"Marysville\",\"Mascoutah\",\"Mattawa\",\"Mazama\",\"McCleary\",\"Mcchord Afb\",\"Mccleary\",\"Mccutcheon Field\",\"Mead\",\"Mechanicsburg\",\"Medford\",\"Medical Lake\",\"Medina\",\"Menifee\",\"Menlo\",\"Mercer Island\",\"Mesa\",\"Methow\",\"Mica\",\"Middletown\",\"Mill Creek\",\"Milton\",\"Mineral\",\"Minneapolis\",\"Moclips\",\"Monroe\",\"Montesano\",\"Moraga\",\"Morton\",\"Moses Lake\",\"Mossyrock\",\"Mount Pleasant\",\"Mount Vernon\",\"Mountain Home Afb\",\"Mountain View\",\"Mountlake Terrace\",\"Moxee\",\"Mukilteo\",\"Murdock\",\"Mystic\",\"Naches\",\"Nahcotta\",\"Napa\",\"Napavine\",\"Naselle\",\"Neah Bay\",\"Nespelem\",\"Newark\",\"Newcastle\",\"Newman Lake\",\"Newport\",\"Newport Beach\",\"Newport News\",\"Nine Mile Falls\",\"Nooksack\",\"Nordland\",\"Norfolk\",\"Normandy Park\",\"Norristown\",\"North Bend\",\"North Bonneville\",\"North Cove\",\"North Las Vegas\",\"Oak Harbor\",\"Oakville\",\"Ocean Park\",\"Ocean Shores\",\"Oceanside\",\"Odenton\",\"Odessa\",\"Okanogan\",\"Okatie\",\"Olalla\",\"Old Lyme\",\"Olga\",\"Olympia\",\"Omaha\",\"Omak\",\"Onalaska\",\"Orcas Is\",\"Orchards\",\"Orondo\",\"Oroville\",\"Orting\",\"Othello\",\"Otis Orchards\",\"Outlook\",\"Oysterville\",\"Pacific\",\"Pacific Beach\",\"Packwood\",\"Palo Alto\",\"Palouse\",\"Parker\",\"Parkland\",\"Pasco\",\"Pateros\",\"Pawcatuck\",\"Pe Ell\",\"Peshastin\",\"Petoskey\",\"Phoenix\",\"Pittsburg\",\"Platte City\",\"Plymouth\",\"Point Roberts\",\"Pomeroy\",\"Port Angeles\",\"Port Gamble\",\"Port Hadlock\",\"Port Ludlow\",\"Port Orchard\",\"Port Townsend\",\"Portland\",\"Portsmouth\",\"Potomac\",\"Poulsbo\",\"Prescott\",\"Preston\",\"Pros\",\"Prosper\",\"Prosser\",\"Pullman\",\"Puyallup\",\"Quilcene\",\"Quinault\",\"Quincy\",\"Raeford\",\"Rainier\",\"Randle\",\"Ravensdale\",\"Raymond\",\"Rayville\",\"Reardan\",\"Redmond\",\"Renton\",\"Republic\",\"Rice\",\"Richland\",\"Ridgecrest\",\"Ridgefield\",\"Ritzville\",\"Riverside\",\"Rochester\",\"Rock Island\",\"Rockford\",\"Rockport\",\"Ronald\",\"Roosevelt\",\"Rosalia\",\"Rosamond\",\"Rosburg\",\"Roslyn\",\"Roy\",\"Royal City\",\"Ruston\",\"Ryderwood\",\"Sacramento\",\"Saint Jacob\",\"Salem\",\"Salkum\",\"Salt Lake City\",\"Sammamish\",\"San Antonio\",\"San Clemente\",\"San Diego\",\"San Jose\",\"San Mateo\",\"San Rafael\",\"Santa Ana\",\"Santa Clara\",\"Santa Cruz\",\"Santa Rosa\",\"Sarasota\",\"Saratoga Springs\",\"Satsop\",\"Scottsdale\",\"Seabeck\",\"Seaside\",\"Seatac\",\"Seattle\",\"Seaview\",\"Sedro Woolley\",\"Sedro-Woolley\",\"Sekiu\",\"Selah\",\"Sequim\",\"Seven Bays\",\"Shaw Island\",\"Shelton\",\"Sheridan\",\"Shoreline\",\"Silver Creek\",\"Silver Lake\",\"Silver Spring\",\"Silverdale\",\"Silverlake\",\"Skamokawa\",\"Skokie\",\"Skykomish\",\"Slidell\",\"Smith Creek\",\"Smiths Station\",\"Snohomish\",\"Snoqualmie\",\"Snoqualmie Pass\",\"Snowden\",\"Soap Lake\",\"Sonoma\",\"South Bend\",\"South Cle Elum\",\"South Hill\",\"South Prairie\",\"South Range\",\"Southern Pines\",\"Southlake\",\"Spanaway\",\"Spangle\",\"Spokane\",\"Spokane Valley\",\"Sprague\",\"Spring Lake\",\"Springdale\",\"Springfield\",\"St John\",\"Stafford\",\"Stanwood\",\"Staten Island\",\"Steilacoom\",\"Stevenson\",\"Stratford\",\"Suffolk\",\"Sultan\",\"Sumas\",\"Summerville\",\"Sumner\",\"Sumter\",\"Sunnyside\",\"Suquamish\",\"Surfside\",\"Suwanee\",\"Tacoma\",\"Taholah\",\"Tahuya\",\"Tekoa\",\"Temecula\",\"Tempe\",\"Tenino\",\"Thorp\",\"Tieton\",\"Timnath\",\"Tokeland\",\"Toledo\",\"Tonasket\",\"Toppenish\",\"Touchet\",\"Toutle\",\"Travis Afb\",\"Trinidad\",\"Trout Lake\",\"Tukwila\",\"Tulalip\",\"Tumtum\",\"Tumwater\",\"Twentynine Palms\",\"Twisp\",\"Underwood\",\"Union\",\"Union Gap\",\"Uniontown\",\"University Place\",\"Upper Marlboro\",\"Usk\",\"Vacaville\",\"Vader\",\"Valley\",\"Valleyford\",\"Vancouver\",\"Vantage\",\"Vashon\",\"Vaughn\",\"Ventura\",\"Veradale\",\"Vienna\",\"Virginia Beach\",\"Wahkiacus\",\"Waitsburg\",\"Waldorf\",\"Waldron\",\"Walla Walla\",\"Walla Walla Co\",\"Wapato\",\"Warden\",\"Warner Robins\",\"Washington\",\"Washougal\",\"Waterford\",\"Watertown\",\"Waterville\",\"Wenatchee\",\"Weslaco\",\"West Richland\",\"Westminster\",\"Westport\",\"White Salmon\",\"White Swan\",\"Wichita Falls\",\"Wilbur\",\"Wildomar\",\"Wilkeson\",\"Winlock\",\"Winthrop\",\"Wishram\",\"Woodinville\",\"Woodland\",\"Woodway\",\"Worley\",\"Wylie\",\"Yacolt\",\"Yakima\",\"Yarrow Point\",\"Yelm\",\"Zillah\"],\"y\":[42.0,4.0,1.0,1.0,8.0,0.0,0.0,4.0,6.0,0.0,18.0,1.0,1.0,6.0,151.0,8.0,0.0,0.0,0.0,1.0,6.0,101.0,0.0,0.0,0.0,0.0,2.0,2.0,352.0,1.0,0.0,1.0,371.0,1.0,117.0,1.0,1.0,10.0,1.0,1.0,35.0,0.0,1.0,0.0,1019.0,570.0,0.0,25.0,0.0,0.0,0.0,35.0,89.0,155.0,628.0,22.0,260.0,1.0,0.0,0.0,36.0,3.0,66.0,54.0,0.0,1.0,3.0,138.0,1.0,36.0,2.0,89.0,266.0,0.0,0.0,2.0,1.0,58.0,1.0,5.0,12.0,12.0,0.0,13.0,77.0,0.0,0.0,4.0,60.0,24.0,0.0,40.0,3.0,1.0,0.0,7.0,0.0,5.0,1.0,0.0,0.0,2.0,0.0,19.0,0.0,2.0,22.0,1.0,43.0,30.0,23.0,6.0,16.0,1.0,1.0,16.0,5.0,1.0,0.0,0.0,0.0,1.0,0.0,3.0,1.0,1.0,1.0,48.0,79.0,0.0,0.0,1.0,2.0,1.0,4.0,0.0,3.0,0.0,1.0,4.0,2.0,0.0,0.0,1.0,21.0,4.0,103.0,1.0,0.0,0.0,39.0,84.0,53.0,3.0,57.0,35.0,0.0,53.0,331.0,2.0,0.0,2.0,5.0,56.0,17.0,2.0,1.0,1.0,6.0,81.0,16.0,2.0,1.0,4.0,431.0,14.0,1.0,1.0,1.0,1.0,39.0,1.0,271.0,1.0,78.0,18.0,22.0,1.0,4.0,1.0,0.0,0.0,0.0,0.0,0.0,1.0,0.0,56.0,2.0,0.0,0.0,42.0,0.0,74.0,1.0,0.0,2.0,1.0,2.0,0.0,1.0,0.0,347.0,2.0,1.0,1.0,13.0,9.0,0.0,1.0,1.0,68.0,3.0,8.0,3.0,31.0,16.0,4.0,0.0,28.0,13.0,0.0,1.0,0.0,0.0,15.0,1.0,0.0,0.0,0.0,1.0,0.0,0.0,0.0,11.0,21.0,1.0,1.0,3.0,3.0,6.0,0.0,1.0,0.0,10.0,0.0,1.0,309.0,0.0,17.0,1.0,0.0,0.0,24.0,1.0,0.0,1.0,28.0,155.0,0.0,223.0,403.0,5.0,1.0,0.0,60.0,683.0,0.0,1.0,41.0,18.0,181.0,111.0,198.0,55.0,19.0,152.0,1.0,1.0,56.0,1.0,0.0,2.0,0.0,1.0,34.0,0.0,0.0,1.0,0.0,43.0,0.0,1.0,1.0,1.0,1.0,1.0,0.0,0.0,0.0,14.0,5.0,0.0,84.0,3.0,1.0,24.0,1.0,11.0,4.0,42.0,274.0,1.0,2.0,2.0,0.0,0.0,10.0,13.0,203.0,2.0,0.0,1.0,184.0,0.0,5.0,1.0,1.0,2.0,8.0,1.0,15.0,0.0,1.0,14.0,32.0,0.0,4.0,368.0,3.0,0.0,1.0,0.0,94.0,15.0,1.0,0.0,1.0,121.0,25.0,1.0,1.0,63.0,8.0,0.0,117.0,0.0,1.0,68.0,6.0,104.0,2.0,0.0,9.0,1.0,1.0,1.0,9.0,3.0,0.0,0.0,109.0,7.0,10.0,0.0,0.0,28.0,1.0,7.0,2.0,53.0,0.0,98.0,1.0,2.0,0.0,132.0,7.0,16.0,42.0,2.0,2.0,0.0,0.0,0.0,13.0,1.0,6.0,906.0,1.0,7.0,6.0,3.0,1.0,6.0,5.0,38.0,9.0,9.0,1.0,2.0,10.0,3.0,4.0,0.0,3.0,1.0,25.0,122.0,2.0,2.0,0.0,4.0,1.0,0.0,1.0,0.0,1.0,12.0,3.0,126.0,1.0,8.0,35.0,231.0,177.0,2.0,1.0,1.0,160.0,1.0,4.0,0.0,0.0,13.0,57.0,225.0,10.0,0.0,12.0,0.0,13.0,3.0,23.0,15.0,1.0,3.0,708.0,750.0,2.0,1.0,226.0,1.0,184.0,4.0,1.0,32.0,2.0,1.0,1.0,6.0,1.0,1.0,0.0,0.0,2.0,27.0,3.0,12.0,1.0,0.0,0.0,1.0,0.0,2.0,534.0,2.0,0.0,6.0,0.0,0.0,1.0,0.0,0.0,0.0,1.0,0.0,1.0,0.0,0.0,17.0,0.0,118.0,5043.0,3.0,9.0,36.0,0.0,17.0,149.0,1.0,3.0,99.0,0.0,293.0,4.0,0.0,1.0,60.0,6.0,1.0,0.0,0.0,0.0,1.0,0.0,315.0,133.0,5.0,7.0,7.0,0.0,1.0,2.0,112.0,1.0,0.0,1.0,0.0,85.0,4.0,591.0,175.0,1.0,0.0,0.0,1.0,0.0,1.0,75.0,0.0,42.0,16.0,0.0,0.0,21.0,3.0,0.0,27.0,0.0,18.0,12.0,10.0,0.0,761.0,1.0,4.0,2.0,1.0,1.0,22.0,0.0,0.0,0.0,3.0,6.0,7.0,2.0,1.0,3.0,0.0,0.0,4.0,752.0,1.0,0.0,153.0,0.0,13.0,8.0,14.0,3.0,0.0,143.0,1.0,1.0,0.0,4.0,3.0,6.0,1365.0,0.0,142.0,6.0,0.0,10.0,1.0,0.0,2.0,3.0,0.0,0.0,89.0,1.0,2.0,1.0,0.0,0.0,138.0,1.0,0.0,0.0,56.0,1.0,51.0,1.0,7.0,17.0,2.0,0.0,2.0,0.0,2.0,15.0,17.0,1.0,309.0,41.0,15.0,0.0,0.0,13.0,162.0,24.0,60.0,5.0],\"type\":\"bar\"}],                        {\"barmode\":\"stack\",\"legend\":{\"bgcolor\":\"#F5F6F9\",\"font\":{\"color\":\"#4D5663\"},\"traceorder\":\"normal\"},\"paper_bgcolor\":\"#F5F6F9\",\"plot_bgcolor\":\"#F5F6F9\",\"template\":{\"data\":{\"barpolar\":[{\"marker\":{\"line\":{\"color\":\"#E5ECF6\",\"width\":0.5},\"pattern\":{\"fillmode\":\"overlay\",\"size\":10,\"solidity\":0.2}},\"type\":\"barpolar\"}],\"bar\":[{\"error_x\":{\"color\":\"#2a3f5f\"},\"error_y\":{\"color\":\"#2a3f5f\"},\"marker\":{\"line\":{\"color\":\"#E5ECF6\",\"width\":0.5},\"pattern\":{\"fillmode\":\"overlay\",\"size\":10,\"solidity\":0.2}},\"type\":\"bar\"}],\"carpet\":[{\"aaxis\":{\"endlinecolor\":\"#2a3f5f\",\"gridcolor\":\"white\",\"linecolor\":\"white\",\"minorgridcolor\":\"white\",\"startlinecolor\":\"#2a3f5f\"},\"baxis\":{\"endlinecolor\":\"#2a3f5f\",\"gridcolor\":\"white\",\"linecolor\":\"white\",\"minorgridcolor\":\"white\",\"startlinecolor\":\"#2a3f5f\"},\"type\":\"carpet\"}],\"choropleth\":[{\"colorbar\":{\"outlinewidth\":0,\"ticks\":\"\"},\"type\":\"choropleth\"}],\"contourcarpet\":[{\"colorbar\":{\"outlinewidth\":0,\"ticks\":\"\"},\"type\":\"contourcarpet\"}],\"contour\":[{\"colorbar\":{\"outlinewidth\":0,\"ticks\":\"\"},\"colorscale\":[[0.0,\"#0d0887\"],[0.1111111111111111,\"#46039f\"],[0.2222222222222222,\"#7201a8\"],[0.3333333333333333,\"#9c179e\"],[0.4444444444444444,\"#bd3786\"],[0.5555555555555556,\"#d8576b\"],[0.6666666666666666,\"#ed7953\"],[0.7777777777777778,\"#fb9f3a\"],[0.8888888888888888,\"#fdca26\"],[1.0,\"#f0f921\"]],\"type\":\"contour\"}],\"heatmapgl\":[{\"colorbar\":{\"outlinewidth\":0,\"ticks\":\"\"},\"colorscale\":[[0.0,\"#0d0887\"],[0.1111111111111111,\"#46039f\"],[0.2222222222222222,\"#7201a8\"],[0.3333333333333333,\"#9c179e\"],[0.4444444444444444,\"#bd3786\"],[0.5555555555555556,\"#d8576b\"],[0.6666666666666666,\"#ed7953\"],[0.7777777777777778,\"#fb9f3a\"],[0.8888888888888888,\"#fdca26\"],[1.0,\"#f0f921\"]],\"type\":\"heatmapgl\"}],\"heatmap\":[{\"colorbar\":{\"outlinewidth\":0,\"ticks\":\"\"},\"colorscale\":[[0.0,\"#0d0887\"],[0.1111111111111111,\"#46039f\"],[0.2222222222222222,\"#7201a8\"],[0.3333333333333333,\"#9c179e\"],[0.4444444444444444,\"#bd3786\"],[0.5555555555555556,\"#d8576b\"],[0.6666666666666666,\"#ed7953\"],[0.7777777777777778,\"#fb9f3a\"],[0.8888888888888888,\"#fdca26\"],[1.0,\"#f0f921\"]],\"type\":\"heatmap\"}],\"histogram2dcontour\":[{\"colorbar\":{\"outlinewidth\":0,\"ticks\":\"\"},\"colorscale\":[[0.0,\"#0d0887\"],[0.1111111111111111,\"#46039f\"],[0.2222222222222222,\"#7201a8\"],[0.3333333333333333,\"#9c179e\"],[0.4444444444444444,\"#bd3786\"],[0.5555555555555556,\"#d8576b\"],[0.6666666666666666,\"#ed7953\"],[0.7777777777777778,\"#fb9f3a\"],[0.8888888888888888,\"#fdca26\"],[1.0,\"#f0f921\"]],\"type\":\"histogram2dcontour\"}],\"histogram2d\":[{\"colorbar\":{\"outlinewidth\":0,\"ticks\":\"\"},\"colorscale\":[[0.0,\"#0d0887\"],[0.1111111111111111,\"#46039f\"],[0.2222222222222222,\"#7201a8\"],[0.3333333333333333,\"#9c179e\"],[0.4444444444444444,\"#bd3786\"],[0.5555555555555556,\"#d8576b\"],[0.6666666666666666,\"#ed7953\"],[0.7777777777777778,\"#fb9f3a\"],[0.8888888888888888,\"#fdca26\"],[1.0,\"#f0f921\"]],\"type\":\"histogram2d\"}],\"histogram\":[{\"marker\":{\"pattern\":{\"fillmode\":\"overlay\",\"size\":10,\"solidity\":0.2}},\"type\":\"histogram\"}],\"mesh3d\":[{\"colorbar\":{\"outlinewidth\":0,\"ticks\":\"\"},\"type\":\"mesh3d\"}],\"parcoords\":[{\"line\":{\"colorbar\":{\"outlinewidth\":0,\"ticks\":\"\"}},\"type\":\"parcoords\"}],\"pie\":[{\"automargin\":true,\"type\":\"pie\"}],\"scatter3d\":[{\"line\":{\"colorbar\":{\"outlinewidth\":0,\"ticks\":\"\"}},\"marker\":{\"colorbar\":{\"outlinewidth\":0,\"ticks\":\"\"}},\"type\":\"scatter3d\"}],\"scattercarpet\":[{\"marker\":{\"colorbar\":{\"outlinewidth\":0,\"ticks\":\"\"}},\"type\":\"scattercarpet\"}],\"scattergeo\":[{\"marker\":{\"colorbar\":{\"outlinewidth\":0,\"ticks\":\"\"}},\"type\":\"scattergeo\"}],\"scattergl\":[{\"marker\":{\"colorbar\":{\"outlinewidth\":0,\"ticks\":\"\"}},\"type\":\"scattergl\"}],\"scattermapbox\":[{\"marker\":{\"colorbar\":{\"outlinewidth\":0,\"ticks\":\"\"}},\"type\":\"scattermapbox\"}],\"scatterpolargl\":[{\"marker\":{\"colorbar\":{\"outlinewidth\":0,\"ticks\":\"\"}},\"type\":\"scatterpolargl\"}],\"scatterpolar\":[{\"marker\":{\"colorbar\":{\"outlinewidth\":0,\"ticks\":\"\"}},\"type\":\"scatterpolar\"}],\"scatter\":[{\"fillpattern\":{\"fillmode\":\"overlay\",\"size\":10,\"solidity\":0.2},\"type\":\"scatter\"}],\"scatterternary\":[{\"marker\":{\"colorbar\":{\"outlinewidth\":0,\"ticks\":\"\"}},\"type\":\"scatterternary\"}],\"surface\":[{\"colorbar\":{\"outlinewidth\":0,\"ticks\":\"\"},\"colorscale\":[[0.0,\"#0d0887\"],[0.1111111111111111,\"#46039f\"],[0.2222222222222222,\"#7201a8\"],[0.3333333333333333,\"#9c179e\"],[0.4444444444444444,\"#bd3786\"],[0.5555555555555556,\"#d8576b\"],[0.6666666666666666,\"#ed7953\"],[0.7777777777777778,\"#fb9f3a\"],[0.8888888888888888,\"#fdca26\"],[1.0,\"#f0f921\"]],\"type\":\"surface\"}],\"table\":[{\"cells\":{\"fill\":{\"color\":\"#EBF0F8\"},\"line\":{\"color\":\"white\"}},\"header\":{\"fill\":{\"color\":\"#C8D4E3\"},\"line\":{\"color\":\"white\"}},\"type\":\"table\"}]},\"layout\":{\"annotationdefaults\":{\"arrowcolor\":\"#2a3f5f\",\"arrowhead\":0,\"arrowwidth\":1},\"autotypenumbers\":\"strict\",\"coloraxis\":{\"colorbar\":{\"outlinewidth\":0,\"ticks\":\"\"}},\"colorscale\":{\"diverging\":[[0,\"#8e0152\"],[0.1,\"#c51b7d\"],[0.2,\"#de77ae\"],[0.3,\"#f1b6da\"],[0.4,\"#fde0ef\"],[0.5,\"#f7f7f7\"],[0.6,\"#e6f5d0\"],[0.7,\"#b8e186\"],[0.8,\"#7fbc41\"],[0.9,\"#4d9221\"],[1,\"#276419\"]],\"sequential\":[[0.0,\"#0d0887\"],[0.1111111111111111,\"#46039f\"],[0.2222222222222222,\"#7201a8\"],[0.3333333333333333,\"#9c179e\"],[0.4444444444444444,\"#bd3786\"],[0.5555555555555556,\"#d8576b\"],[0.6666666666666666,\"#ed7953\"],[0.7777777777777778,\"#fb9f3a\"],[0.8888888888888888,\"#fdca26\"],[1.0,\"#f0f921\"]],\"sequentialminus\":[[0.0,\"#0d0887\"],[0.1111111111111111,\"#46039f\"],[0.2222222222222222,\"#7201a8\"],[0.3333333333333333,\"#9c179e\"],[0.4444444444444444,\"#bd3786\"],[0.5555555555555556,\"#d8576b\"],[0.6666666666666666,\"#ed7953\"],[0.7777777777777778,\"#fb9f3a\"],[0.8888888888888888,\"#fdca26\"],[1.0,\"#f0f921\"]]},\"colorway\":[\"#636efa\",\"#EF553B\",\"#00cc96\",\"#ab63fa\",\"#FFA15A\",\"#19d3f3\",\"#FF6692\",\"#B6E880\",\"#FF97FF\",\"#FECB52\"],\"font\":{\"color\":\"#2a3f5f\"},\"geo\":{\"bgcolor\":\"white\",\"lakecolor\":\"white\",\"landcolor\":\"#E5ECF6\",\"showlakes\":true,\"showland\":true,\"subunitcolor\":\"white\"},\"hoverlabel\":{\"align\":\"left\"},\"hovermode\":\"closest\",\"mapbox\":{\"style\":\"light\"},\"paper_bgcolor\":\"white\",\"plot_bgcolor\":\"#E5ECF6\",\"polar\":{\"angularaxis\":{\"gridcolor\":\"white\",\"linecolor\":\"white\",\"ticks\":\"\"},\"bgcolor\":\"#E5ECF6\",\"radialaxis\":{\"gridcolor\":\"white\",\"linecolor\":\"white\",\"ticks\":\"\"}},\"scene\":{\"xaxis\":{\"backgroundcolor\":\"#E5ECF6\",\"gridcolor\":\"white\",\"gridwidth\":2,\"linecolor\":\"white\",\"showbackground\":true,\"ticks\":\"\",\"zerolinecolor\":\"white\"},\"yaxis\":{\"backgroundcolor\":\"#E5ECF6\",\"gridcolor\":\"white\",\"gridwidth\":2,\"linecolor\":\"white\",\"showbackground\":true,\"ticks\":\"\",\"zerolinecolor\":\"white\"},\"zaxis\":{\"backgroundcolor\":\"#E5ECF6\",\"gridcolor\":\"white\",\"gridwidth\":2,\"linecolor\":\"white\",\"showbackground\":true,\"ticks\":\"\",\"zerolinecolor\":\"white\"}},\"shapedefaults\":{\"line\":{\"color\":\"#2a3f5f\"}},\"ternary\":{\"aaxis\":{\"gridcolor\":\"white\",\"linecolor\":\"white\",\"ticks\":\"\"},\"baxis\":{\"gridcolor\":\"white\",\"linecolor\":\"white\",\"ticks\":\"\"},\"bgcolor\":\"#E5ECF6\",\"caxis\":{\"gridcolor\":\"white\",\"linecolor\":\"white\",\"ticks\":\"\"}},\"title\":{\"x\":0.05},\"xaxis\":{\"automargin\":true,\"gridcolor\":\"white\",\"linecolor\":\"white\",\"ticks\":\"\",\"title\":{\"standoff\":15},\"zerolinecolor\":\"white\",\"zerolinewidth\":2},\"yaxis\":{\"automargin\":true,\"gridcolor\":\"white\",\"linecolor\":\"white\",\"ticks\":\"\",\"title\":{\"standoff\":15},\"zerolinecolor\":\"white\",\"zerolinewidth\":2}}},\"title\":{\"font\":{\"color\":\"#4D5663\"},\"text\":\"Stacked Bar Chart: City vs Electric Vehicle Type (Absolute Numbers)\"},\"xaxis\":{\"gridcolor\":\"#E1E5ED\",\"showgrid\":true,\"tickfont\":{\"color\":\"#4D5663\"},\"title\":{\"font\":{\"color\":\"#4D5663\"},\"text\":\"\"},\"zerolinecolor\":\"#E1E5ED\"},\"yaxis\":{\"gridcolor\":\"#E1E5ED\",\"showgrid\":true,\"tickfont\":{\"color\":\"#4D5663\"},\"title\":{\"font\":{\"color\":\"#4D5663\"},\"text\":\"\"},\"zerolinecolor\":\"#E1E5ED\"}},                        {\"showLink\": true, \"linkText\": \"Export to plot.ly\", \"plotlyServerURL\": \"https://plot.ly\", \"responsive\": true}                    ).then(function(){\n",
       "                            \n",
       "var gd = document.getElementById('e1a78b11-3cd5-4a61-9c47-6ccd641a6eaf');\n",
       "var x = new MutationObserver(function (mutations, observer) {{\n",
       "        var display = window.getComputedStyle(gd).display;\n",
       "        if (!display || display === 'none') {{\n",
       "            console.log([gd, 'removed!']);\n",
       "            Plotly.purge(gd);\n",
       "            observer.disconnect();\n",
       "        }}\n",
       "}});\n",
       "\n",
       "// Listen for the removal of the full notebook cells\n",
       "var notebookContainer = gd.closest('#notebook-container');\n",
       "if (notebookContainer) {{\n",
       "    x.observe(notebookContainer, {childList: true});\n",
       "}}\n",
       "\n",
       "// Listen for the clearing of the current output cell\n",
       "var outputEl = gd.closest('.output');\n",
       "if (outputEl) {{\n",
       "    x.observe(outputEl, {childList: true});\n",
       "}}\n",
       "\n",
       "                        })                };                });            </script>        </div>"
      ]
     },
     "metadata": {},
     "output_type": "display_data"
    }
   ],
   "source": [
    "stacked_bar = df.groupby(['City', 'Electric Vehicle Type']).size().unstack().fillna(0)\n",
    "stacked_bar.iplot(kind='bar', barmode='stack', title='Stacked Bar Chart: City vs Electric Vehicle Type (Absolute Numbers)')"
   ]
  },
  {
   "cell_type": "markdown",
   "metadata": {},
   "source": [
    "**Note:**\n",
    "    The above chart shows (in absolute numbers) the **type of EVs in each city**. We can compare the absolute number of BEVs and PHEVs in all cities and see the proportional preference to both these types *within the city*. However we cannot compare the proportional preference of BEV vs PHEVs among two or more *different cities* due to it being in interval scale. To achieve this we compare the normalized value_counts of each city in the next chart."
   ]
  },
  {
   "cell_type": "markdown",
   "metadata": {},
   "source": [
    "### Citywise proportional preference of BEVs vs PHEVs"
   ]
  },
  {
   "cell_type": "code",
   "execution_count": 61,
   "metadata": {},
   "outputs": [
    {
     "data": {
      "application/vnd.plotly.v1+json": {
       "config": {
        "linkText": "Export to plot.ly",
        "plotlyServerURL": "https://plot.ly",
        "showLink": true
       },
       "data": [
        {
         "marker": {
          "color": "rgba(255, 153, 51, 0.6)",
          "line": {
           "color": "rgba(255, 153, 51, 1.0)",
           "width": 1
          }
         },
         "name": "Battery Electric Vehicle (BEV)",
         "orientation": "v",
         "text": "",
         "type": "bar",
         "x": [
          "Fort Walton Beach",
          "Marblemount",
          "Pittsburg",
          "Cusick",
          "Maryhill",
          "Petoskey",
          "McCleary",
          "Mcchord Afb",
          "Mccutcheon Field",
          "Plymouth",
          "Pawcatuck",
          "Medford",
          "Hughesville",
          "Wahkiacus",
          "Springfield",
          "Parker",
          "Walla Walla Co",
          "Ryderwood",
          "Henrico",
          "Vienna",
          "Rockport",
          "Joint Base Mdl",
          "Coronado",
          "Laughlin",
          "Lancaster",
          "Clayton",
          "Potomac",
          "Lamont",
          "Lincoln City",
          "Randle",
          "Klickitat",
          "Rayville",
          "Kekaha",
          "Tempe",
          "Temecula",
          "Lithia",
          "Portland",
          "Carrolls",
          "Carmel By The Sea",
          "Ridgecrest",
          "Port Gamble",
          "Madison",
          "Moraga",
          "Waterford",
          "Sprague",
          "Salem",
          "Saratoga Springs",
          "Weslaco",
          "Apple Valley",
          "Goshen",
          "Goodyear",
          "Old Lyme",
          "Eugene",
          "Ewa Beach",
          "Santa Rosa",
          "Altus",
          "Fairfield",
          "Germantown",
          "Felts Mills",
          "Smith Creek",
          "Garfield",
          "Gardena",
          "Aiea",
          "Fort Bragg",
          "Fairbanks",
          "White Swan",
          "Lansing",
          "South Cle Elum",
          "Dickinson",
          "Mountain View",
          "Bedford",
          "Beaver",
          "Salt Lake City",
          "Beaufort",
          "Southern Pines",
          "Haddonfield",
          "Harker Heights",
          "San Rafael",
          "Orchards",
          "Avalon",
          "Westminster",
          "Napavine",
          "Napa",
          "Augusta",
          "Vader",
          "Menlo",
          "Chesapeake",
          "Pomeroy",
          "Grand Coulee",
          "Raymond",
          "Davenport",
          "Cinebar",
          "Evans",
          "Gambrills",
          "Edwall",
          "Tekoa",
          "Electric City",
          "Frances",
          "Odenton",
          "Murdock",
          "Oceanside",
          "Naselle",
          "Tukwila",
          "Toutle",
          "Dallesport",
          "Union Gap",
          "Acme",
          "Grayland",
          "Ocean Park",
          "Surfside",
          "Benton City",
          "Chinook",
          "Neah Bay",
          "Wilbur",
          "South Prairie",
          "Silver Creek",
          "Deer Meadows",
          "Warden",
          "Oysterville",
          "Bay Center",
          "Eltopia",
          "Wishram",
          "Englewood",
          "Omak",
          "Omaha",
          "Glenwood",
          "Soap Lake",
          "Amanda Park",
          "Snowden",
          "Glenoma",
          "Fayetteville",
          "North Cove",
          "Addy",
          "Fruitland",
          "Seven Bays",
          "Silver Spring",
          "Endicott",
          "Mesa",
          "Belle Chasse",
          "Kapowsin",
          "Upper Marlboro",
          "Burke",
          "Cougar",
          "Lind",
          "Coulee Dam",
          "Colton",
          "Incorporated",
          "Reardan",
          "Maple Falls",
          "Portsmouth",
          "Stafford",
          "Tokeland",
          "Prescott",
          "Hunters",
          "Tonasket",
          "Chesapeake Beach",
          "Curtis",
          "Roosevelt",
          "Centralia",
          "Oakville",
          "Chewelah",
          "San Diego",
          "Valleyford",
          "Ariel",
          "Ilwaco",
          "Long Beach",
          "Naches",
          "Hoquiam",
          "Spangle",
          "Airway Heights",
          "Alexandria",
          "Sunnyside",
          "Granger",
          "Seaview",
          "Ocean Shores",
          "Grandview",
          "Mossyrock",
          "Oroville",
          "Clarkston",
          "Union",
          "Yacolt",
          "Montesano",
          "Carlton",
          "Pateros",
          "Las Vegas",
          "Norfolk",
          "Wilkeson",
          "Ephrata",
          "San Antonio",
          "Colville",
          "Westport",
          "Cathlamet",
          "Underwood",
          "Eatonville",
          "Port Angeles",
          "Spokane Valley",
          "Oak Harbor",
          "Orcas Is",
          "Mead",
          "Burbank",
          "Valley",
          "Chehalis",
          "Colfax",
          "Deer Park",
          "Fox Island",
          "Aberdeen",
          "Forks",
          "Stevenson",
          "Packwood",
          "Mccleary",
          "Ruston",
          "College Place",
          "Elma",
          "Parkland",
          "Longbranch",
          "Carson",
          "Rochester",
          "Twisp",
          "Yakima",
          "Hoodsport",
          "Port Townsend",
          "Cheney",
          "Port Ludlow",
          "Shelton",
          "Kennewick",
          "Usk",
          "Sumas",
          "Lemoore",
          "Cosmopolis",
          "Rock Island",
          "Irvine",
          "Clearlake",
          "Lincoln",
          "Lopez Is",
          "Los Angeles",
          "Orting",
          "Ford",
          "Onalaska",
          "Ashford",
          "Nahcotta",
          "Baring",
          "Goldendale",
          "Bz Corner",
          "Ethel",
          "Taholah",
          "Moclips",
          "South Bend",
          "Buena Park",
          "Woodland",
          "Walla Walla",
          "Buckley",
          "Grapeview",
          "Pullman",
          "Enumclaw",
          "Ravensdale",
          "Washougal",
          "Longview",
          "Otis Orchards",
          "Winthrop",
          "Winlock",
          "Sequim",
          "Richland",
          "Allyn",
          "Entiat",
          "Tenino",
          "Tumwater",
          "Moses Lake",
          "Greenacres",
          "Port Orchard",
          "Ritzville",
          "Poulsbo",
          "Graham",
          "Spokane",
          "Lummi Island",
          "West Richland",
          "Yelm",
          "Medical Lake",
          "Spanaway",
          "Brush Prairie",
          "Amboy",
          "Waitsburg",
          "Hansville",
          "Burlington",
          "Steilacoom",
          "Nine Mile Falls",
          "La Center",
          "Pasco",
          "Vancouver",
          "Joint Base Lewis Mcchord",
          "Kalama",
          "Lakewood",
          "Colbert",
          "Coupeville",
          "Bremerton",
          "Blaine",
          "Rainier",
          "Ferndale",
          "Olympia",
          "Roy",
          "Dupont",
          "Republic",
          "Langley",
          "Vaughn",
          "Ronald",
          "Lyle",
          "Liberty Lake",
          "Belfair",
          "Des Moines",
          "Sedro-Woolley",
          "Gold Bar",
          "Battle Ground",
          "Ridgefield",
          "Seabeck",
          "Anacortes",
          "Quilcene",
          "East Wenatchee",
          "Prosser",
          "Tacoma",
          "Kingston",
          "Lacey",
          "Kelso",
          "Vashon",
          "Silverlake",
          "Lynden",
          "Point Roberts",
          "South Hill",
          "Ellensburg",
          "Bow",
          "Newport",
          "University Place",
          "Federal Way",
          "Greenbank",
          "Bainbridge Island",
          "Kettle Falls",
          "Milton",
          "Puyallup",
          "La Conner",
          "Clinton",
          "Granite Falls",
          "Newman Lake",
          "Anderson Island",
          "Freeland",
          "Othello",
          "Bellingham",
          "Auburn",
          "Wapato",
          "Outlook",
          "Snoqualmie Pass",
          "Beaux Arts",
          "Algona",
          "Nooksack",
          "Moxee",
          "Elk",
          "Colorado Springs",
          "Mica",
          "Veradale",
          "Selah",
          "Lakebay",
          "Riverside",
          "Touchet",
          "Mattawa",
          "Tulalip",
          "Husum",
          "Palouse",
          "Camano Island",
          "Skamokawa",
          "Mabton",
          "Loon Lake",
          "Everett",
          "Mount Vernon",
          "Stanwood",
          "Arlington",
          "Gig Harbor",
          "Peshastin",
          "Trout Lake",
          "Lopez Island",
          "Eastsound",
          "Edmonds",
          "Normandy Park",
          "Camas",
          "Shaw Island",
          "Silverdale",
          "Marysville",
          "Renton",
          "Cashmere",
          "Edgewood",
          "Burien",
          "Monroe",
          "Glacier",
          "Tahuya",
          "Asotin",
          "Suquamish",
          "Toppenish",
          "Indianola",
          "Seattle",
          "Lake Stevens",
          "Fircrest",
          "Zillah",
          "Bonney Lake",
          "Snoqualmie",
          "Kent",
          "Royal City",
          "Sedro Woolley",
          "Toledo",
          "Brier",
          "Lake Forest Park",
          "Fall City",
          "Lake Tapps",
          "Port Hadlock",
          "Deming",
          "Castle Rock",
          "Carnation",
          "Fife",
          "Snohomish",
          "Chimacum",
          "Pacific",
          "Mountlake Terrace",
          "Shoreline",
          "Sumner",
          "Everson",
          "Friday Harbor",
          "Maple Valley",
          "Sultan",
          "Kenmore",
          "Rice",
          "Rockford",
          "Connell",
          "Covington",
          "Woodway",
          "Mill Creek",
          "Mercer Island",
          "Chelan",
          "Concrete",
          "Yarrow Point",
          "Duvall",
          "Leavenworth",
          "Brinnon",
          "Easton",
          "Wenatchee",
          "North Bend",
          "Manson",
          "Mukilteo",
          "Pacific Beach",
          "Olalla",
          "White Salmon",
          "Chattaroy",
          "Custer",
          "Quincy",
          "Woodinville",
          "Kirkland",
          "Mineral",
          "Olga",
          "Preston",
          "Nordland",
          "Newcastle",
          "Bothell",
          "Lynnwood",
          "Issaquah",
          "Bellevue",
          "Cle Elum",
          "Redmond",
          "Orondo",
          "Roslyn",
          "Lilliwaup",
          "Curlew",
          "Sammamish",
          "Black Diamond",
          "Dayton",
          "Rosalia",
          "North Bonneville",
          "Seatac",
          "Medina",
          "Keyport",
          "Darrington",
          "Coulee City",
          "Clyde Hill",
          "Malaga",
          "Brewster",
          "Fairchild Air Force Base",
          "Morton",
          "Mazama",
          "Hunts Point",
          "Methow",
          "Trinidad",
          "Tumtum",
          "Chevy Chase",
          "Cheyenne",
          "Palo Alto",
          "Twentynine Palms",
          "Middletown",
          "Charleston Afb",
          "Chandler",
          "Uniontown",
          "Cathedral City",
          "Minneapolis",
          "Chelmsford",
          "Travis Afb",
          "Clarksville",
          "Cincinnati",
          "Summerville",
          "Mascoutah",
          "Sumter",
          "Cowiche",
          "Suwanee",
          "Corvallis",
          "Copalis Crossing",
          "Copalis Beach",
          "Conyers",
          "Pe Ell",
          "Mechanicsburg",
          "Thorp",
          "Tieton",
          "Timnath",
          "Menifee",
          "Vacaville",
          "Clallam Bay",
          "Chula Vista",
          "Carbonado",
          "Bucoda",
          "Cupertino",
          "Aurora",
          "Asheboro",
          "Okatie",
          "Artondale",
          "Wichita Falls",
          "Arnold",
          "Wildomar",
          "Arlington Heights",
          "Anthem",
          "Annapolis",
          "Andrews Air Force Base",
          "Okanogan",
          "Alhambra",
          "Odessa",
          "Worley",
          "Wylie",
          "Aldie",
          "Alderdale",
          "Norristown",
          "Bell Hill",
          "Belleville",
          "Newport News",
          "Waterville",
          "Mount Pleasant",
          "Vantage",
          "Mountain Home Afb",
          "Bridgeport Bar",
          "Ventura",
          "Bridgeport",
          "Virginia Beach",
          "Mystic",
          "Nespelem",
          "Canoga Park",
          "Waldorf",
          "Newark",
          "Bingen",
          "Biloxi",
          "Berkeley",
          "Warner Robins",
          "Washington",
          "Benicia",
          "Newport Beach",
          "Watertown",
          "Waldron",
          "Phoenix",
          "Marlin",
          "Stratford",
          "Lebam",
          "Harrington",
          "San Clemente",
          "Hanscom Afb",
          "San Jose",
          "San Mateo",
          "Hamilton",
          "Santa Ana",
          "Hartline",
          "Santa Clara",
          "Greenfield Center",
          "Sarasota",
          "Grays River",
          "Satsop",
          "Scottsdale",
          "Goldsboro",
          "Seaside",
          "Gifford",
          "Santa Cruz",
          "Salkum",
          "Hatton",
          "Saint Jacob",
          "Killeen",
          "Keedysville",
          "Kailua",
          "Junction City",
          "Jericho",
          "Kittitas",
          "Indio",
          "Raeford",
          "Index",
          "Inchelium",
          "Quinault",
          "Rosamond",
          "Rosburg",
          "Las Cruces",
          "Honolulu",
          "Latah",
          "Highland Park",
          "Herndon",
          "Sacramento",
          "Gatesville",
          "Prosper",
          "Gaithersburg",
          "Sekiu",
          "El Paso",
          "Edgewater",
          "Longmont",
          "South Range",
          "Dryden",
          "Southlake",
          "Dover",
          "Malott",
          "Deer Harbor",
          "Decatur",
          "Mansfield",
          "Spring Lake",
          "Springdale",
          "St John",
          "Danville",
          "Dallas",
          "Staten Island",
          "Platte City",
          "Kenn",
          "Sonoma",
          "Suffolk",
          "Lompoc",
          "Little Elm",
          "Pros",
          "Fremont",
          "Fredericksburg",
          "Frederick",
          "Fort Wayne",
          "Sheridan",
          "Leesville",
          "Fort Leavenworth",
          "North Las Vegas",
          "Fort Lauderdale",
          "Fort Irwin",
          "Fort George G Meade",
          "Fort Campbell",
          "Skokie",
          "Skykomish",
          "Slidell",
          "Lexington Park",
          "Smiths Station",
          "Libertyville",
          "Little Rock",
          "Silver Lake"
         ],
         "y": [
          0,
          0,
          0,
          0,
          0,
          0,
          0,
          0,
          0,
          0,
          0,
          0,
          0,
          0,
          0,
          0,
          0,
          0,
          0,
          0,
          0,
          0,
          0,
          0,
          0,
          0,
          0,
          0,
          0,
          0,
          0,
          0,
          0,
          0,
          0,
          0,
          0,
          0,
          0,
          0,
          0,
          0,
          0,
          0,
          0,
          0,
          0,
          0,
          0,
          0,
          0,
          0,
          0,
          0,
          0,
          0,
          0,
          0,
          0,
          0,
          0,
          0,
          0,
          0,
          0,
          0,
          0,
          0,
          0,
          0,
          0,
          0,
          0,
          0,
          0,
          0,
          0,
          0,
          0,
          0,
          0,
          0,
          0,
          0,
          0.2,
          0.2,
          0.25,
          0.25,
          0.25,
          0.2857142857142857,
          0.3333333333333333,
          0.3333333333333333,
          0.3333333333333333,
          0.3333333333333333,
          0.3333333333333333,
          0.3333333333333333,
          0.3333333333333333,
          0.3333333333333333,
          0.3333333333333333,
          0.3333333333333333,
          0.3333333333333333,
          0.35714285714285715,
          0.3680672268907563,
          0.4,
          0.4,
          0.4,
          0.42857142857142855,
          0.42857142857142855,
          0.4666666666666667,
          0.47368421052631576,
          0.4791666666666667,
          0.5,
          0.5,
          0.5,
          0.5,
          0.5,
          0.5,
          0.5,
          0.5,
          0.5,
          0.5,
          0.5,
          0.5,
          0.5,
          0.5,
          0.5,
          0.5,
          0.5,
          0.5,
          0.5,
          0.5,
          0.5,
          0.5,
          0.5,
          0.5,
          0.5,
          0.5,
          0.5,
          0.5,
          0.5,
          0.5,
          0.5,
          0.5,
          0.5,
          0.5,
          0.5,
          0.5,
          0.5,
          0.5,
          0.5,
          0.5,
          0.5,
          0.5,
          0.5,
          0.5,
          0.5,
          0.5,
          0.5,
          0.5333333333333333,
          0.5333333333333333,
          0.5333333333333333,
          0.5384615384615384,
          0.5384615384615384,
          0.5384615384615384,
          0.5384615384615384,
          0.5483870967741935,
          0.55,
          0.5531914893617021,
          0.5555555555555556,
          0.5555555555555556,
          0.5555555555555556,
          0.5609756097560976,
          0.5714285714285714,
          0.5714285714285714,
          0.5757575757575758,
          0.5789473684210527,
          0.5789473684210527,
          0.5833333333333334,
          0.5869565217391305,
          0.5882352941176471,
          0.59375,
          0.5967741935483871,
          0.6,
          0.6,
          0.6,
          0.6,
          0.6,
          0.6,
          0.6,
          0.6097560975609756,
          0.6111111111111112,
          0.6176470588235294,
          0.6190476190476191,
          0.6195652173913043,
          0.6204819277108434,
          0.6212121212121212,
          0.6228571428571429,
          0.625,
          0.625,
          0.625,
          0.625,
          0.625,
          0.625,
          0.625,
          0.6339869281045751,
          0.6347826086956522,
          0.6363636363636364,
          0.6363636363636364,
          0.6363636363636364,
          0.6363636363636364,
          0.6363636363636364,
          0.6363636363636364,
          0.6382978723404256,
          0.6428571428571429,
          0.6428571428571429,
          0.6428571428571429,
          0.6444444444444445,
          0.6486486486486487,
          0.6560509554140127,
          0.65625,
          0.6576402321083172,
          0.6581196581196581,
          0.6634615384615384,
          0.6644067796610169,
          0.6646616541353384,
          0.6666666666666666,
          0.6666666666666666,
          0.6666666666666666,
          0.6666666666666666,
          0.6666666666666666,
          0.6666666666666666,
          0.6666666666666666,
          0.6666666666666666,
          0.6666666666666666,
          0.6666666666666666,
          0.6666666666666666,
          0.6666666666666666,
          0.6666666666666666,
          0.6666666666666666,
          0.6666666666666666,
          0.6666666666666666,
          0.6666666666666666,
          0.6666666666666666,
          0.6666666666666666,
          0.6666666666666666,
          0.6666666666666666,
          0.6666666666666666,
          0.6666666666666666,
          0.6693548387096774,
          0.6715867158671587,
          0.6727272727272727,
          0.673469387755102,
          0.6742857142857143,
          0.6746987951807228,
          0.676056338028169,
          0.677570093457944,
          0.6781609195402298,
          0.6785714285714286,
          0.6792452830188679,
          0.6808510638297872,
          0.6829787234042554,
          0.6830294530154277,
          0.6842105263157895,
          0.6842105263157895,
          0.6857142857142857,
          0.6864754098360656,
          0.6881188118811881,
          0.6888888888888889,
          0.6895161290322581,
          0.6923076923076923,
          0.6928982725527831,
          0.6936936936936937,
          0.69425763062597,
          0.6944444444444444,
          0.6946107784431138,
          0.6954314720812182,
          0.6956521739130435,
          0.6985815602836879,
          0.7,
          0.7,
          0.7,
          0.7,
          0.7,
          0.7021276595744681,
          0.7021276595744681,
          0.7028985507246377,
          0.7031630170316302,
          0.7065778159931212,
          0.7068965517241379,
          0.7073170731707317,
          0.7076923076923077,
          0.7088607594936709,
          0.7090909090909091,
          0.7098214285714286,
          0.711038961038961,
          0.7111111111111111,
          0.7111111111111111,
          0.7114649681528662,
          0.7127659574468085,
          0.7132352941176471,
          0.7142857142857143,
          0.7142857142857143,
          0.7142857142857143,
          0.7142857142857143,
          0.7142857142857143,
          0.7152317880794702,
          0.7154471544715447,
          0.7154696132596685,
          0.7165354330708661,
          0.717391304347826,
          0.717391304347826,
          0.7207890743550834,
          0.7213114754098361,
          0.7214022140221402,
          0.7222222222222222,
          0.7225130890052356,
          0.723404255319149,
          0.7234738372093024,
          0.7235023041474654,
          0.7240853658536586,
          0.7254901960784313,
          0.7263969171483622,
          0.7272727272727273,
          0.7272727272727273,
          0.7272727272727273,
          0.7274939172749392,
          0.7281553398058253,
          0.7283950617283951,
          0.7297297297297297,
          0.7327102803738318,
          0.7337917485265226,
          0.7346938775510204,
          0.7365056818181818,
          0.7368421052631579,
          0.7368421052631579,
          0.7377622377622378,
          0.7391304347826086,
          0.7393939393939394,
          0.7394957983193278,
          0.7407407407407407,
          0.7419354838709677,
          0.7423312883435583,
          0.7428571428571429,
          0.7431275349256422,
          0.7447425670775925,
          0.75,
          0.75,
          0.75,
          0.75,
          0.75,
          0.75,
          0.75,
          0.75,
          0.75,
          0.75,
          0.75,
          0.75,
          0.75,
          0.75,
          0.75,
          0.75,
          0.75,
          0.75,
          0.75,
          0.75,
          0.75,
          0.75,
          0.75,
          0.7518710420264825,
          0.7572614107883817,
          0.7603833865814696,
          0.7606635071090048,
          0.7645861601085482,
          0.7647058823529411,
          0.7647058823529411,
          0.7647058823529411,
          0.7663934426229508,
          0.7680448493342676,
          0.7685589519650655,
          0.7688966116420504,
          0.7692307692307693,
          0.7701149425287356,
          0.770573566084788,
          0.7734823316218665,
          0.7735849056603774,
          0.774468085106383,
          0.775609756097561,
          0.7775735294117647,
          0.7777777777777778,
          0.7777777777777778,
          0.7777777777777778,
          0.7777777777777778,
          0.7777777777777778,
          0.7777777777777778,
          0.7797239451384642,
          0.7797552836484983,
          0.78,
          0.782608695652174,
          0.782608695652174,
          0.7847896440129449,
          0.785181236673774,
          0.7857142857142857,
          0.7857142857142857,
          0.7857142857142857,
          0.7857142857142857,
          0.7865384615384615,
          0.7868852459016393,
          0.7876447876447876,
          0.7894736842105263,
          0.7894736842105263,
          0.7894736842105263,
          0.7906137184115524,
          0.7906976744186046,
          0.7913907284768212,
          0.7916666666666666,
          0.7916666666666666,
          0.7945619335347432,
          0.7962447844228094,
          0.7969924812030075,
          0.7971014492753623,
          0.7978142076502732,
          0.7980099502487562,
          0.7980769230769231,
          0.7981770833333334,
          0.8,
          0.8,
          0.8,
          0.8020050125313283,
          0.8026315789473685,
          0.803347280334728,
          0.8043593833067517,
          0.8064516129032258,
          0.8076923076923077,
          0.8095238095238095,
          0.8112359550561797,
          0.8121546961325967,
          0.8125,
          0.8125,
          0.8157894736842105,
          0.8175046554934823,
          0.8181818181818182,
          0.8191304347826087,
          0.8235294117647058,
          0.8243243243243243,
          0.8247422680412371,
          0.8260869565217391,
          0.8260869565217391,
          0.8309859154929577,
          0.8310552214324768,
          0.8322279538197003,
          0.8333333333333334,
          0.8378378378378378,
          0.84,
          0.8409090909090909,
          0.8413391557496361,
          0.8439363817097415,
          0.8470982142857143,
          0.8484551250613046,
          0.8489922940130409,
          0.8513513513513513,
          0.8531120331950207,
          0.8536585365853658,
          0.8571428571428571,
          0.8571428571428571,
          0.8571428571428571,
          0.8601728201099764,
          0.8653846153846154,
          0.8666666666666667,
          0.875,
          0.875,
          0.8803245436105477,
          0.8844765342960289,
          0.8888888888888888,
          0.8888888888888888,
          0.8888888888888888,
          0.8888888888888888,
          0.8947368421052632,
          0.9,
          0.9,
          0.9166666666666666,
          0.9333333333333333,
          0.94,
          1,
          1,
          1,
          1,
          1,
          1,
          1,
          1,
          1,
          1,
          1,
          1,
          1,
          1,
          1,
          1,
          1,
          1,
          1,
          1,
          1,
          1,
          1,
          1,
          1,
          1,
          1,
          1,
          1,
          1,
          1,
          1,
          1,
          1,
          1,
          1,
          1,
          1,
          1,
          1,
          1,
          1,
          1,
          1,
          1,
          1,
          1,
          1,
          1,
          1,
          1,
          1,
          1,
          1,
          1,
          1,
          1,
          1,
          1,
          1,
          1,
          1,
          1,
          1,
          1,
          1,
          1,
          1,
          1,
          1,
          1,
          1,
          1,
          1,
          1,
          1,
          1,
          1,
          1,
          1,
          1,
          1,
          1,
          1,
          1,
          1,
          1,
          1,
          1,
          1,
          1,
          1,
          1,
          1,
          1,
          1,
          1,
          1,
          1,
          1,
          1,
          1,
          1,
          1,
          1,
          1,
          1,
          1,
          1,
          1,
          1,
          1,
          1,
          1,
          1,
          1,
          1,
          1,
          1,
          1,
          1,
          1,
          1,
          1,
          1,
          1,
          1,
          1,
          1,
          1,
          1,
          1,
          1,
          1,
          1,
          1,
          1,
          1,
          1,
          1,
          1,
          1,
          1,
          1,
          1,
          1,
          1,
          1,
          1,
          1,
          1,
          1,
          1,
          1,
          1,
          1,
          1,
          1,
          1,
          1,
          1,
          1,
          1,
          1,
          1,
          1,
          1,
          1,
          1,
          1,
          1,
          1,
          1,
          1
         ]
        },
        {
         "marker": {
          "color": "rgba(55, 128, 191, 0.6)",
          "line": {
           "color": "rgba(55, 128, 191, 1.0)",
           "width": 1
          }
         },
         "name": "Plug-in Hybrid Electric Vehicle (PHEV)",
         "orientation": "v",
         "text": "",
         "type": "bar",
         "x": [
          "Fort Walton Beach",
          "Marblemount",
          "Pittsburg",
          "Cusick",
          "Maryhill",
          "Petoskey",
          "McCleary",
          "Mcchord Afb",
          "Mccutcheon Field",
          "Plymouth",
          "Pawcatuck",
          "Medford",
          "Hughesville",
          "Wahkiacus",
          "Springfield",
          "Parker",
          "Walla Walla Co",
          "Ryderwood",
          "Henrico",
          "Vienna",
          "Rockport",
          "Joint Base Mdl",
          "Coronado",
          "Laughlin",
          "Lancaster",
          "Clayton",
          "Potomac",
          "Lamont",
          "Lincoln City",
          "Randle",
          "Klickitat",
          "Rayville",
          "Kekaha",
          "Tempe",
          "Temecula",
          "Lithia",
          "Portland",
          "Carrolls",
          "Carmel By The Sea",
          "Ridgecrest",
          "Port Gamble",
          "Madison",
          "Moraga",
          "Waterford",
          "Sprague",
          "Salem",
          "Saratoga Springs",
          "Weslaco",
          "Apple Valley",
          "Goshen",
          "Goodyear",
          "Old Lyme",
          "Eugene",
          "Ewa Beach",
          "Santa Rosa",
          "Altus",
          "Fairfield",
          "Germantown",
          "Felts Mills",
          "Smith Creek",
          "Garfield",
          "Gardena",
          "Aiea",
          "Fort Bragg",
          "Fairbanks",
          "White Swan",
          "Lansing",
          "South Cle Elum",
          "Dickinson",
          "Mountain View",
          "Bedford",
          "Beaver",
          "Salt Lake City",
          "Beaufort",
          "Southern Pines",
          "Haddonfield",
          "Harker Heights",
          "San Rafael",
          "Orchards",
          "Avalon",
          "Westminster",
          "Napavine",
          "Napa",
          "Augusta",
          "Vader",
          "Menlo",
          "Chesapeake",
          "Pomeroy",
          "Grand Coulee",
          "Raymond",
          "Davenport",
          "Cinebar",
          "Evans",
          "Gambrills",
          "Edwall",
          "Tekoa",
          "Electric City",
          "Frances",
          "Odenton",
          "Murdock",
          "Oceanside",
          "Naselle",
          "Tukwila",
          "Toutle",
          "Dallesport",
          "Union Gap",
          "Acme",
          "Grayland",
          "Ocean Park",
          "Surfside",
          "Benton City",
          "Chinook",
          "Neah Bay",
          "Wilbur",
          "South Prairie",
          "Silver Creek",
          "Deer Meadows",
          "Warden",
          "Oysterville",
          "Bay Center",
          "Eltopia",
          "Wishram",
          "Englewood",
          "Omak",
          "Omaha",
          "Glenwood",
          "Soap Lake",
          "Amanda Park",
          "Snowden",
          "Glenoma",
          "Fayetteville",
          "North Cove",
          "Addy",
          "Fruitland",
          "Seven Bays",
          "Silver Spring",
          "Endicott",
          "Mesa",
          "Belle Chasse",
          "Kapowsin",
          "Upper Marlboro",
          "Burke",
          "Cougar",
          "Lind",
          "Coulee Dam",
          "Colton",
          "Incorporated",
          "Reardan",
          "Maple Falls",
          "Portsmouth",
          "Stafford",
          "Tokeland",
          "Prescott",
          "Hunters",
          "Tonasket",
          "Chesapeake Beach",
          "Curtis",
          "Roosevelt",
          "Centralia",
          "Oakville",
          "Chewelah",
          "San Diego",
          "Valleyford",
          "Ariel",
          "Ilwaco",
          "Long Beach",
          "Naches",
          "Hoquiam",
          "Spangle",
          "Airway Heights",
          "Alexandria",
          "Sunnyside",
          "Granger",
          "Seaview",
          "Ocean Shores",
          "Grandview",
          "Mossyrock",
          "Oroville",
          "Clarkston",
          "Union",
          "Yacolt",
          "Montesano",
          "Carlton",
          "Pateros",
          "Las Vegas",
          "Norfolk",
          "Wilkeson",
          "Ephrata",
          "San Antonio",
          "Colville",
          "Westport",
          "Cathlamet",
          "Underwood",
          "Eatonville",
          "Port Angeles",
          "Spokane Valley",
          "Oak Harbor",
          "Orcas Is",
          "Mead",
          "Burbank",
          "Valley",
          "Chehalis",
          "Colfax",
          "Deer Park",
          "Fox Island",
          "Aberdeen",
          "Forks",
          "Stevenson",
          "Packwood",
          "Mccleary",
          "Ruston",
          "College Place",
          "Elma",
          "Parkland",
          "Longbranch",
          "Carson",
          "Rochester",
          "Twisp",
          "Yakima",
          "Hoodsport",
          "Port Townsend",
          "Cheney",
          "Port Ludlow",
          "Shelton",
          "Kennewick",
          "Usk",
          "Sumas",
          "Lemoore",
          "Cosmopolis",
          "Rock Island",
          "Irvine",
          "Clearlake",
          "Lincoln",
          "Lopez Is",
          "Los Angeles",
          "Orting",
          "Ford",
          "Onalaska",
          "Ashford",
          "Nahcotta",
          "Baring",
          "Goldendale",
          "Bz Corner",
          "Ethel",
          "Taholah",
          "Moclips",
          "South Bend",
          "Buena Park",
          "Woodland",
          "Walla Walla",
          "Buckley",
          "Grapeview",
          "Pullman",
          "Enumclaw",
          "Ravensdale",
          "Washougal",
          "Longview",
          "Otis Orchards",
          "Winthrop",
          "Winlock",
          "Sequim",
          "Richland",
          "Allyn",
          "Entiat",
          "Tenino",
          "Tumwater",
          "Moses Lake",
          "Greenacres",
          "Port Orchard",
          "Ritzville",
          "Poulsbo",
          "Graham",
          "Spokane",
          "Lummi Island",
          "West Richland",
          "Yelm",
          "Medical Lake",
          "Spanaway",
          "Brush Prairie",
          "Amboy",
          "Waitsburg",
          "Hansville",
          "Burlington",
          "Steilacoom",
          "Nine Mile Falls",
          "La Center",
          "Pasco",
          "Vancouver",
          "Joint Base Lewis Mcchord",
          "Kalama",
          "Lakewood",
          "Colbert",
          "Coupeville",
          "Bremerton",
          "Blaine",
          "Rainier",
          "Ferndale",
          "Olympia",
          "Roy",
          "Dupont",
          "Republic",
          "Langley",
          "Vaughn",
          "Ronald",
          "Lyle",
          "Liberty Lake",
          "Belfair",
          "Des Moines",
          "Sedro-Woolley",
          "Gold Bar",
          "Battle Ground",
          "Ridgefield",
          "Seabeck",
          "Anacortes",
          "Quilcene",
          "East Wenatchee",
          "Prosser",
          "Tacoma",
          "Kingston",
          "Lacey",
          "Kelso",
          "Vashon",
          "Silverlake",
          "Lynden",
          "Point Roberts",
          "South Hill",
          "Ellensburg",
          "Bow",
          "Newport",
          "University Place",
          "Federal Way",
          "Greenbank",
          "Bainbridge Island",
          "Kettle Falls",
          "Milton",
          "Puyallup",
          "La Conner",
          "Clinton",
          "Granite Falls",
          "Newman Lake",
          "Anderson Island",
          "Freeland",
          "Othello",
          "Bellingham",
          "Auburn",
          "Wapato",
          "Outlook",
          "Snoqualmie Pass",
          "Beaux Arts",
          "Algona",
          "Nooksack",
          "Moxee",
          "Elk",
          "Colorado Springs",
          "Mica",
          "Veradale",
          "Selah",
          "Lakebay",
          "Riverside",
          "Touchet",
          "Mattawa",
          "Tulalip",
          "Husum",
          "Palouse",
          "Camano Island",
          "Skamokawa",
          "Mabton",
          "Loon Lake",
          "Everett",
          "Mount Vernon",
          "Stanwood",
          "Arlington",
          "Gig Harbor",
          "Peshastin",
          "Trout Lake",
          "Lopez Island",
          "Eastsound",
          "Edmonds",
          "Normandy Park",
          "Camas",
          "Shaw Island",
          "Silverdale",
          "Marysville",
          "Renton",
          "Cashmere",
          "Edgewood",
          "Burien",
          "Monroe",
          "Glacier",
          "Tahuya",
          "Asotin",
          "Suquamish",
          "Toppenish",
          "Indianola",
          "Seattle",
          "Lake Stevens",
          "Fircrest",
          "Zillah",
          "Bonney Lake",
          "Snoqualmie",
          "Kent",
          "Royal City",
          "Sedro Woolley",
          "Toledo",
          "Brier",
          "Lake Forest Park",
          "Fall City",
          "Lake Tapps",
          "Port Hadlock",
          "Deming",
          "Castle Rock",
          "Carnation",
          "Fife",
          "Snohomish",
          "Chimacum",
          "Pacific",
          "Mountlake Terrace",
          "Shoreline",
          "Sumner",
          "Everson",
          "Friday Harbor",
          "Maple Valley",
          "Sultan",
          "Kenmore",
          "Rice",
          "Rockford",
          "Connell",
          "Covington",
          "Woodway",
          "Mill Creek",
          "Mercer Island",
          "Chelan",
          "Concrete",
          "Yarrow Point",
          "Duvall",
          "Leavenworth",
          "Brinnon",
          "Easton",
          "Wenatchee",
          "North Bend",
          "Manson",
          "Mukilteo",
          "Pacific Beach",
          "Olalla",
          "White Salmon",
          "Chattaroy",
          "Custer",
          "Quincy",
          "Woodinville",
          "Kirkland",
          "Mineral",
          "Olga",
          "Preston",
          "Nordland",
          "Newcastle",
          "Bothell",
          "Lynnwood",
          "Issaquah",
          "Bellevue",
          "Cle Elum",
          "Redmond",
          "Orondo",
          "Roslyn",
          "Lilliwaup",
          "Curlew",
          "Sammamish",
          "Black Diamond",
          "Dayton",
          "Rosalia",
          "North Bonneville",
          "Seatac",
          "Medina",
          "Keyport",
          "Darrington",
          "Coulee City",
          "Clyde Hill",
          "Malaga",
          "Brewster",
          "Fairchild Air Force Base",
          "Morton",
          "Mazama",
          "Hunts Point",
          "Methow",
          "Trinidad",
          "Tumtum",
          "Chevy Chase",
          "Cheyenne",
          "Palo Alto",
          "Twentynine Palms",
          "Middletown",
          "Charleston Afb",
          "Chandler",
          "Uniontown",
          "Cathedral City",
          "Minneapolis",
          "Chelmsford",
          "Travis Afb",
          "Clarksville",
          "Cincinnati",
          "Summerville",
          "Mascoutah",
          "Sumter",
          "Cowiche",
          "Suwanee",
          "Corvallis",
          "Copalis Crossing",
          "Copalis Beach",
          "Conyers",
          "Pe Ell",
          "Mechanicsburg",
          "Thorp",
          "Tieton",
          "Timnath",
          "Menifee",
          "Vacaville",
          "Clallam Bay",
          "Chula Vista",
          "Carbonado",
          "Bucoda",
          "Cupertino",
          "Aurora",
          "Asheboro",
          "Okatie",
          "Artondale",
          "Wichita Falls",
          "Arnold",
          "Wildomar",
          "Arlington Heights",
          "Anthem",
          "Annapolis",
          "Andrews Air Force Base",
          "Okanogan",
          "Alhambra",
          "Odessa",
          "Worley",
          "Wylie",
          "Aldie",
          "Alderdale",
          "Norristown",
          "Bell Hill",
          "Belleville",
          "Newport News",
          "Waterville",
          "Mount Pleasant",
          "Vantage",
          "Mountain Home Afb",
          "Bridgeport Bar",
          "Ventura",
          "Bridgeport",
          "Virginia Beach",
          "Mystic",
          "Nespelem",
          "Canoga Park",
          "Waldorf",
          "Newark",
          "Bingen",
          "Biloxi",
          "Berkeley",
          "Warner Robins",
          "Washington",
          "Benicia",
          "Newport Beach",
          "Watertown",
          "Waldron",
          "Phoenix",
          "Marlin",
          "Stratford",
          "Lebam",
          "Harrington",
          "San Clemente",
          "Hanscom Afb",
          "San Jose",
          "San Mateo",
          "Hamilton",
          "Santa Ana",
          "Hartline",
          "Santa Clara",
          "Greenfield Center",
          "Sarasota",
          "Grays River",
          "Satsop",
          "Scottsdale",
          "Goldsboro",
          "Seaside",
          "Gifford",
          "Santa Cruz",
          "Salkum",
          "Hatton",
          "Saint Jacob",
          "Killeen",
          "Keedysville",
          "Kailua",
          "Junction City",
          "Jericho",
          "Kittitas",
          "Indio",
          "Raeford",
          "Index",
          "Inchelium",
          "Quinault",
          "Rosamond",
          "Rosburg",
          "Las Cruces",
          "Honolulu",
          "Latah",
          "Highland Park",
          "Herndon",
          "Sacramento",
          "Gatesville",
          "Prosper",
          "Gaithersburg",
          "Sekiu",
          "El Paso",
          "Edgewater",
          "Longmont",
          "South Range",
          "Dryden",
          "Southlake",
          "Dover",
          "Malott",
          "Deer Harbor",
          "Decatur",
          "Mansfield",
          "Spring Lake",
          "Springdale",
          "St John",
          "Danville",
          "Dallas",
          "Staten Island",
          "Platte City",
          "Kenn",
          "Sonoma",
          "Suffolk",
          "Lompoc",
          "Little Elm",
          "Pros",
          "Fremont",
          "Fredericksburg",
          "Frederick",
          "Fort Wayne",
          "Sheridan",
          "Leesville",
          "Fort Leavenworth",
          "North Las Vegas",
          "Fort Lauderdale",
          "Fort Irwin",
          "Fort George G Meade",
          "Fort Campbell",
          "Skokie",
          "Skykomish",
          "Slidell",
          "Lexington Park",
          "Smiths Station",
          "Libertyville",
          "Little Rock",
          "Silver Lake"
         ],
         "y": [
          1,
          1,
          1,
          1,
          1,
          1,
          1,
          1,
          1,
          1,
          1,
          1,
          1,
          1,
          1,
          1,
          1,
          1,
          1,
          1,
          1,
          1,
          1,
          1,
          1,
          1,
          1,
          1,
          1,
          1,
          1,
          1,
          1,
          1,
          1,
          1,
          1,
          1,
          1,
          1,
          1,
          1,
          1,
          1,
          1,
          1,
          1,
          1,
          1,
          1,
          1,
          1,
          1,
          1,
          1,
          1,
          1,
          1,
          1,
          1,
          1,
          1,
          1,
          1,
          1,
          1,
          1,
          1,
          1,
          1,
          1,
          1,
          1,
          1,
          1,
          1,
          1,
          1,
          1,
          1,
          1,
          1,
          1,
          1,
          0.8,
          0.8,
          0.75,
          0.75,
          0.75,
          0.7142857142857143,
          0.6666666666666666,
          0.6666666666666666,
          0.6666666666666666,
          0.6666666666666666,
          0.6666666666666666,
          0.6666666666666666,
          0.6666666666666666,
          0.6666666666666666,
          0.6666666666666666,
          0.6666666666666666,
          0.6666666666666666,
          0.6428571428571429,
          0.6319327731092437,
          0.6,
          0.6,
          0.6,
          0.5714285714285714,
          0.5714285714285714,
          0.5333333333333333,
          0.5263157894736842,
          0.5208333333333334,
          0.5,
          0.5,
          0.5,
          0.5,
          0.5,
          0.5,
          0.5,
          0.5,
          0.5,
          0.5,
          0.5,
          0.5,
          0.5,
          0.5,
          0.5,
          0.5,
          0.5,
          0.5,
          0.5,
          0.5,
          0.5,
          0.5,
          0.5,
          0.5,
          0.5,
          0.5,
          0.5,
          0.5,
          0.5,
          0.5,
          0.5,
          0.5,
          0.5,
          0.5,
          0.5,
          0.5,
          0.5,
          0.5,
          0.5,
          0.5,
          0.5,
          0.5,
          0.5,
          0.5,
          0.5,
          0.5,
          0.5,
          0.4666666666666667,
          0.4666666666666667,
          0.4666666666666667,
          0.46153846153846156,
          0.46153846153846156,
          0.46153846153846156,
          0.46153846153846156,
          0.45161290322580644,
          0.45,
          0.44680851063829785,
          0.4444444444444444,
          0.4444444444444444,
          0.4444444444444444,
          0.43902439024390244,
          0.42857142857142855,
          0.42857142857142855,
          0.42424242424242425,
          0.42105263157894735,
          0.42105263157894735,
          0.4166666666666667,
          0.41304347826086957,
          0.4117647058823529,
          0.40625,
          0.4032258064516129,
          0.4,
          0.4,
          0.4,
          0.4,
          0.4,
          0.4,
          0.4,
          0.3902439024390244,
          0.3888888888888889,
          0.38235294117647056,
          0.38095238095238093,
          0.3804347826086957,
          0.3795180722891566,
          0.3787878787878788,
          0.37714285714285717,
          0.375,
          0.375,
          0.375,
          0.375,
          0.375,
          0.375,
          0.375,
          0.3660130718954248,
          0.3652173913043478,
          0.36363636363636365,
          0.36363636363636365,
          0.36363636363636365,
          0.36363636363636365,
          0.36363636363636365,
          0.36363636363636365,
          0.3617021276595745,
          0.35714285714285715,
          0.35714285714285715,
          0.35714285714285715,
          0.35555555555555557,
          0.35135135135135137,
          0.34394904458598724,
          0.34375,
          0.34235976789168276,
          0.3418803418803419,
          0.33653846153846156,
          0.33559322033898303,
          0.33533834586466166,
          0.3333333333333333,
          0.3333333333333333,
          0.3333333333333333,
          0.3333333333333333,
          0.3333333333333333,
          0.3333333333333333,
          0.3333333333333333,
          0.3333333333333333,
          0.3333333333333333,
          0.3333333333333333,
          0.3333333333333333,
          0.3333333333333333,
          0.3333333333333333,
          0.3333333333333333,
          0.3333333333333333,
          0.3333333333333333,
          0.3333333333333333,
          0.3333333333333333,
          0.3333333333333333,
          0.3333333333333333,
          0.3333333333333333,
          0.3333333333333333,
          0.3333333333333333,
          0.33064516129032256,
          0.3284132841328413,
          0.32727272727272727,
          0.32653061224489793,
          0.32571428571428573,
          0.3253012048192771,
          0.323943661971831,
          0.32242990654205606,
          0.3218390804597701,
          0.32142857142857145,
          0.32075471698113206,
          0.3191489361702128,
          0.3170212765957447,
          0.3169705469845722,
          0.3157894736842105,
          0.3157894736842105,
          0.3142857142857143,
          0.3135245901639344,
          0.3118811881188119,
          0.3111111111111111,
          0.31048387096774194,
          0.3076923076923077,
          0.30710172744721687,
          0.3063063063063063,
          0.30574236937403,
          0.3055555555555556,
          0.30538922155688625,
          0.30456852791878175,
          0.30434782608695654,
          0.30141843971631205,
          0.3,
          0.3,
          0.3,
          0.3,
          0.3,
          0.2978723404255319,
          0.2978723404255319,
          0.2971014492753623,
          0.29683698296836986,
          0.29342218400687875,
          0.29310344827586204,
          0.2926829268292683,
          0.2923076923076923,
          0.2911392405063291,
          0.2909090909090909,
          0.29017857142857145,
          0.288961038961039,
          0.28888888888888886,
          0.28888888888888886,
          0.28853503184713375,
          0.2872340425531915,
          0.2867647058823529,
          0.2857142857142857,
          0.2857142857142857,
          0.2857142857142857,
          0.2857142857142857,
          0.2857142857142857,
          0.2847682119205298,
          0.2845528455284553,
          0.2845303867403315,
          0.28346456692913385,
          0.2826086956521739,
          0.2826086956521739,
          0.27921092564491656,
          0.2786885245901639,
          0.2785977859778598,
          0.2777777777777778,
          0.2774869109947644,
          0.2765957446808511,
          0.2765261627906977,
          0.2764976958525346,
          0.2759146341463415,
          0.27450980392156865,
          0.27360308285163776,
          0.2727272727272727,
          0.2727272727272727,
          0.2727272727272727,
          0.2725060827250608,
          0.27184466019417475,
          0.2716049382716049,
          0.2702702702702703,
          0.2672897196261682,
          0.26620825147347743,
          0.2653061224489796,
          0.2634943181818182,
          0.2631578947368421,
          0.2631578947368421,
          0.26223776223776224,
          0.2608695652173913,
          0.2606060606060606,
          0.2605042016806723,
          0.25925925925925924,
          0.25806451612903225,
          0.25766871165644173,
          0.2571428571428571,
          0.2568724650743578,
          0.25525743292240755,
          0.25,
          0.25,
          0.25,
          0.25,
          0.25,
          0.25,
          0.25,
          0.25,
          0.25,
          0.25,
          0.25,
          0.25,
          0.25,
          0.25,
          0.25,
          0.25,
          0.25,
          0.25,
          0.25,
          0.25,
          0.25,
          0.25,
          0.25,
          0.24812895797351756,
          0.24273858921161826,
          0.23961661341853036,
          0.23933649289099526,
          0.23541383989145184,
          0.23529411764705882,
          0.23529411764705882,
          0.23529411764705882,
          0.2336065573770492,
          0.2319551506657323,
          0.2314410480349345,
          0.2311033883579496,
          0.23076923076923078,
          0.22988505747126436,
          0.22942643391521197,
          0.2265176683781335,
          0.22641509433962265,
          0.225531914893617,
          0.22439024390243903,
          0.22242647058823528,
          0.2222222222222222,
          0.2222222222222222,
          0.2222222222222222,
          0.2222222222222222,
          0.2222222222222222,
          0.2222222222222222,
          0.22027605486153579,
          0.22024471635150167,
          0.22,
          0.21739130434782608,
          0.21739130434782608,
          0.215210355987055,
          0.21481876332622601,
          0.21428571428571427,
          0.21428571428571427,
          0.21428571428571427,
          0.21428571428571427,
          0.21346153846153845,
          0.21311475409836064,
          0.21235521235521235,
          0.21052631578947367,
          0.21052631578947367,
          0.21052631578947367,
          0.20938628158844766,
          0.20930232558139536,
          0.20860927152317882,
          0.20833333333333334,
          0.20833333333333334,
          0.2054380664652568,
          0.20375521557719053,
          0.20300751879699247,
          0.2028985507246377,
          0.20218579234972678,
          0.2019900497512438,
          0.20192307692307693,
          0.20182291666666666,
          0.2,
          0.2,
          0.2,
          0.19799498746867167,
          0.19736842105263158,
          0.19665271966527198,
          0.19564061669324828,
          0.1935483870967742,
          0.19230769230769232,
          0.19047619047619047,
          0.18876404494382024,
          0.1878453038674033,
          0.1875,
          0.1875,
          0.18421052631578946,
          0.1824953445065177,
          0.18181818181818182,
          0.1808695652173913,
          0.17647058823529413,
          0.17567567567567569,
          0.17525773195876287,
          0.17391304347826086,
          0.17391304347826086,
          0.16901408450704225,
          0.16894477856752324,
          0.16777204618029967,
          0.16666666666666666,
          0.16216216216216217,
          0.16,
          0.1590909090909091,
          0.1586608442503639,
          0.15606361829025844,
          0.15290178571428573,
          0.15154487493869545,
          0.1510077059869591,
          0.14864864864864866,
          0.14688796680497926,
          0.14634146341463414,
          0.14285714285714285,
          0.14285714285714285,
          0.14285714285714285,
          0.13982717989002358,
          0.1346153846153846,
          0.13333333333333333,
          0.125,
          0.125,
          0.11967545638945233,
          0.11552346570397112,
          0.1111111111111111,
          0.1111111111111111,
          0.1111111111111111,
          0.1111111111111111,
          0.10526315789473684,
          0.1,
          0.1,
          0.08333333333333333,
          0.06666666666666667,
          0.06,
          0,
          0,
          0,
          0,
          0,
          0,
          0,
          0,
          0,
          0,
          0,
          0,
          0,
          0,
          0,
          0,
          0,
          0,
          0,
          0,
          0,
          0,
          0,
          0,
          0,
          0,
          0,
          0,
          0,
          0,
          0,
          0,
          0,
          0,
          0,
          0,
          0,
          0,
          0,
          0,
          0,
          0,
          0,
          0,
          0,
          0,
          0,
          0,
          0,
          0,
          0,
          0,
          0,
          0,
          0,
          0,
          0,
          0,
          0,
          0,
          0,
          0,
          0,
          0,
          0,
          0,
          0,
          0,
          0,
          0,
          0,
          0,
          0,
          0,
          0,
          0,
          0,
          0,
          0,
          0,
          0,
          0,
          0,
          0,
          0,
          0,
          0,
          0,
          0,
          0,
          0,
          0,
          0,
          0,
          0,
          0,
          0,
          0,
          0,
          0,
          0,
          0,
          0,
          0,
          0,
          0,
          0,
          0,
          0,
          0,
          0,
          0,
          0,
          0,
          0,
          0,
          0,
          0,
          0,
          0,
          0,
          0,
          0,
          0,
          0,
          0,
          0,
          0,
          0,
          0,
          0,
          0,
          0,
          0,
          0,
          0,
          0,
          0,
          0,
          0,
          0,
          0,
          0,
          0,
          0,
          0,
          0,
          0,
          0,
          0,
          0,
          0,
          0,
          0,
          0,
          0,
          0,
          0,
          0,
          0,
          0,
          0,
          0,
          0,
          0,
          0,
          0,
          0,
          0,
          0,
          0,
          0,
          0,
          0
         ]
        }
       ],
       "layout": {
        "barmode": "stack",
        "legend": {
         "bgcolor": "#F5F6F9",
         "font": {
          "color": "#4D5663"
         },
         "traceorder": "normal"
        },
        "paper_bgcolor": "#F5F6F9",
        "plot_bgcolor": "#F5F6F9",
        "template": {
         "data": {
          "bar": [
           {
            "error_x": {
             "color": "#2a3f5f"
            },
            "error_y": {
             "color": "#2a3f5f"
            },
            "marker": {
             "line": {
              "color": "#E5ECF6",
              "width": 0.5
             },
             "pattern": {
              "fillmode": "overlay",
              "size": 10,
              "solidity": 0.2
             }
            },
            "type": "bar"
           }
          ],
          "barpolar": [
           {
            "marker": {
             "line": {
              "color": "#E5ECF6",
              "width": 0.5
             },
             "pattern": {
              "fillmode": "overlay",
              "size": 10,
              "solidity": 0.2
             }
            },
            "type": "barpolar"
           }
          ],
          "carpet": [
           {
            "aaxis": {
             "endlinecolor": "#2a3f5f",
             "gridcolor": "white",
             "linecolor": "white",
             "minorgridcolor": "white",
             "startlinecolor": "#2a3f5f"
            },
            "baxis": {
             "endlinecolor": "#2a3f5f",
             "gridcolor": "white",
             "linecolor": "white",
             "minorgridcolor": "white",
             "startlinecolor": "#2a3f5f"
            },
            "type": "carpet"
           }
          ],
          "choropleth": [
           {
            "colorbar": {
             "outlinewidth": 0,
             "ticks": ""
            },
            "type": "choropleth"
           }
          ],
          "contour": [
           {
            "colorbar": {
             "outlinewidth": 0,
             "ticks": ""
            },
            "colorscale": [
             [
              0,
              "#0d0887"
             ],
             [
              0.1111111111111111,
              "#46039f"
             ],
             [
              0.2222222222222222,
              "#7201a8"
             ],
             [
              0.3333333333333333,
              "#9c179e"
             ],
             [
              0.4444444444444444,
              "#bd3786"
             ],
             [
              0.5555555555555556,
              "#d8576b"
             ],
             [
              0.6666666666666666,
              "#ed7953"
             ],
             [
              0.7777777777777778,
              "#fb9f3a"
             ],
             [
              0.8888888888888888,
              "#fdca26"
             ],
             [
              1,
              "#f0f921"
             ]
            ],
            "type": "contour"
           }
          ],
          "contourcarpet": [
           {
            "colorbar": {
             "outlinewidth": 0,
             "ticks": ""
            },
            "type": "contourcarpet"
           }
          ],
          "heatmap": [
           {
            "colorbar": {
             "outlinewidth": 0,
             "ticks": ""
            },
            "colorscale": [
             [
              0,
              "#0d0887"
             ],
             [
              0.1111111111111111,
              "#46039f"
             ],
             [
              0.2222222222222222,
              "#7201a8"
             ],
             [
              0.3333333333333333,
              "#9c179e"
             ],
             [
              0.4444444444444444,
              "#bd3786"
             ],
             [
              0.5555555555555556,
              "#d8576b"
             ],
             [
              0.6666666666666666,
              "#ed7953"
             ],
             [
              0.7777777777777778,
              "#fb9f3a"
             ],
             [
              0.8888888888888888,
              "#fdca26"
             ],
             [
              1,
              "#f0f921"
             ]
            ],
            "type": "heatmap"
           }
          ],
          "heatmapgl": [
           {
            "colorbar": {
             "outlinewidth": 0,
             "ticks": ""
            },
            "colorscale": [
             [
              0,
              "#0d0887"
             ],
             [
              0.1111111111111111,
              "#46039f"
             ],
             [
              0.2222222222222222,
              "#7201a8"
             ],
             [
              0.3333333333333333,
              "#9c179e"
             ],
             [
              0.4444444444444444,
              "#bd3786"
             ],
             [
              0.5555555555555556,
              "#d8576b"
             ],
             [
              0.6666666666666666,
              "#ed7953"
             ],
             [
              0.7777777777777778,
              "#fb9f3a"
             ],
             [
              0.8888888888888888,
              "#fdca26"
             ],
             [
              1,
              "#f0f921"
             ]
            ],
            "type": "heatmapgl"
           }
          ],
          "histogram": [
           {
            "marker": {
             "pattern": {
              "fillmode": "overlay",
              "size": 10,
              "solidity": 0.2
             }
            },
            "type": "histogram"
           }
          ],
          "histogram2d": [
           {
            "colorbar": {
             "outlinewidth": 0,
             "ticks": ""
            },
            "colorscale": [
             [
              0,
              "#0d0887"
             ],
             [
              0.1111111111111111,
              "#46039f"
             ],
             [
              0.2222222222222222,
              "#7201a8"
             ],
             [
              0.3333333333333333,
              "#9c179e"
             ],
             [
              0.4444444444444444,
              "#bd3786"
             ],
             [
              0.5555555555555556,
              "#d8576b"
             ],
             [
              0.6666666666666666,
              "#ed7953"
             ],
             [
              0.7777777777777778,
              "#fb9f3a"
             ],
             [
              0.8888888888888888,
              "#fdca26"
             ],
             [
              1,
              "#f0f921"
             ]
            ],
            "type": "histogram2d"
           }
          ],
          "histogram2dcontour": [
           {
            "colorbar": {
             "outlinewidth": 0,
             "ticks": ""
            },
            "colorscale": [
             [
              0,
              "#0d0887"
             ],
             [
              0.1111111111111111,
              "#46039f"
             ],
             [
              0.2222222222222222,
              "#7201a8"
             ],
             [
              0.3333333333333333,
              "#9c179e"
             ],
             [
              0.4444444444444444,
              "#bd3786"
             ],
             [
              0.5555555555555556,
              "#d8576b"
             ],
             [
              0.6666666666666666,
              "#ed7953"
             ],
             [
              0.7777777777777778,
              "#fb9f3a"
             ],
             [
              0.8888888888888888,
              "#fdca26"
             ],
             [
              1,
              "#f0f921"
             ]
            ],
            "type": "histogram2dcontour"
           }
          ],
          "mesh3d": [
           {
            "colorbar": {
             "outlinewidth": 0,
             "ticks": ""
            },
            "type": "mesh3d"
           }
          ],
          "parcoords": [
           {
            "line": {
             "colorbar": {
              "outlinewidth": 0,
              "ticks": ""
             }
            },
            "type": "parcoords"
           }
          ],
          "pie": [
           {
            "automargin": true,
            "type": "pie"
           }
          ],
          "scatter": [
           {
            "fillpattern": {
             "fillmode": "overlay",
             "size": 10,
             "solidity": 0.2
            },
            "type": "scatter"
           }
          ],
          "scatter3d": [
           {
            "line": {
             "colorbar": {
              "outlinewidth": 0,
              "ticks": ""
             }
            },
            "marker": {
             "colorbar": {
              "outlinewidth": 0,
              "ticks": ""
             }
            },
            "type": "scatter3d"
           }
          ],
          "scattercarpet": [
           {
            "marker": {
             "colorbar": {
              "outlinewidth": 0,
              "ticks": ""
             }
            },
            "type": "scattercarpet"
           }
          ],
          "scattergeo": [
           {
            "marker": {
             "colorbar": {
              "outlinewidth": 0,
              "ticks": ""
             }
            },
            "type": "scattergeo"
           }
          ],
          "scattergl": [
           {
            "marker": {
             "colorbar": {
              "outlinewidth": 0,
              "ticks": ""
             }
            },
            "type": "scattergl"
           }
          ],
          "scattermapbox": [
           {
            "marker": {
             "colorbar": {
              "outlinewidth": 0,
              "ticks": ""
             }
            },
            "type": "scattermapbox"
           }
          ],
          "scatterpolar": [
           {
            "marker": {
             "colorbar": {
              "outlinewidth": 0,
              "ticks": ""
             }
            },
            "type": "scatterpolar"
           }
          ],
          "scatterpolargl": [
           {
            "marker": {
             "colorbar": {
              "outlinewidth": 0,
              "ticks": ""
             }
            },
            "type": "scatterpolargl"
           }
          ],
          "scatterternary": [
           {
            "marker": {
             "colorbar": {
              "outlinewidth": 0,
              "ticks": ""
             }
            },
            "type": "scatterternary"
           }
          ],
          "surface": [
           {
            "colorbar": {
             "outlinewidth": 0,
             "ticks": ""
            },
            "colorscale": [
             [
              0,
              "#0d0887"
             ],
             [
              0.1111111111111111,
              "#46039f"
             ],
             [
              0.2222222222222222,
              "#7201a8"
             ],
             [
              0.3333333333333333,
              "#9c179e"
             ],
             [
              0.4444444444444444,
              "#bd3786"
             ],
             [
              0.5555555555555556,
              "#d8576b"
             ],
             [
              0.6666666666666666,
              "#ed7953"
             ],
             [
              0.7777777777777778,
              "#fb9f3a"
             ],
             [
              0.8888888888888888,
              "#fdca26"
             ],
             [
              1,
              "#f0f921"
             ]
            ],
            "type": "surface"
           }
          ],
          "table": [
           {
            "cells": {
             "fill": {
              "color": "#EBF0F8"
             },
             "line": {
              "color": "white"
             }
            },
            "header": {
             "fill": {
              "color": "#C8D4E3"
             },
             "line": {
              "color": "white"
             }
            },
            "type": "table"
           }
          ]
         },
         "layout": {
          "annotationdefaults": {
           "arrowcolor": "#2a3f5f",
           "arrowhead": 0,
           "arrowwidth": 1
          },
          "autotypenumbers": "strict",
          "coloraxis": {
           "colorbar": {
            "outlinewidth": 0,
            "ticks": ""
           }
          },
          "colorscale": {
           "diverging": [
            [
             0,
             "#8e0152"
            ],
            [
             0.1,
             "#c51b7d"
            ],
            [
             0.2,
             "#de77ae"
            ],
            [
             0.3,
             "#f1b6da"
            ],
            [
             0.4,
             "#fde0ef"
            ],
            [
             0.5,
             "#f7f7f7"
            ],
            [
             0.6,
             "#e6f5d0"
            ],
            [
             0.7,
             "#b8e186"
            ],
            [
             0.8,
             "#7fbc41"
            ],
            [
             0.9,
             "#4d9221"
            ],
            [
             1,
             "#276419"
            ]
           ],
           "sequential": [
            [
             0,
             "#0d0887"
            ],
            [
             0.1111111111111111,
             "#46039f"
            ],
            [
             0.2222222222222222,
             "#7201a8"
            ],
            [
             0.3333333333333333,
             "#9c179e"
            ],
            [
             0.4444444444444444,
             "#bd3786"
            ],
            [
             0.5555555555555556,
             "#d8576b"
            ],
            [
             0.6666666666666666,
             "#ed7953"
            ],
            [
             0.7777777777777778,
             "#fb9f3a"
            ],
            [
             0.8888888888888888,
             "#fdca26"
            ],
            [
             1,
             "#f0f921"
            ]
           ],
           "sequentialminus": [
            [
             0,
             "#0d0887"
            ],
            [
             0.1111111111111111,
             "#46039f"
            ],
            [
             0.2222222222222222,
             "#7201a8"
            ],
            [
             0.3333333333333333,
             "#9c179e"
            ],
            [
             0.4444444444444444,
             "#bd3786"
            ],
            [
             0.5555555555555556,
             "#d8576b"
            ],
            [
             0.6666666666666666,
             "#ed7953"
            ],
            [
             0.7777777777777778,
             "#fb9f3a"
            ],
            [
             0.8888888888888888,
             "#fdca26"
            ],
            [
             1,
             "#f0f921"
            ]
           ]
          },
          "colorway": [
           "#636efa",
           "#EF553B",
           "#00cc96",
           "#ab63fa",
           "#FFA15A",
           "#19d3f3",
           "#FF6692",
           "#B6E880",
           "#FF97FF",
           "#FECB52"
          ],
          "font": {
           "color": "#2a3f5f"
          },
          "geo": {
           "bgcolor": "white",
           "lakecolor": "white",
           "landcolor": "#E5ECF6",
           "showlakes": true,
           "showland": true,
           "subunitcolor": "white"
          },
          "hoverlabel": {
           "align": "left"
          },
          "hovermode": "closest",
          "mapbox": {
           "style": "light"
          },
          "paper_bgcolor": "white",
          "plot_bgcolor": "#E5ECF6",
          "polar": {
           "angularaxis": {
            "gridcolor": "white",
            "linecolor": "white",
            "ticks": ""
           },
           "bgcolor": "#E5ECF6",
           "radialaxis": {
            "gridcolor": "white",
            "linecolor": "white",
            "ticks": ""
           }
          },
          "scene": {
           "xaxis": {
            "backgroundcolor": "#E5ECF6",
            "gridcolor": "white",
            "gridwidth": 2,
            "linecolor": "white",
            "showbackground": true,
            "ticks": "",
            "zerolinecolor": "white"
           },
           "yaxis": {
            "backgroundcolor": "#E5ECF6",
            "gridcolor": "white",
            "gridwidth": 2,
            "linecolor": "white",
            "showbackground": true,
            "ticks": "",
            "zerolinecolor": "white"
           },
           "zaxis": {
            "backgroundcolor": "#E5ECF6",
            "gridcolor": "white",
            "gridwidth": 2,
            "linecolor": "white",
            "showbackground": true,
            "ticks": "",
            "zerolinecolor": "white"
           }
          },
          "shapedefaults": {
           "line": {
            "color": "#2a3f5f"
           }
          },
          "ternary": {
           "aaxis": {
            "gridcolor": "white",
            "linecolor": "white",
            "ticks": ""
           },
           "baxis": {
            "gridcolor": "white",
            "linecolor": "white",
            "ticks": ""
           },
           "bgcolor": "#E5ECF6",
           "caxis": {
            "gridcolor": "white",
            "linecolor": "white",
            "ticks": ""
           }
          },
          "title": {
           "x": 0.05
          },
          "xaxis": {
           "automargin": true,
           "gridcolor": "white",
           "linecolor": "white",
           "ticks": "",
           "title": {
            "standoff": 15
           },
           "zerolinecolor": "white",
           "zerolinewidth": 2
          },
          "yaxis": {
           "automargin": true,
           "gridcolor": "white",
           "linecolor": "white",
           "ticks": "",
           "title": {
            "standoff": 15
           },
           "zerolinecolor": "white",
           "zerolinewidth": 2
          }
         }
        },
        "title": {
         "font": {
          "color": "#4D5663"
         },
         "text": "Stacked Bar Chart: City vs Electric Vehicle Types (Proportion)"
        },
        "xaxis": {
         "gridcolor": "#E1E5ED",
         "showgrid": true,
         "tickfont": {
          "color": "#4D5663"
         },
         "title": {
          "font": {
           "color": "#4D5663"
          },
          "text": ""
         },
         "zerolinecolor": "#E1E5ED"
        },
        "yaxis": {
         "gridcolor": "#E1E5ED",
         "showgrid": true,
         "tickfont": {
          "color": "#4D5663"
         },
         "title": {
          "font": {
           "color": "#4D5663"
          },
          "text": ""
         },
         "zerolinecolor": "#E1E5ED"
        }
       }
      },
      "text/html": [
       "<div>                            <div id=\"672753d8-ce09-46dd-8c41-4601c390438f\" class=\"plotly-graph-div\" style=\"height:525px; width:100%;\"></div>            <script type=\"text/javascript\">                require([\"plotly\"], function(Plotly) {                    window.PLOTLYENV=window.PLOTLYENV || {};\n",
       "                    window.PLOTLYENV.BASE_URL='https://plot.ly';                                    if (document.getElementById(\"672753d8-ce09-46dd-8c41-4601c390438f\")) {                    Plotly.newPlot(                        \"672753d8-ce09-46dd-8c41-4601c390438f\",                        [{\"marker\":{\"color\":\"rgba(255, 153, 51, 0.6)\",\"line\":{\"color\":\"rgba(255, 153, 51, 1.0)\",\"width\":1}},\"name\":\"Battery Electric Vehicle (BEV)\",\"orientation\":\"v\",\"text\":\"\",\"x\":[\"Fort Walton Beach\",\"Marblemount\",\"Pittsburg\",\"Cusick\",\"Maryhill\",\"Petoskey\",\"McCleary\",\"Mcchord Afb\",\"Mccutcheon Field\",\"Plymouth\",\"Pawcatuck\",\"Medford\",\"Hughesville\",\"Wahkiacus\",\"Springfield\",\"Parker\",\"Walla Walla Co\",\"Ryderwood\",\"Henrico\",\"Vienna\",\"Rockport\",\"Joint Base Mdl\",\"Coronado\",\"Laughlin\",\"Lancaster\",\"Clayton\",\"Potomac\",\"Lamont\",\"Lincoln City\",\"Randle\",\"Klickitat\",\"Rayville\",\"Kekaha\",\"Tempe\",\"Temecula\",\"Lithia\",\"Portland\",\"Carrolls\",\"Carmel By The Sea\",\"Ridgecrest\",\"Port Gamble\",\"Madison\",\"Moraga\",\"Waterford\",\"Sprague\",\"Salem\",\"Saratoga Springs\",\"Weslaco\",\"Apple Valley\",\"Goshen\",\"Goodyear\",\"Old Lyme\",\"Eugene\",\"Ewa Beach\",\"Santa Rosa\",\"Altus\",\"Fairfield\",\"Germantown\",\"Felts Mills\",\"Smith Creek\",\"Garfield\",\"Gardena\",\"Aiea\",\"Fort Bragg\",\"Fairbanks\",\"White Swan\",\"Lansing\",\"South Cle Elum\",\"Dickinson\",\"Mountain View\",\"Bedford\",\"Beaver\",\"Salt Lake City\",\"Beaufort\",\"Southern Pines\",\"Haddonfield\",\"Harker Heights\",\"San Rafael\",\"Orchards\",\"Avalon\",\"Westminster\",\"Napavine\",\"Napa\",\"Augusta\",\"Vader\",\"Menlo\",\"Chesapeake\",\"Pomeroy\",\"Grand Coulee\",\"Raymond\",\"Davenport\",\"Cinebar\",\"Evans\",\"Gambrills\",\"Edwall\",\"Tekoa\",\"Electric City\",\"Frances\",\"Odenton\",\"Murdock\",\"Oceanside\",\"Naselle\",\"Tukwila\",\"Toutle\",\"Dallesport\",\"Union Gap\",\"Acme\",\"Grayland\",\"Ocean Park\",\"Surfside\",\"Benton City\",\"Chinook\",\"Neah Bay\",\"Wilbur\",\"South Prairie\",\"Silver Creek\",\"Deer Meadows\",\"Warden\",\"Oysterville\",\"Bay Center\",\"Eltopia\",\"Wishram\",\"Englewood\",\"Omak\",\"Omaha\",\"Glenwood\",\"Soap Lake\",\"Amanda Park\",\"Snowden\",\"Glenoma\",\"Fayetteville\",\"North Cove\",\"Addy\",\"Fruitland\",\"Seven Bays\",\"Silver Spring\",\"Endicott\",\"Mesa\",\"Belle Chasse\",\"Kapowsin\",\"Upper Marlboro\",\"Burke\",\"Cougar\",\"Lind\",\"Coulee Dam\",\"Colton\",\"Incorporated\",\"Reardan\",\"Maple Falls\",\"Portsmouth\",\"Stafford\",\"Tokeland\",\"Prescott\",\"Hunters\",\"Tonasket\",\"Chesapeake Beach\",\"Curtis\",\"Roosevelt\",\"Centralia\",\"Oakville\",\"Chewelah\",\"San Diego\",\"Valleyford\",\"Ariel\",\"Ilwaco\",\"Long Beach\",\"Naches\",\"Hoquiam\",\"Spangle\",\"Airway Heights\",\"Alexandria\",\"Sunnyside\",\"Granger\",\"Seaview\",\"Ocean Shores\",\"Grandview\",\"Mossyrock\",\"Oroville\",\"Clarkston\",\"Union\",\"Yacolt\",\"Montesano\",\"Carlton\",\"Pateros\",\"Las Vegas\",\"Norfolk\",\"Wilkeson\",\"Ephrata\",\"San Antonio\",\"Colville\",\"Westport\",\"Cathlamet\",\"Underwood\",\"Eatonville\",\"Port Angeles\",\"Spokane Valley\",\"Oak Harbor\",\"Orcas Is\",\"Mead\",\"Burbank\",\"Valley\",\"Chehalis\",\"Colfax\",\"Deer Park\",\"Fox Island\",\"Aberdeen\",\"Forks\",\"Stevenson\",\"Packwood\",\"Mccleary\",\"Ruston\",\"College Place\",\"Elma\",\"Parkland\",\"Longbranch\",\"Carson\",\"Rochester\",\"Twisp\",\"Yakima\",\"Hoodsport\",\"Port Townsend\",\"Cheney\",\"Port Ludlow\",\"Shelton\",\"Kennewick\",\"Usk\",\"Sumas\",\"Lemoore\",\"Cosmopolis\",\"Rock Island\",\"Irvine\",\"Clearlake\",\"Lincoln\",\"Lopez Is\",\"Los Angeles\",\"Orting\",\"Ford\",\"Onalaska\",\"Ashford\",\"Nahcotta\",\"Baring\",\"Goldendale\",\"Bz Corner\",\"Ethel\",\"Taholah\",\"Moclips\",\"South Bend\",\"Buena Park\",\"Woodland\",\"Walla Walla\",\"Buckley\",\"Grapeview\",\"Pullman\",\"Enumclaw\",\"Ravensdale\",\"Washougal\",\"Longview\",\"Otis Orchards\",\"Winthrop\",\"Winlock\",\"Sequim\",\"Richland\",\"Allyn\",\"Entiat\",\"Tenino\",\"Tumwater\",\"Moses Lake\",\"Greenacres\",\"Port Orchard\",\"Ritzville\",\"Poulsbo\",\"Graham\",\"Spokane\",\"Lummi Island\",\"West Richland\",\"Yelm\",\"Medical Lake\",\"Spanaway\",\"Brush Prairie\",\"Amboy\",\"Waitsburg\",\"Hansville\",\"Burlington\",\"Steilacoom\",\"Nine Mile Falls\",\"La Center\",\"Pasco\",\"Vancouver\",\"Joint Base Lewis Mcchord\",\"Kalama\",\"Lakewood\",\"Colbert\",\"Coupeville\",\"Bremerton\",\"Blaine\",\"Rainier\",\"Ferndale\",\"Olympia\",\"Roy\",\"Dupont\",\"Republic\",\"Langley\",\"Vaughn\",\"Ronald\",\"Lyle\",\"Liberty Lake\",\"Belfair\",\"Des Moines\",\"Sedro-Woolley\",\"Gold Bar\",\"Battle Ground\",\"Ridgefield\",\"Seabeck\",\"Anacortes\",\"Quilcene\",\"East Wenatchee\",\"Prosser\",\"Tacoma\",\"Kingston\",\"Lacey\",\"Kelso\",\"Vashon\",\"Silverlake\",\"Lynden\",\"Point Roberts\",\"South Hill\",\"Ellensburg\",\"Bow\",\"Newport\",\"University Place\",\"Federal Way\",\"Greenbank\",\"Bainbridge Island\",\"Kettle Falls\",\"Milton\",\"Puyallup\",\"La Conner\",\"Clinton\",\"Granite Falls\",\"Newman Lake\",\"Anderson Island\",\"Freeland\",\"Othello\",\"Bellingham\",\"Auburn\",\"Wapato\",\"Outlook\",\"Snoqualmie Pass\",\"Beaux Arts\",\"Algona\",\"Nooksack\",\"Moxee\",\"Elk\",\"Colorado Springs\",\"Mica\",\"Veradale\",\"Selah\",\"Lakebay\",\"Riverside\",\"Touchet\",\"Mattawa\",\"Tulalip\",\"Husum\",\"Palouse\",\"Camano Island\",\"Skamokawa\",\"Mabton\",\"Loon Lake\",\"Everett\",\"Mount Vernon\",\"Stanwood\",\"Arlington\",\"Gig Harbor\",\"Peshastin\",\"Trout Lake\",\"Lopez Island\",\"Eastsound\",\"Edmonds\",\"Normandy Park\",\"Camas\",\"Shaw Island\",\"Silverdale\",\"Marysville\",\"Renton\",\"Cashmere\",\"Edgewood\",\"Burien\",\"Monroe\",\"Glacier\",\"Tahuya\",\"Asotin\",\"Suquamish\",\"Toppenish\",\"Indianola\",\"Seattle\",\"Lake Stevens\",\"Fircrest\",\"Zillah\",\"Bonney Lake\",\"Snoqualmie\",\"Kent\",\"Royal City\",\"Sedro Woolley\",\"Toledo\",\"Brier\",\"Lake Forest Park\",\"Fall City\",\"Lake Tapps\",\"Port Hadlock\",\"Deming\",\"Castle Rock\",\"Carnation\",\"Fife\",\"Snohomish\",\"Chimacum\",\"Pacific\",\"Mountlake Terrace\",\"Shoreline\",\"Sumner\",\"Everson\",\"Friday Harbor\",\"Maple Valley\",\"Sultan\",\"Kenmore\",\"Rice\",\"Rockford\",\"Connell\",\"Covington\",\"Woodway\",\"Mill Creek\",\"Mercer Island\",\"Chelan\",\"Concrete\",\"Yarrow Point\",\"Duvall\",\"Leavenworth\",\"Brinnon\",\"Easton\",\"Wenatchee\",\"North Bend\",\"Manson\",\"Mukilteo\",\"Pacific Beach\",\"Olalla\",\"White Salmon\",\"Chattaroy\",\"Custer\",\"Quincy\",\"Woodinville\",\"Kirkland\",\"Mineral\",\"Olga\",\"Preston\",\"Nordland\",\"Newcastle\",\"Bothell\",\"Lynnwood\",\"Issaquah\",\"Bellevue\",\"Cle Elum\",\"Redmond\",\"Orondo\",\"Roslyn\",\"Lilliwaup\",\"Curlew\",\"Sammamish\",\"Black Diamond\",\"Dayton\",\"Rosalia\",\"North Bonneville\",\"Seatac\",\"Medina\",\"Keyport\",\"Darrington\",\"Coulee City\",\"Clyde Hill\",\"Malaga\",\"Brewster\",\"Fairchild Air Force Base\",\"Morton\",\"Mazama\",\"Hunts Point\",\"Methow\",\"Trinidad\",\"Tumtum\",\"Chevy Chase\",\"Cheyenne\",\"Palo Alto\",\"Twentynine Palms\",\"Middletown\",\"Charleston Afb\",\"Chandler\",\"Uniontown\",\"Cathedral City\",\"Minneapolis\",\"Chelmsford\",\"Travis Afb\",\"Clarksville\",\"Cincinnati\",\"Summerville\",\"Mascoutah\",\"Sumter\",\"Cowiche\",\"Suwanee\",\"Corvallis\",\"Copalis Crossing\",\"Copalis Beach\",\"Conyers\",\"Pe Ell\",\"Mechanicsburg\",\"Thorp\",\"Tieton\",\"Timnath\",\"Menifee\",\"Vacaville\",\"Clallam Bay\",\"Chula Vista\",\"Carbonado\",\"Bucoda\",\"Cupertino\",\"Aurora\",\"Asheboro\",\"Okatie\",\"Artondale\",\"Wichita Falls\",\"Arnold\",\"Wildomar\",\"Arlington Heights\",\"Anthem\",\"Annapolis\",\"Andrews Air Force Base\",\"Okanogan\",\"Alhambra\",\"Odessa\",\"Worley\",\"Wylie\",\"Aldie\",\"Alderdale\",\"Norristown\",\"Bell Hill\",\"Belleville\",\"Newport News\",\"Waterville\",\"Mount Pleasant\",\"Vantage\",\"Mountain Home Afb\",\"Bridgeport Bar\",\"Ventura\",\"Bridgeport\",\"Virginia Beach\",\"Mystic\",\"Nespelem\",\"Canoga Park\",\"Waldorf\",\"Newark\",\"Bingen\",\"Biloxi\",\"Berkeley\",\"Warner Robins\",\"Washington\",\"Benicia\",\"Newport Beach\",\"Watertown\",\"Waldron\",\"Phoenix\",\"Marlin\",\"Stratford\",\"Lebam\",\"Harrington\",\"San Clemente\",\"Hanscom Afb\",\"San Jose\",\"San Mateo\",\"Hamilton\",\"Santa Ana\",\"Hartline\",\"Santa Clara\",\"Greenfield Center\",\"Sarasota\",\"Grays River\",\"Satsop\",\"Scottsdale\",\"Goldsboro\",\"Seaside\",\"Gifford\",\"Santa Cruz\",\"Salkum\",\"Hatton\",\"Saint Jacob\",\"Killeen\",\"Keedysville\",\"Kailua\",\"Junction City\",\"Jericho\",\"Kittitas\",\"Indio\",\"Raeford\",\"Index\",\"Inchelium\",\"Quinault\",\"Rosamond\",\"Rosburg\",\"Las Cruces\",\"Honolulu\",\"Latah\",\"Highland Park\",\"Herndon\",\"Sacramento\",\"Gatesville\",\"Prosper\",\"Gaithersburg\",\"Sekiu\",\"El Paso\",\"Edgewater\",\"Longmont\",\"South Range\",\"Dryden\",\"Southlake\",\"Dover\",\"Malott\",\"Deer Harbor\",\"Decatur\",\"Mansfield\",\"Spring Lake\",\"Springdale\",\"St John\",\"Danville\",\"Dallas\",\"Staten Island\",\"Platte City\",\"Kenn\",\"Sonoma\",\"Suffolk\",\"Lompoc\",\"Little Elm\",\"Pros\",\"Fremont\",\"Fredericksburg\",\"Frederick\",\"Fort Wayne\",\"Sheridan\",\"Leesville\",\"Fort Leavenworth\",\"North Las Vegas\",\"Fort Lauderdale\",\"Fort Irwin\",\"Fort George G Meade\",\"Fort Campbell\",\"Skokie\",\"Skykomish\",\"Slidell\",\"Lexington Park\",\"Smiths Station\",\"Libertyville\",\"Little Rock\",\"Silver Lake\"],\"y\":[0.0,0.0,0.0,0.0,0.0,0.0,0.0,0.0,0.0,0.0,0.0,0.0,0.0,0.0,0.0,0.0,0.0,0.0,0.0,0.0,0.0,0.0,0.0,0.0,0.0,0.0,0.0,0.0,0.0,0.0,0.0,0.0,0.0,0.0,0.0,0.0,0.0,0.0,0.0,0.0,0.0,0.0,0.0,0.0,0.0,0.0,0.0,0.0,0.0,0.0,0.0,0.0,0.0,0.0,0.0,0.0,0.0,0.0,0.0,0.0,0.0,0.0,0.0,0.0,0.0,0.0,0.0,0.0,0.0,0.0,0.0,0.0,0.0,0.0,0.0,0.0,0.0,0.0,0.0,0.0,0.0,0.0,0.0,0.0,0.2,0.2,0.25,0.25,0.25,0.2857142857142857,0.3333333333333333,0.3333333333333333,0.3333333333333333,0.3333333333333333,0.3333333333333333,0.3333333333333333,0.3333333333333333,0.3333333333333333,0.3333333333333333,0.3333333333333333,0.3333333333333333,0.35714285714285715,0.3680672268907563,0.4,0.4,0.4,0.42857142857142855,0.42857142857142855,0.4666666666666667,0.47368421052631576,0.4791666666666667,0.5,0.5,0.5,0.5,0.5,0.5,0.5,0.5,0.5,0.5,0.5,0.5,0.5,0.5,0.5,0.5,0.5,0.5,0.5,0.5,0.5,0.5,0.5,0.5,0.5,0.5,0.5,0.5,0.5,0.5,0.5,0.5,0.5,0.5,0.5,0.5,0.5,0.5,0.5,0.5,0.5,0.5,0.5,0.5,0.5,0.5,0.5,0.5333333333333333,0.5333333333333333,0.5333333333333333,0.5384615384615384,0.5384615384615384,0.5384615384615384,0.5384615384615384,0.5483870967741935,0.55,0.5531914893617021,0.5555555555555556,0.5555555555555556,0.5555555555555556,0.5609756097560976,0.5714285714285714,0.5714285714285714,0.5757575757575758,0.5789473684210527,0.5789473684210527,0.5833333333333334,0.5869565217391305,0.5882352941176471,0.59375,0.5967741935483871,0.6,0.6,0.6,0.6,0.6,0.6,0.6,0.6097560975609756,0.6111111111111112,0.6176470588235294,0.6190476190476191,0.6195652173913043,0.6204819277108434,0.6212121212121212,0.6228571428571429,0.625,0.625,0.625,0.625,0.625,0.625,0.625,0.6339869281045751,0.6347826086956522,0.6363636363636364,0.6363636363636364,0.6363636363636364,0.6363636363636364,0.6363636363636364,0.6363636363636364,0.6382978723404256,0.6428571428571429,0.6428571428571429,0.6428571428571429,0.6444444444444445,0.6486486486486487,0.6560509554140127,0.65625,0.6576402321083172,0.6581196581196581,0.6634615384615384,0.6644067796610169,0.6646616541353384,0.6666666666666666,0.6666666666666666,0.6666666666666666,0.6666666666666666,0.6666666666666666,0.6666666666666666,0.6666666666666666,0.6666666666666666,0.6666666666666666,0.6666666666666666,0.6666666666666666,0.6666666666666666,0.6666666666666666,0.6666666666666666,0.6666666666666666,0.6666666666666666,0.6666666666666666,0.6666666666666666,0.6666666666666666,0.6666666666666666,0.6666666666666666,0.6666666666666666,0.6666666666666666,0.6693548387096774,0.6715867158671587,0.6727272727272727,0.673469387755102,0.6742857142857143,0.6746987951807228,0.676056338028169,0.677570093457944,0.6781609195402298,0.6785714285714286,0.6792452830188679,0.6808510638297872,0.6829787234042554,0.6830294530154277,0.6842105263157895,0.6842105263157895,0.6857142857142857,0.6864754098360656,0.6881188118811881,0.6888888888888889,0.6895161290322581,0.6923076923076923,0.6928982725527831,0.6936936936936937,0.69425763062597,0.6944444444444444,0.6946107784431138,0.6954314720812182,0.6956521739130435,0.6985815602836879,0.7,0.7,0.7,0.7,0.7,0.7021276595744681,0.7021276595744681,0.7028985507246377,0.7031630170316302,0.7065778159931212,0.7068965517241379,0.7073170731707317,0.7076923076923077,0.7088607594936709,0.7090909090909091,0.7098214285714286,0.711038961038961,0.7111111111111111,0.7111111111111111,0.7114649681528662,0.7127659574468085,0.7132352941176471,0.7142857142857143,0.7142857142857143,0.7142857142857143,0.7142857142857143,0.7142857142857143,0.7152317880794702,0.7154471544715447,0.7154696132596685,0.7165354330708661,0.717391304347826,0.717391304347826,0.7207890743550834,0.7213114754098361,0.7214022140221402,0.7222222222222222,0.7225130890052356,0.723404255319149,0.7234738372093024,0.7235023041474654,0.7240853658536586,0.7254901960784313,0.7263969171483622,0.7272727272727273,0.7272727272727273,0.7272727272727273,0.7274939172749392,0.7281553398058253,0.7283950617283951,0.7297297297297297,0.7327102803738318,0.7337917485265226,0.7346938775510204,0.7365056818181818,0.7368421052631579,0.7368421052631579,0.7377622377622378,0.7391304347826086,0.7393939393939394,0.7394957983193278,0.7407407407407407,0.7419354838709677,0.7423312883435583,0.7428571428571429,0.7431275349256422,0.7447425670775925,0.75,0.75,0.75,0.75,0.75,0.75,0.75,0.75,0.75,0.75,0.75,0.75,0.75,0.75,0.75,0.75,0.75,0.75,0.75,0.75,0.75,0.75,0.75,0.7518710420264825,0.7572614107883817,0.7603833865814696,0.7606635071090048,0.7645861601085482,0.7647058823529411,0.7647058823529411,0.7647058823529411,0.7663934426229508,0.7680448493342676,0.7685589519650655,0.7688966116420504,0.7692307692307693,0.7701149425287356,0.770573566084788,0.7734823316218665,0.7735849056603774,0.774468085106383,0.775609756097561,0.7775735294117647,0.7777777777777778,0.7777777777777778,0.7777777777777778,0.7777777777777778,0.7777777777777778,0.7777777777777778,0.7797239451384642,0.7797552836484983,0.78,0.782608695652174,0.782608695652174,0.7847896440129449,0.785181236673774,0.7857142857142857,0.7857142857142857,0.7857142857142857,0.7857142857142857,0.7865384615384615,0.7868852459016393,0.7876447876447876,0.7894736842105263,0.7894736842105263,0.7894736842105263,0.7906137184115524,0.7906976744186046,0.7913907284768212,0.7916666666666666,0.7916666666666666,0.7945619335347432,0.7962447844228094,0.7969924812030075,0.7971014492753623,0.7978142076502732,0.7980099502487562,0.7980769230769231,0.7981770833333334,0.8,0.8,0.8,0.8020050125313283,0.8026315789473685,0.803347280334728,0.8043593833067517,0.8064516129032258,0.8076923076923077,0.8095238095238095,0.8112359550561797,0.8121546961325967,0.8125,0.8125,0.8157894736842105,0.8175046554934823,0.8181818181818182,0.8191304347826087,0.8235294117647058,0.8243243243243243,0.8247422680412371,0.8260869565217391,0.8260869565217391,0.8309859154929577,0.8310552214324768,0.8322279538197003,0.8333333333333334,0.8378378378378378,0.84,0.8409090909090909,0.8413391557496361,0.8439363817097415,0.8470982142857143,0.8484551250613046,0.8489922940130409,0.8513513513513513,0.8531120331950207,0.8536585365853658,0.8571428571428571,0.8571428571428571,0.8571428571428571,0.8601728201099764,0.8653846153846154,0.8666666666666667,0.875,0.875,0.8803245436105477,0.8844765342960289,0.8888888888888888,0.8888888888888888,0.8888888888888888,0.8888888888888888,0.8947368421052632,0.9,0.9,0.9166666666666666,0.9333333333333333,0.94,1.0,1.0,1.0,1.0,1.0,1.0,1.0,1.0,1.0,1.0,1.0,1.0,1.0,1.0,1.0,1.0,1.0,1.0,1.0,1.0,1.0,1.0,1.0,1.0,1.0,1.0,1.0,1.0,1.0,1.0,1.0,1.0,1.0,1.0,1.0,1.0,1.0,1.0,1.0,1.0,1.0,1.0,1.0,1.0,1.0,1.0,1.0,1.0,1.0,1.0,1.0,1.0,1.0,1.0,1.0,1.0,1.0,1.0,1.0,1.0,1.0,1.0,1.0,1.0,1.0,1.0,1.0,1.0,1.0,1.0,1.0,1.0,1.0,1.0,1.0,1.0,1.0,1.0,1.0,1.0,1.0,1.0,1.0,1.0,1.0,1.0,1.0,1.0,1.0,1.0,1.0,1.0,1.0,1.0,1.0,1.0,1.0,1.0,1.0,1.0,1.0,1.0,1.0,1.0,1.0,1.0,1.0,1.0,1.0,1.0,1.0,1.0,1.0,1.0,1.0,1.0,1.0,1.0,1.0,1.0,1.0,1.0,1.0,1.0,1.0,1.0,1.0,1.0,1.0,1.0,1.0,1.0,1.0,1.0,1.0,1.0,1.0,1.0,1.0,1.0,1.0,1.0,1.0,1.0,1.0,1.0,1.0,1.0,1.0,1.0,1.0,1.0,1.0,1.0,1.0,1.0,1.0,1.0,1.0,1.0,1.0,1.0,1.0,1.0,1.0,1.0,1.0,1.0,1.0,1.0,1.0,1.0,1.0,1.0],\"type\":\"bar\"},{\"marker\":{\"color\":\"rgba(55, 128, 191, 0.6)\",\"line\":{\"color\":\"rgba(55, 128, 191, 1.0)\",\"width\":1}},\"name\":\"Plug-in Hybrid Electric Vehicle (PHEV)\",\"orientation\":\"v\",\"text\":\"\",\"x\":[\"Fort Walton Beach\",\"Marblemount\",\"Pittsburg\",\"Cusick\",\"Maryhill\",\"Petoskey\",\"McCleary\",\"Mcchord Afb\",\"Mccutcheon Field\",\"Plymouth\",\"Pawcatuck\",\"Medford\",\"Hughesville\",\"Wahkiacus\",\"Springfield\",\"Parker\",\"Walla Walla Co\",\"Ryderwood\",\"Henrico\",\"Vienna\",\"Rockport\",\"Joint Base Mdl\",\"Coronado\",\"Laughlin\",\"Lancaster\",\"Clayton\",\"Potomac\",\"Lamont\",\"Lincoln City\",\"Randle\",\"Klickitat\",\"Rayville\",\"Kekaha\",\"Tempe\",\"Temecula\",\"Lithia\",\"Portland\",\"Carrolls\",\"Carmel By The Sea\",\"Ridgecrest\",\"Port Gamble\",\"Madison\",\"Moraga\",\"Waterford\",\"Sprague\",\"Salem\",\"Saratoga Springs\",\"Weslaco\",\"Apple Valley\",\"Goshen\",\"Goodyear\",\"Old Lyme\",\"Eugene\",\"Ewa Beach\",\"Santa Rosa\",\"Altus\",\"Fairfield\",\"Germantown\",\"Felts Mills\",\"Smith Creek\",\"Garfield\",\"Gardena\",\"Aiea\",\"Fort Bragg\",\"Fairbanks\",\"White Swan\",\"Lansing\",\"South Cle Elum\",\"Dickinson\",\"Mountain View\",\"Bedford\",\"Beaver\",\"Salt Lake City\",\"Beaufort\",\"Southern Pines\",\"Haddonfield\",\"Harker Heights\",\"San Rafael\",\"Orchards\",\"Avalon\",\"Westminster\",\"Napavine\",\"Napa\",\"Augusta\",\"Vader\",\"Menlo\",\"Chesapeake\",\"Pomeroy\",\"Grand Coulee\",\"Raymond\",\"Davenport\",\"Cinebar\",\"Evans\",\"Gambrills\",\"Edwall\",\"Tekoa\",\"Electric City\",\"Frances\",\"Odenton\",\"Murdock\",\"Oceanside\",\"Naselle\",\"Tukwila\",\"Toutle\",\"Dallesport\",\"Union Gap\",\"Acme\",\"Grayland\",\"Ocean Park\",\"Surfside\",\"Benton City\",\"Chinook\",\"Neah Bay\",\"Wilbur\",\"South Prairie\",\"Silver Creek\",\"Deer Meadows\",\"Warden\",\"Oysterville\",\"Bay Center\",\"Eltopia\",\"Wishram\",\"Englewood\",\"Omak\",\"Omaha\",\"Glenwood\",\"Soap Lake\",\"Amanda Park\",\"Snowden\",\"Glenoma\",\"Fayetteville\",\"North Cove\",\"Addy\",\"Fruitland\",\"Seven Bays\",\"Silver Spring\",\"Endicott\",\"Mesa\",\"Belle Chasse\",\"Kapowsin\",\"Upper Marlboro\",\"Burke\",\"Cougar\",\"Lind\",\"Coulee Dam\",\"Colton\",\"Incorporated\",\"Reardan\",\"Maple Falls\",\"Portsmouth\",\"Stafford\",\"Tokeland\",\"Prescott\",\"Hunters\",\"Tonasket\",\"Chesapeake Beach\",\"Curtis\",\"Roosevelt\",\"Centralia\",\"Oakville\",\"Chewelah\",\"San Diego\",\"Valleyford\",\"Ariel\",\"Ilwaco\",\"Long Beach\",\"Naches\",\"Hoquiam\",\"Spangle\",\"Airway Heights\",\"Alexandria\",\"Sunnyside\",\"Granger\",\"Seaview\",\"Ocean Shores\",\"Grandview\",\"Mossyrock\",\"Oroville\",\"Clarkston\",\"Union\",\"Yacolt\",\"Montesano\",\"Carlton\",\"Pateros\",\"Las Vegas\",\"Norfolk\",\"Wilkeson\",\"Ephrata\",\"San Antonio\",\"Colville\",\"Westport\",\"Cathlamet\",\"Underwood\",\"Eatonville\",\"Port Angeles\",\"Spokane Valley\",\"Oak Harbor\",\"Orcas Is\",\"Mead\",\"Burbank\",\"Valley\",\"Chehalis\",\"Colfax\",\"Deer Park\",\"Fox Island\",\"Aberdeen\",\"Forks\",\"Stevenson\",\"Packwood\",\"Mccleary\",\"Ruston\",\"College Place\",\"Elma\",\"Parkland\",\"Longbranch\",\"Carson\",\"Rochester\",\"Twisp\",\"Yakima\",\"Hoodsport\",\"Port Townsend\",\"Cheney\",\"Port Ludlow\",\"Shelton\",\"Kennewick\",\"Usk\",\"Sumas\",\"Lemoore\",\"Cosmopolis\",\"Rock Island\",\"Irvine\",\"Clearlake\",\"Lincoln\",\"Lopez Is\",\"Los Angeles\",\"Orting\",\"Ford\",\"Onalaska\",\"Ashford\",\"Nahcotta\",\"Baring\",\"Goldendale\",\"Bz Corner\",\"Ethel\",\"Taholah\",\"Moclips\",\"South Bend\",\"Buena Park\",\"Woodland\",\"Walla Walla\",\"Buckley\",\"Grapeview\",\"Pullman\",\"Enumclaw\",\"Ravensdale\",\"Washougal\",\"Longview\",\"Otis Orchards\",\"Winthrop\",\"Winlock\",\"Sequim\",\"Richland\",\"Allyn\",\"Entiat\",\"Tenino\",\"Tumwater\",\"Moses Lake\",\"Greenacres\",\"Port Orchard\",\"Ritzville\",\"Poulsbo\",\"Graham\",\"Spokane\",\"Lummi Island\",\"West Richland\",\"Yelm\",\"Medical Lake\",\"Spanaway\",\"Brush Prairie\",\"Amboy\",\"Waitsburg\",\"Hansville\",\"Burlington\",\"Steilacoom\",\"Nine Mile Falls\",\"La Center\",\"Pasco\",\"Vancouver\",\"Joint Base Lewis Mcchord\",\"Kalama\",\"Lakewood\",\"Colbert\",\"Coupeville\",\"Bremerton\",\"Blaine\",\"Rainier\",\"Ferndale\",\"Olympia\",\"Roy\",\"Dupont\",\"Republic\",\"Langley\",\"Vaughn\",\"Ronald\",\"Lyle\",\"Liberty Lake\",\"Belfair\",\"Des Moines\",\"Sedro-Woolley\",\"Gold Bar\",\"Battle Ground\",\"Ridgefield\",\"Seabeck\",\"Anacortes\",\"Quilcene\",\"East Wenatchee\",\"Prosser\",\"Tacoma\",\"Kingston\",\"Lacey\",\"Kelso\",\"Vashon\",\"Silverlake\",\"Lynden\",\"Point Roberts\",\"South Hill\",\"Ellensburg\",\"Bow\",\"Newport\",\"University Place\",\"Federal Way\",\"Greenbank\",\"Bainbridge Island\",\"Kettle Falls\",\"Milton\",\"Puyallup\",\"La Conner\",\"Clinton\",\"Granite Falls\",\"Newman Lake\",\"Anderson Island\",\"Freeland\",\"Othello\",\"Bellingham\",\"Auburn\",\"Wapato\",\"Outlook\",\"Snoqualmie Pass\",\"Beaux Arts\",\"Algona\",\"Nooksack\",\"Moxee\",\"Elk\",\"Colorado Springs\",\"Mica\",\"Veradale\",\"Selah\",\"Lakebay\",\"Riverside\",\"Touchet\",\"Mattawa\",\"Tulalip\",\"Husum\",\"Palouse\",\"Camano Island\",\"Skamokawa\",\"Mabton\",\"Loon Lake\",\"Everett\",\"Mount Vernon\",\"Stanwood\",\"Arlington\",\"Gig Harbor\",\"Peshastin\",\"Trout Lake\",\"Lopez Island\",\"Eastsound\",\"Edmonds\",\"Normandy Park\",\"Camas\",\"Shaw Island\",\"Silverdale\",\"Marysville\",\"Renton\",\"Cashmere\",\"Edgewood\",\"Burien\",\"Monroe\",\"Glacier\",\"Tahuya\",\"Asotin\",\"Suquamish\",\"Toppenish\",\"Indianola\",\"Seattle\",\"Lake Stevens\",\"Fircrest\",\"Zillah\",\"Bonney Lake\",\"Snoqualmie\",\"Kent\",\"Royal City\",\"Sedro Woolley\",\"Toledo\",\"Brier\",\"Lake Forest Park\",\"Fall City\",\"Lake Tapps\",\"Port Hadlock\",\"Deming\",\"Castle Rock\",\"Carnation\",\"Fife\",\"Snohomish\",\"Chimacum\",\"Pacific\",\"Mountlake Terrace\",\"Shoreline\",\"Sumner\",\"Everson\",\"Friday Harbor\",\"Maple Valley\",\"Sultan\",\"Kenmore\",\"Rice\",\"Rockford\",\"Connell\",\"Covington\",\"Woodway\",\"Mill Creek\",\"Mercer Island\",\"Chelan\",\"Concrete\",\"Yarrow Point\",\"Duvall\",\"Leavenworth\",\"Brinnon\",\"Easton\",\"Wenatchee\",\"North Bend\",\"Manson\",\"Mukilteo\",\"Pacific Beach\",\"Olalla\",\"White Salmon\",\"Chattaroy\",\"Custer\",\"Quincy\",\"Woodinville\",\"Kirkland\",\"Mineral\",\"Olga\",\"Preston\",\"Nordland\",\"Newcastle\",\"Bothell\",\"Lynnwood\",\"Issaquah\",\"Bellevue\",\"Cle Elum\",\"Redmond\",\"Orondo\",\"Roslyn\",\"Lilliwaup\",\"Curlew\",\"Sammamish\",\"Black Diamond\",\"Dayton\",\"Rosalia\",\"North Bonneville\",\"Seatac\",\"Medina\",\"Keyport\",\"Darrington\",\"Coulee City\",\"Clyde Hill\",\"Malaga\",\"Brewster\",\"Fairchild Air Force Base\",\"Morton\",\"Mazama\",\"Hunts Point\",\"Methow\",\"Trinidad\",\"Tumtum\",\"Chevy Chase\",\"Cheyenne\",\"Palo Alto\",\"Twentynine Palms\",\"Middletown\",\"Charleston Afb\",\"Chandler\",\"Uniontown\",\"Cathedral City\",\"Minneapolis\",\"Chelmsford\",\"Travis Afb\",\"Clarksville\",\"Cincinnati\",\"Summerville\",\"Mascoutah\",\"Sumter\",\"Cowiche\",\"Suwanee\",\"Corvallis\",\"Copalis Crossing\",\"Copalis Beach\",\"Conyers\",\"Pe Ell\",\"Mechanicsburg\",\"Thorp\",\"Tieton\",\"Timnath\",\"Menifee\",\"Vacaville\",\"Clallam Bay\",\"Chula Vista\",\"Carbonado\",\"Bucoda\",\"Cupertino\",\"Aurora\",\"Asheboro\",\"Okatie\",\"Artondale\",\"Wichita Falls\",\"Arnold\",\"Wildomar\",\"Arlington Heights\",\"Anthem\",\"Annapolis\",\"Andrews Air Force Base\",\"Okanogan\",\"Alhambra\",\"Odessa\",\"Worley\",\"Wylie\",\"Aldie\",\"Alderdale\",\"Norristown\",\"Bell Hill\",\"Belleville\",\"Newport News\",\"Waterville\",\"Mount Pleasant\",\"Vantage\",\"Mountain Home Afb\",\"Bridgeport Bar\",\"Ventura\",\"Bridgeport\",\"Virginia Beach\",\"Mystic\",\"Nespelem\",\"Canoga Park\",\"Waldorf\",\"Newark\",\"Bingen\",\"Biloxi\",\"Berkeley\",\"Warner Robins\",\"Washington\",\"Benicia\",\"Newport Beach\",\"Watertown\",\"Waldron\",\"Phoenix\",\"Marlin\",\"Stratford\",\"Lebam\",\"Harrington\",\"San Clemente\",\"Hanscom Afb\",\"San Jose\",\"San Mateo\",\"Hamilton\",\"Santa Ana\",\"Hartline\",\"Santa Clara\",\"Greenfield Center\",\"Sarasota\",\"Grays River\",\"Satsop\",\"Scottsdale\",\"Goldsboro\",\"Seaside\",\"Gifford\",\"Santa Cruz\",\"Salkum\",\"Hatton\",\"Saint Jacob\",\"Killeen\",\"Keedysville\",\"Kailua\",\"Junction City\",\"Jericho\",\"Kittitas\",\"Indio\",\"Raeford\",\"Index\",\"Inchelium\",\"Quinault\",\"Rosamond\",\"Rosburg\",\"Las Cruces\",\"Honolulu\",\"Latah\",\"Highland Park\",\"Herndon\",\"Sacramento\",\"Gatesville\",\"Prosper\",\"Gaithersburg\",\"Sekiu\",\"El Paso\",\"Edgewater\",\"Longmont\",\"South Range\",\"Dryden\",\"Southlake\",\"Dover\",\"Malott\",\"Deer Harbor\",\"Decatur\",\"Mansfield\",\"Spring Lake\",\"Springdale\",\"St John\",\"Danville\",\"Dallas\",\"Staten Island\",\"Platte City\",\"Kenn\",\"Sonoma\",\"Suffolk\",\"Lompoc\",\"Little Elm\",\"Pros\",\"Fremont\",\"Fredericksburg\",\"Frederick\",\"Fort Wayne\",\"Sheridan\",\"Leesville\",\"Fort Leavenworth\",\"North Las Vegas\",\"Fort Lauderdale\",\"Fort Irwin\",\"Fort George G Meade\",\"Fort Campbell\",\"Skokie\",\"Skykomish\",\"Slidell\",\"Lexington Park\",\"Smiths Station\",\"Libertyville\",\"Little Rock\",\"Silver Lake\"],\"y\":[1.0,1.0,1.0,1.0,1.0,1.0,1.0,1.0,1.0,1.0,1.0,1.0,1.0,1.0,1.0,1.0,1.0,1.0,1.0,1.0,1.0,1.0,1.0,1.0,1.0,1.0,1.0,1.0,1.0,1.0,1.0,1.0,1.0,1.0,1.0,1.0,1.0,1.0,1.0,1.0,1.0,1.0,1.0,1.0,1.0,1.0,1.0,1.0,1.0,1.0,1.0,1.0,1.0,1.0,1.0,1.0,1.0,1.0,1.0,1.0,1.0,1.0,1.0,1.0,1.0,1.0,1.0,1.0,1.0,1.0,1.0,1.0,1.0,1.0,1.0,1.0,1.0,1.0,1.0,1.0,1.0,1.0,1.0,1.0,0.8,0.8,0.75,0.75,0.75,0.7142857142857143,0.6666666666666666,0.6666666666666666,0.6666666666666666,0.6666666666666666,0.6666666666666666,0.6666666666666666,0.6666666666666666,0.6666666666666666,0.6666666666666666,0.6666666666666666,0.6666666666666666,0.6428571428571429,0.6319327731092437,0.6,0.6,0.6,0.5714285714285714,0.5714285714285714,0.5333333333333333,0.5263157894736842,0.5208333333333334,0.5,0.5,0.5,0.5,0.5,0.5,0.5,0.5,0.5,0.5,0.5,0.5,0.5,0.5,0.5,0.5,0.5,0.5,0.5,0.5,0.5,0.5,0.5,0.5,0.5,0.5,0.5,0.5,0.5,0.5,0.5,0.5,0.5,0.5,0.5,0.5,0.5,0.5,0.5,0.5,0.5,0.5,0.5,0.5,0.5,0.5,0.5,0.4666666666666667,0.4666666666666667,0.4666666666666667,0.46153846153846156,0.46153846153846156,0.46153846153846156,0.46153846153846156,0.45161290322580644,0.45,0.44680851063829785,0.4444444444444444,0.4444444444444444,0.4444444444444444,0.43902439024390244,0.42857142857142855,0.42857142857142855,0.42424242424242425,0.42105263157894735,0.42105263157894735,0.4166666666666667,0.41304347826086957,0.4117647058823529,0.40625,0.4032258064516129,0.4,0.4,0.4,0.4,0.4,0.4,0.4,0.3902439024390244,0.3888888888888889,0.38235294117647056,0.38095238095238093,0.3804347826086957,0.3795180722891566,0.3787878787878788,0.37714285714285717,0.375,0.375,0.375,0.375,0.375,0.375,0.375,0.3660130718954248,0.3652173913043478,0.36363636363636365,0.36363636363636365,0.36363636363636365,0.36363636363636365,0.36363636363636365,0.36363636363636365,0.3617021276595745,0.35714285714285715,0.35714285714285715,0.35714285714285715,0.35555555555555557,0.35135135135135137,0.34394904458598724,0.34375,0.34235976789168276,0.3418803418803419,0.33653846153846156,0.33559322033898303,0.33533834586466166,0.3333333333333333,0.3333333333333333,0.3333333333333333,0.3333333333333333,0.3333333333333333,0.3333333333333333,0.3333333333333333,0.3333333333333333,0.3333333333333333,0.3333333333333333,0.3333333333333333,0.3333333333333333,0.3333333333333333,0.3333333333333333,0.3333333333333333,0.3333333333333333,0.3333333333333333,0.3333333333333333,0.3333333333333333,0.3333333333333333,0.3333333333333333,0.3333333333333333,0.3333333333333333,0.33064516129032256,0.3284132841328413,0.32727272727272727,0.32653061224489793,0.32571428571428573,0.3253012048192771,0.323943661971831,0.32242990654205606,0.3218390804597701,0.32142857142857145,0.32075471698113206,0.3191489361702128,0.3170212765957447,0.3169705469845722,0.3157894736842105,0.3157894736842105,0.3142857142857143,0.3135245901639344,0.3118811881188119,0.3111111111111111,0.31048387096774194,0.3076923076923077,0.30710172744721687,0.3063063063063063,0.30574236937403,0.3055555555555556,0.30538922155688625,0.30456852791878175,0.30434782608695654,0.30141843971631205,0.3,0.3,0.3,0.3,0.3,0.2978723404255319,0.2978723404255319,0.2971014492753623,0.29683698296836986,0.29342218400687875,0.29310344827586204,0.2926829268292683,0.2923076923076923,0.2911392405063291,0.2909090909090909,0.29017857142857145,0.288961038961039,0.28888888888888886,0.28888888888888886,0.28853503184713375,0.2872340425531915,0.2867647058823529,0.2857142857142857,0.2857142857142857,0.2857142857142857,0.2857142857142857,0.2857142857142857,0.2847682119205298,0.2845528455284553,0.2845303867403315,0.28346456692913385,0.2826086956521739,0.2826086956521739,0.27921092564491656,0.2786885245901639,0.2785977859778598,0.2777777777777778,0.2774869109947644,0.2765957446808511,0.2765261627906977,0.2764976958525346,0.2759146341463415,0.27450980392156865,0.27360308285163776,0.2727272727272727,0.2727272727272727,0.2727272727272727,0.2725060827250608,0.27184466019417475,0.2716049382716049,0.2702702702702703,0.2672897196261682,0.26620825147347743,0.2653061224489796,0.2634943181818182,0.2631578947368421,0.2631578947368421,0.26223776223776224,0.2608695652173913,0.2606060606060606,0.2605042016806723,0.25925925925925924,0.25806451612903225,0.25766871165644173,0.2571428571428571,0.2568724650743578,0.25525743292240755,0.25,0.25,0.25,0.25,0.25,0.25,0.25,0.25,0.25,0.25,0.25,0.25,0.25,0.25,0.25,0.25,0.25,0.25,0.25,0.25,0.25,0.25,0.25,0.24812895797351756,0.24273858921161826,0.23961661341853036,0.23933649289099526,0.23541383989145184,0.23529411764705882,0.23529411764705882,0.23529411764705882,0.2336065573770492,0.2319551506657323,0.2314410480349345,0.2311033883579496,0.23076923076923078,0.22988505747126436,0.22942643391521197,0.2265176683781335,0.22641509433962265,0.225531914893617,0.22439024390243903,0.22242647058823528,0.2222222222222222,0.2222222222222222,0.2222222222222222,0.2222222222222222,0.2222222222222222,0.2222222222222222,0.22027605486153579,0.22024471635150167,0.22,0.21739130434782608,0.21739130434782608,0.215210355987055,0.21481876332622601,0.21428571428571427,0.21428571428571427,0.21428571428571427,0.21428571428571427,0.21346153846153845,0.21311475409836064,0.21235521235521235,0.21052631578947367,0.21052631578947367,0.21052631578947367,0.20938628158844766,0.20930232558139536,0.20860927152317882,0.20833333333333334,0.20833333333333334,0.2054380664652568,0.20375521557719053,0.20300751879699247,0.2028985507246377,0.20218579234972678,0.2019900497512438,0.20192307692307693,0.20182291666666666,0.2,0.2,0.2,0.19799498746867167,0.19736842105263158,0.19665271966527198,0.19564061669324828,0.1935483870967742,0.19230769230769232,0.19047619047619047,0.18876404494382024,0.1878453038674033,0.1875,0.1875,0.18421052631578946,0.1824953445065177,0.18181818181818182,0.1808695652173913,0.17647058823529413,0.17567567567567569,0.17525773195876287,0.17391304347826086,0.17391304347826086,0.16901408450704225,0.16894477856752324,0.16777204618029967,0.16666666666666666,0.16216216216216217,0.16,0.1590909090909091,0.1586608442503639,0.15606361829025844,0.15290178571428573,0.15154487493869545,0.1510077059869591,0.14864864864864866,0.14688796680497926,0.14634146341463414,0.14285714285714285,0.14285714285714285,0.14285714285714285,0.13982717989002358,0.1346153846153846,0.13333333333333333,0.125,0.125,0.11967545638945233,0.11552346570397112,0.1111111111111111,0.1111111111111111,0.1111111111111111,0.1111111111111111,0.10526315789473684,0.1,0.1,0.08333333333333333,0.06666666666666667,0.06,0.0,0.0,0.0,0.0,0.0,0.0,0.0,0.0,0.0,0.0,0.0,0.0,0.0,0.0,0.0,0.0,0.0,0.0,0.0,0.0,0.0,0.0,0.0,0.0,0.0,0.0,0.0,0.0,0.0,0.0,0.0,0.0,0.0,0.0,0.0,0.0,0.0,0.0,0.0,0.0,0.0,0.0,0.0,0.0,0.0,0.0,0.0,0.0,0.0,0.0,0.0,0.0,0.0,0.0,0.0,0.0,0.0,0.0,0.0,0.0,0.0,0.0,0.0,0.0,0.0,0.0,0.0,0.0,0.0,0.0,0.0,0.0,0.0,0.0,0.0,0.0,0.0,0.0,0.0,0.0,0.0,0.0,0.0,0.0,0.0,0.0,0.0,0.0,0.0,0.0,0.0,0.0,0.0,0.0,0.0,0.0,0.0,0.0,0.0,0.0,0.0,0.0,0.0,0.0,0.0,0.0,0.0,0.0,0.0,0.0,0.0,0.0,0.0,0.0,0.0,0.0,0.0,0.0,0.0,0.0,0.0,0.0,0.0,0.0,0.0,0.0,0.0,0.0,0.0,0.0,0.0,0.0,0.0,0.0,0.0,0.0,0.0,0.0,0.0,0.0,0.0,0.0,0.0,0.0,0.0,0.0,0.0,0.0,0.0,0.0,0.0,0.0,0.0,0.0,0.0,0.0,0.0,0.0,0.0,0.0,0.0,0.0,0.0,0.0,0.0,0.0,0.0,0.0,0.0,0.0,0.0,0.0,0.0,0.0],\"type\":\"bar\"}],                        {\"barmode\":\"stack\",\"legend\":{\"bgcolor\":\"#F5F6F9\",\"font\":{\"color\":\"#4D5663\"},\"traceorder\":\"normal\"},\"paper_bgcolor\":\"#F5F6F9\",\"plot_bgcolor\":\"#F5F6F9\",\"template\":{\"data\":{\"barpolar\":[{\"marker\":{\"line\":{\"color\":\"#E5ECF6\",\"width\":0.5},\"pattern\":{\"fillmode\":\"overlay\",\"size\":10,\"solidity\":0.2}},\"type\":\"barpolar\"}],\"bar\":[{\"error_x\":{\"color\":\"#2a3f5f\"},\"error_y\":{\"color\":\"#2a3f5f\"},\"marker\":{\"line\":{\"color\":\"#E5ECF6\",\"width\":0.5},\"pattern\":{\"fillmode\":\"overlay\",\"size\":10,\"solidity\":0.2}},\"type\":\"bar\"}],\"carpet\":[{\"aaxis\":{\"endlinecolor\":\"#2a3f5f\",\"gridcolor\":\"white\",\"linecolor\":\"white\",\"minorgridcolor\":\"white\",\"startlinecolor\":\"#2a3f5f\"},\"baxis\":{\"endlinecolor\":\"#2a3f5f\",\"gridcolor\":\"white\",\"linecolor\":\"white\",\"minorgridcolor\":\"white\",\"startlinecolor\":\"#2a3f5f\"},\"type\":\"carpet\"}],\"choropleth\":[{\"colorbar\":{\"outlinewidth\":0,\"ticks\":\"\"},\"type\":\"choropleth\"}],\"contourcarpet\":[{\"colorbar\":{\"outlinewidth\":0,\"ticks\":\"\"},\"type\":\"contourcarpet\"}],\"contour\":[{\"colorbar\":{\"outlinewidth\":0,\"ticks\":\"\"},\"colorscale\":[[0.0,\"#0d0887\"],[0.1111111111111111,\"#46039f\"],[0.2222222222222222,\"#7201a8\"],[0.3333333333333333,\"#9c179e\"],[0.4444444444444444,\"#bd3786\"],[0.5555555555555556,\"#d8576b\"],[0.6666666666666666,\"#ed7953\"],[0.7777777777777778,\"#fb9f3a\"],[0.8888888888888888,\"#fdca26\"],[1.0,\"#f0f921\"]],\"type\":\"contour\"}],\"heatmapgl\":[{\"colorbar\":{\"outlinewidth\":0,\"ticks\":\"\"},\"colorscale\":[[0.0,\"#0d0887\"],[0.1111111111111111,\"#46039f\"],[0.2222222222222222,\"#7201a8\"],[0.3333333333333333,\"#9c179e\"],[0.4444444444444444,\"#bd3786\"],[0.5555555555555556,\"#d8576b\"],[0.6666666666666666,\"#ed7953\"],[0.7777777777777778,\"#fb9f3a\"],[0.8888888888888888,\"#fdca26\"],[1.0,\"#f0f921\"]],\"type\":\"heatmapgl\"}],\"heatmap\":[{\"colorbar\":{\"outlinewidth\":0,\"ticks\":\"\"},\"colorscale\":[[0.0,\"#0d0887\"],[0.1111111111111111,\"#46039f\"],[0.2222222222222222,\"#7201a8\"],[0.3333333333333333,\"#9c179e\"],[0.4444444444444444,\"#bd3786\"],[0.5555555555555556,\"#d8576b\"],[0.6666666666666666,\"#ed7953\"],[0.7777777777777778,\"#fb9f3a\"],[0.8888888888888888,\"#fdca26\"],[1.0,\"#f0f921\"]],\"type\":\"heatmap\"}],\"histogram2dcontour\":[{\"colorbar\":{\"outlinewidth\":0,\"ticks\":\"\"},\"colorscale\":[[0.0,\"#0d0887\"],[0.1111111111111111,\"#46039f\"],[0.2222222222222222,\"#7201a8\"],[0.3333333333333333,\"#9c179e\"],[0.4444444444444444,\"#bd3786\"],[0.5555555555555556,\"#d8576b\"],[0.6666666666666666,\"#ed7953\"],[0.7777777777777778,\"#fb9f3a\"],[0.8888888888888888,\"#fdca26\"],[1.0,\"#f0f921\"]],\"type\":\"histogram2dcontour\"}],\"histogram2d\":[{\"colorbar\":{\"outlinewidth\":0,\"ticks\":\"\"},\"colorscale\":[[0.0,\"#0d0887\"],[0.1111111111111111,\"#46039f\"],[0.2222222222222222,\"#7201a8\"],[0.3333333333333333,\"#9c179e\"],[0.4444444444444444,\"#bd3786\"],[0.5555555555555556,\"#d8576b\"],[0.6666666666666666,\"#ed7953\"],[0.7777777777777778,\"#fb9f3a\"],[0.8888888888888888,\"#fdca26\"],[1.0,\"#f0f921\"]],\"type\":\"histogram2d\"}],\"histogram\":[{\"marker\":{\"pattern\":{\"fillmode\":\"overlay\",\"size\":10,\"solidity\":0.2}},\"type\":\"histogram\"}],\"mesh3d\":[{\"colorbar\":{\"outlinewidth\":0,\"ticks\":\"\"},\"type\":\"mesh3d\"}],\"parcoords\":[{\"line\":{\"colorbar\":{\"outlinewidth\":0,\"ticks\":\"\"}},\"type\":\"parcoords\"}],\"pie\":[{\"automargin\":true,\"type\":\"pie\"}],\"scatter3d\":[{\"line\":{\"colorbar\":{\"outlinewidth\":0,\"ticks\":\"\"}},\"marker\":{\"colorbar\":{\"outlinewidth\":0,\"ticks\":\"\"}},\"type\":\"scatter3d\"}],\"scattercarpet\":[{\"marker\":{\"colorbar\":{\"outlinewidth\":0,\"ticks\":\"\"}},\"type\":\"scattercarpet\"}],\"scattergeo\":[{\"marker\":{\"colorbar\":{\"outlinewidth\":0,\"ticks\":\"\"}},\"type\":\"scattergeo\"}],\"scattergl\":[{\"marker\":{\"colorbar\":{\"outlinewidth\":0,\"ticks\":\"\"}},\"type\":\"scattergl\"}],\"scattermapbox\":[{\"marker\":{\"colorbar\":{\"outlinewidth\":0,\"ticks\":\"\"}},\"type\":\"scattermapbox\"}],\"scatterpolargl\":[{\"marker\":{\"colorbar\":{\"outlinewidth\":0,\"ticks\":\"\"}},\"type\":\"scatterpolargl\"}],\"scatterpolar\":[{\"marker\":{\"colorbar\":{\"outlinewidth\":0,\"ticks\":\"\"}},\"type\":\"scatterpolar\"}],\"scatter\":[{\"fillpattern\":{\"fillmode\":\"overlay\",\"size\":10,\"solidity\":0.2},\"type\":\"scatter\"}],\"scatterternary\":[{\"marker\":{\"colorbar\":{\"outlinewidth\":0,\"ticks\":\"\"}},\"type\":\"scatterternary\"}],\"surface\":[{\"colorbar\":{\"outlinewidth\":0,\"ticks\":\"\"},\"colorscale\":[[0.0,\"#0d0887\"],[0.1111111111111111,\"#46039f\"],[0.2222222222222222,\"#7201a8\"],[0.3333333333333333,\"#9c179e\"],[0.4444444444444444,\"#bd3786\"],[0.5555555555555556,\"#d8576b\"],[0.6666666666666666,\"#ed7953\"],[0.7777777777777778,\"#fb9f3a\"],[0.8888888888888888,\"#fdca26\"],[1.0,\"#f0f921\"]],\"type\":\"surface\"}],\"table\":[{\"cells\":{\"fill\":{\"color\":\"#EBF0F8\"},\"line\":{\"color\":\"white\"}},\"header\":{\"fill\":{\"color\":\"#C8D4E3\"},\"line\":{\"color\":\"white\"}},\"type\":\"table\"}]},\"layout\":{\"annotationdefaults\":{\"arrowcolor\":\"#2a3f5f\",\"arrowhead\":0,\"arrowwidth\":1},\"autotypenumbers\":\"strict\",\"coloraxis\":{\"colorbar\":{\"outlinewidth\":0,\"ticks\":\"\"}},\"colorscale\":{\"diverging\":[[0,\"#8e0152\"],[0.1,\"#c51b7d\"],[0.2,\"#de77ae\"],[0.3,\"#f1b6da\"],[0.4,\"#fde0ef\"],[0.5,\"#f7f7f7\"],[0.6,\"#e6f5d0\"],[0.7,\"#b8e186\"],[0.8,\"#7fbc41\"],[0.9,\"#4d9221\"],[1,\"#276419\"]],\"sequential\":[[0.0,\"#0d0887\"],[0.1111111111111111,\"#46039f\"],[0.2222222222222222,\"#7201a8\"],[0.3333333333333333,\"#9c179e\"],[0.4444444444444444,\"#bd3786\"],[0.5555555555555556,\"#d8576b\"],[0.6666666666666666,\"#ed7953\"],[0.7777777777777778,\"#fb9f3a\"],[0.8888888888888888,\"#fdca26\"],[1.0,\"#f0f921\"]],\"sequentialminus\":[[0.0,\"#0d0887\"],[0.1111111111111111,\"#46039f\"],[0.2222222222222222,\"#7201a8\"],[0.3333333333333333,\"#9c179e\"],[0.4444444444444444,\"#bd3786\"],[0.5555555555555556,\"#d8576b\"],[0.6666666666666666,\"#ed7953\"],[0.7777777777777778,\"#fb9f3a\"],[0.8888888888888888,\"#fdca26\"],[1.0,\"#f0f921\"]]},\"colorway\":[\"#636efa\",\"#EF553B\",\"#00cc96\",\"#ab63fa\",\"#FFA15A\",\"#19d3f3\",\"#FF6692\",\"#B6E880\",\"#FF97FF\",\"#FECB52\"],\"font\":{\"color\":\"#2a3f5f\"},\"geo\":{\"bgcolor\":\"white\",\"lakecolor\":\"white\",\"landcolor\":\"#E5ECF6\",\"showlakes\":true,\"showland\":true,\"subunitcolor\":\"white\"},\"hoverlabel\":{\"align\":\"left\"},\"hovermode\":\"closest\",\"mapbox\":{\"style\":\"light\"},\"paper_bgcolor\":\"white\",\"plot_bgcolor\":\"#E5ECF6\",\"polar\":{\"angularaxis\":{\"gridcolor\":\"white\",\"linecolor\":\"white\",\"ticks\":\"\"},\"bgcolor\":\"#E5ECF6\",\"radialaxis\":{\"gridcolor\":\"white\",\"linecolor\":\"white\",\"ticks\":\"\"}},\"scene\":{\"xaxis\":{\"backgroundcolor\":\"#E5ECF6\",\"gridcolor\":\"white\",\"gridwidth\":2,\"linecolor\":\"white\",\"showbackground\":true,\"ticks\":\"\",\"zerolinecolor\":\"white\"},\"yaxis\":{\"backgroundcolor\":\"#E5ECF6\",\"gridcolor\":\"white\",\"gridwidth\":2,\"linecolor\":\"white\",\"showbackground\":true,\"ticks\":\"\",\"zerolinecolor\":\"white\"},\"zaxis\":{\"backgroundcolor\":\"#E5ECF6\",\"gridcolor\":\"white\",\"gridwidth\":2,\"linecolor\":\"white\",\"showbackground\":true,\"ticks\":\"\",\"zerolinecolor\":\"white\"}},\"shapedefaults\":{\"line\":{\"color\":\"#2a3f5f\"}},\"ternary\":{\"aaxis\":{\"gridcolor\":\"white\",\"linecolor\":\"white\",\"ticks\":\"\"},\"baxis\":{\"gridcolor\":\"white\",\"linecolor\":\"white\",\"ticks\":\"\"},\"bgcolor\":\"#E5ECF6\",\"caxis\":{\"gridcolor\":\"white\",\"linecolor\":\"white\",\"ticks\":\"\"}},\"title\":{\"x\":0.05},\"xaxis\":{\"automargin\":true,\"gridcolor\":\"white\",\"linecolor\":\"white\",\"ticks\":\"\",\"title\":{\"standoff\":15},\"zerolinecolor\":\"white\",\"zerolinewidth\":2},\"yaxis\":{\"automargin\":true,\"gridcolor\":\"white\",\"linecolor\":\"white\",\"ticks\":\"\",\"title\":{\"standoff\":15},\"zerolinecolor\":\"white\",\"zerolinewidth\":2}}},\"title\":{\"font\":{\"color\":\"#4D5663\"},\"text\":\"Stacked Bar Chart: City vs Electric Vehicle Types (Proportion)\"},\"xaxis\":{\"gridcolor\":\"#E1E5ED\",\"showgrid\":true,\"tickfont\":{\"color\":\"#4D5663\"},\"title\":{\"font\":{\"color\":\"#4D5663\"},\"text\":\"\"},\"zerolinecolor\":\"#E1E5ED\"},\"yaxis\":{\"gridcolor\":\"#E1E5ED\",\"showgrid\":true,\"tickfont\":{\"color\":\"#4D5663\"},\"title\":{\"font\":{\"color\":\"#4D5663\"},\"text\":\"\"},\"zerolinecolor\":\"#E1E5ED\"}},                        {\"showLink\": true, \"linkText\": \"Export to plot.ly\", \"plotlyServerURL\": \"https://plot.ly\", \"responsive\": true}                    ).then(function(){\n",
       "                            \n",
       "var gd = document.getElementById('672753d8-ce09-46dd-8c41-4601c390438f');\n",
       "var x = new MutationObserver(function (mutations, observer) {{\n",
       "        var display = window.getComputedStyle(gd).display;\n",
       "        if (!display || display === 'none') {{\n",
       "            console.log([gd, 'removed!']);\n",
       "            Plotly.purge(gd);\n",
       "            observer.disconnect();\n",
       "        }}\n",
       "}});\n",
       "\n",
       "// Listen for the removal of the full notebook cells\n",
       "var notebookContainer = gd.closest('#notebook-container');\n",
       "if (notebookContainer) {{\n",
       "    x.observe(notebookContainer, {childList: true});\n",
       "}}\n",
       "\n",
       "// Listen for the clearing of the current output cell\n",
       "var outputEl = gd.closest('.output');\n",
       "if (outputEl) {{\n",
       "    x.observe(outputEl, {childList: true});\n",
       "}}\n",
       "\n",
       "                        })                };                });            </script>        </div>"
      ]
     },
     "metadata": {},
     "output_type": "display_data"
    }
   ],
   "source": [
    "proportions = df.groupby('City')['Electric Vehicle Type'].value_counts(normalize=True).unstack().fillna(0)\n",
    "proportions = proportions.sort_values('Battery Electric Vehicle (BEV)')\n",
    "proportions.iplot(kind='bar', barmode='stack', title='Stacked Bar Chart: City vs Electric Vehicle Types (Proportion)')"
   ]
  },
  {
   "cell_type": "markdown",
   "metadata": {},
   "source": [
    "* Zoom in to see details of each city. Hover to see actual ratio"
   ]
  }
 ],
 "metadata": {
  "kernelspec": {
   "display_name": "Python 3",
   "language": "python",
   "name": "python3"
  },
  "language_info": {
   "codemirror_mode": {
    "name": "ipython",
    "version": 3
   },
   "file_extension": ".py",
   "mimetype": "text/x-python",
   "name": "python",
   "nbconvert_exporter": "python",
   "pygments_lexer": "ipython3",
   "version": "3.8.5"
  }
 },
 "nbformat": 4,
 "nbformat_minor": 4
}
