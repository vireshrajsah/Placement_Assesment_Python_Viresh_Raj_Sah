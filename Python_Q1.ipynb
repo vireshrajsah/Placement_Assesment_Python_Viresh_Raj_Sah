{
 "cells": [
  {
   "cell_type": "markdown",
   "metadata": {},
   "source": [
    "# Question 1:\n",
    "Write a program that takes a string as input, and counts the frequency of each word in the string, there might be repeated characters in the string. Your task is to find the highest frequency and returns the length of the highest-frequency word."
   ]
  },
  {
   "cell_type": "code",
   "execution_count": 3,
   "metadata": {},
   "outputs": [
    {
     "name": "stdout",
     "output_type": "stream",
     "text": [
      "Enter a string:\tmy my name name is is is viresh\n",
      "Word: 'viresh' \t Frequency: 1\n",
      "Word: 'name' \t Frequency: 2\n",
      "Word: 'is' \t Frequency: 3\n",
      "Word: 'my' \t Frequency: 2\n",
      "Word with highest frequency:\t is\n",
      "Length of the word with higest frequency:\t 2\n"
     ]
    }
   ],
   "source": [
    "def count_word_frequency(s:str)-> dict:\n",
    "    '''\n",
    "    Takes string and returns frwquency dictionary\n",
    "    params:\n",
    "        s: (str) input string\n",
    "    '''\n",
    "    word_frequency = dict()                  # initializing empty dictionary\n",
    "    word_list = list(set(s.split(' ')))      # unique words list\n",
    "    for word in word_list:\n",
    "        word_frequency[word] = s.count(word) # updating wordfrequency dictiponary\n",
    "    \n",
    "    return word_frequency\n",
    "\n",
    "if __name__ == \"__main__\":\n",
    "    input_str = input(\"Enter a string:\\t\")  # taking input from user\n",
    "    word_frequency = count_word_frequency(input_str) # function call\n",
    "\n",
    "    for word, frequency in word_frequency.items():\n",
    "        print(f\"Word: '{word}' \\t Frequency: {frequency}\")\n",
    "        \n",
    "    word_with_highest_frequency = max(word_frequency, key = word_frequency.get)\n",
    "    print('Word with highest frequency:\\t',word_with_highest_frequency)\n",
    "    print('Length of the word with higest frequency:\\t', len(word_with_highest_frequency))"
   ]
  }
 ],
 "metadata": {
  "kernelspec": {
   "display_name": "Python 3",
   "language": "python",
   "name": "python3"
  },
  "language_info": {
   "codemirror_mode": {
    "name": "ipython",
    "version": 3
   },
   "file_extension": ".py",
   "mimetype": "text/x-python",
   "name": "python",
   "nbconvert_exporter": "python",
   "pygments_lexer": "ipython3",
   "version": "3.8.5"
  }
 },
 "nbformat": 4,
 "nbformat_minor": 2
}
